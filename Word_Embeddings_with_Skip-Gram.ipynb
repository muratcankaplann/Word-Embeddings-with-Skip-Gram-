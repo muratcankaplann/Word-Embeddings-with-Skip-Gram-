{
  "cells": [
    {
      "cell_type": "code",
      "execution_count": null,
      "metadata": {
        "colab": {
          "base_uri": "https://localhost:8080/"
        },
        "id": "mQKmxF3HK9PL",
        "outputId": "e5da9dd2-1a67-4a9c-f7e6-38ceaffa8f90"
      },
      "outputs": [
        {
          "output_type": "stream",
          "name": "stdout",
          "text": [
            "Mounted at /content/drive\n"
          ]
        }
      ],
      "source": [
        "from google.colab import drive\n",
        "drive.mount('/content/drive')"
      ]
    },
    {
      "cell_type": "markdown",
      "source": [
        "Instead of a report, I explained each step as text in this code."
      ],
      "metadata": {
        "id": "W7dCtXwU9E9o"
      }
    },
    {
      "cell_type": "code",
      "source": [
        "import re\n",
        "import nltk\n",
        "from nltk.tokenize import word_tokenize\n",
        "from nltk.tokenize import sent_tokenize\n",
        "import collections\n",
        "import matplotlib.pyplot as plt\n",
        "import numpy as np\n",
        "from collections import Counter,defaultdict\n",
        "import math\n",
        "import tqdm\n",
        "import pandas as pd\n",
        "import torch\n",
        "import torch.nn as nn\n",
        "import torch.nn.functional as F\n",
        "import torch.optim as optim\n",
        "from torch.utils.data import Dataset, DataLoader\n",
        "import time\n",
        "from sklearn.model_selection import train_test_split\n",
        "from google.colab import files\n",
        "\n",
        "nltk.download(\"popular\")"
      ],
      "metadata": {
        "id": "_-BY-41Bf5Uy",
        "colab": {
          "base_uri": "https://localhost:8080/"
        },
        "outputId": "1366b55c-50af-4585-c655-b31afe7a3ac4"
      },
      "execution_count": null,
      "outputs": [
        {
          "output_type": "stream",
          "name": "stderr",
          "text": [
            "[nltk_data] Downloading collection 'popular'\n",
            "[nltk_data]    | \n",
            "[nltk_data]    | Downloading package cmudict to /root/nltk_data...\n",
            "[nltk_data]    |   Unzipping corpora/cmudict.zip.\n",
            "[nltk_data]    | Downloading package gazetteers to /root/nltk_data...\n",
            "[nltk_data]    |   Unzipping corpora/gazetteers.zip.\n",
            "[nltk_data]    | Downloading package genesis to /root/nltk_data...\n",
            "[nltk_data]    |   Unzipping corpora/genesis.zip.\n",
            "[nltk_data]    | Downloading package gutenberg to /root/nltk_data...\n",
            "[nltk_data]    |   Unzipping corpora/gutenberg.zip.\n",
            "[nltk_data]    | Downloading package inaugural to /root/nltk_data...\n",
            "[nltk_data]    |   Unzipping corpora/inaugural.zip.\n",
            "[nltk_data]    | Downloading package movie_reviews to\n",
            "[nltk_data]    |     /root/nltk_data...\n",
            "[nltk_data]    |   Unzipping corpora/movie_reviews.zip.\n",
            "[nltk_data]    | Downloading package names to /root/nltk_data...\n",
            "[nltk_data]    |   Unzipping corpora/names.zip.\n",
            "[nltk_data]    | Downloading package shakespeare to /root/nltk_data...\n",
            "[nltk_data]    |   Unzipping corpora/shakespeare.zip.\n",
            "[nltk_data]    | Downloading package stopwords to /root/nltk_data...\n",
            "[nltk_data]    |   Unzipping corpora/stopwords.zip.\n",
            "[nltk_data]    | Downloading package treebank to /root/nltk_data...\n",
            "[nltk_data]    |   Unzipping corpora/treebank.zip.\n",
            "[nltk_data]    | Downloading package twitter_samples to\n",
            "[nltk_data]    |     /root/nltk_data...\n",
            "[nltk_data]    |   Unzipping corpora/twitter_samples.zip.\n",
            "[nltk_data]    | Downloading package omw to /root/nltk_data...\n",
            "[nltk_data]    | Downloading package omw-1.4 to /root/nltk_data...\n",
            "[nltk_data]    | Downloading package wordnet to /root/nltk_data...\n",
            "[nltk_data]    | Downloading package wordnet2021 to /root/nltk_data...\n",
            "[nltk_data]    | Downloading package wordnet31 to /root/nltk_data...\n",
            "[nltk_data]    | Downloading package wordnet_ic to /root/nltk_data...\n",
            "[nltk_data]    |   Unzipping corpora/wordnet_ic.zip.\n",
            "[nltk_data]    | Downloading package words to /root/nltk_data...\n",
            "[nltk_data]    |   Unzipping corpora/words.zip.\n",
            "[nltk_data]    | Downloading package maxent_ne_chunker to\n",
            "[nltk_data]    |     /root/nltk_data...\n",
            "[nltk_data]    |   Unzipping chunkers/maxent_ne_chunker.zip.\n",
            "[nltk_data]    | Downloading package punkt to /root/nltk_data...\n",
            "[nltk_data]    |   Unzipping tokenizers/punkt.zip.\n",
            "[nltk_data]    | Downloading package snowball_data to\n",
            "[nltk_data]    |     /root/nltk_data...\n",
            "[nltk_data]    | Downloading package averaged_perceptron_tagger to\n",
            "[nltk_data]    |     /root/nltk_data...\n",
            "[nltk_data]    |   Unzipping taggers/averaged_perceptron_tagger.zip.\n",
            "[nltk_data]    | \n",
            "[nltk_data]  Done downloading collection popular\n"
          ]
        },
        {
          "output_type": "execute_result",
          "data": {
            "text/plain": [
              "True"
            ]
          },
          "metadata": {},
          "execution_count": 2
        }
      ]
    },
    {
      "cell_type": "code",
      "execution_count": null,
      "metadata": {
        "colab": {
          "base_uri": "https://localhost:8080/"
        },
        "id": "3fE5nYUuWhma",
        "outputId": "4ad6d523-fe18-4132-8bf4-53b25fd96c0d"
      },
      "outputs": [
        {
          "output_type": "stream",
          "name": "stdout",
          "text": [
            "/content/drive/My Drive/Data\n"
          ]
        }
      ],
      "source": [
        "%cd /content/drive/My Drive/Data"
      ]
    },
    {
      "cell_type": "code",
      "source": [
        "with open('cbt_train.txt', 'r') as f:\n",
        "    lines = f.readlines()\n",
        "\n",
        "start_title = \"_BOOK_TITLE_ : Andrew_Lang___The_Crimson_Fairy_Book.txt.out\"\n",
        "end_title = \"_BOOK_TITLE_ : Andrew_Lang___The_Lilac_Fairy_Book.txt.out\"\n",
        "\n",
        "start_found = False\n",
        "\n",
        "text = \"\"\n",
        "\n",
        "for line in lines:\n",
        "    if not start_found:\n",
        "        if start_title in line:\n",
        "            start_found = True\n",
        "    else:\n",
        "        if end_title in line:\n",
        "            break\n",
        "        else:\n",
        "            text += line\n"
      ],
      "metadata": {
        "id": "8YK7xezYcPu5"
      },
      "execution_count": null,
      "outputs": []
    },
    {
      "cell_type": "markdown",
      "source": [
        "In the above code, Andrew Lange's The Crimson Fairy Book was retrieved and the BOOK TITLE parts were removed"
      ],
      "metadata": {
        "id": "DCTk51McczfZ"
      }
    },
    {
      "cell_type": "code",
      "source": [
        "text =re.sub(r\"(?m)^(\\_BOOK_TITLE\\_|CHAPTER).*\\n?\",\"\",text,re.MULTILINE) # some preprocessing but not all"
      ],
      "metadata": {
        "id": "Wri1-HvwfwxW"
      },
      "execution_count": null,
      "outputs": []
    },
    {
      "cell_type": "code",
      "source": [
        "pattern = r'\\b\\w*\\.jpg\\w*\\b'\n",
        "\n",
        "# Search for the pattern in the text using the re.search() function\n",
        "match = re.search(pattern, text)\n",
        "\n",
        "# Check if the pattern was found\n",
        "if match:\n",
        "    print(\"Pattern found:\", match.group(0))\n",
        "else:\n",
        "    print(\"Pattern not found.\")"
      ],
      "metadata": {
        "colab": {
          "base_uri": "https://localhost:8080/"
        },
        "id": "PWKDaIcxf9Cc",
        "outputId": "b2e66ff5-0b14-4bad-f813-90c44e31bc92"
      },
      "execution_count": null,
      "outputs": [
        {
          "output_type": "stream",
          "name": "stdout",
          "text": [
            "Pattern not found.\n"
          ]
        }
      ]
    },
    {
      "cell_type": "markdown",
      "source": [
        "No image annotations"
      ],
      "metadata": {
        "id": "1XuiaDtsjlGA"
      }
    },
    {
      "cell_type": "code",
      "source": [
        "pattern = r'\\b\\w*CHAPTER\\w*\\b'\n",
        "\n",
        "# Search for the pattern in the text using the re.search() function\n",
        "match = re.search(pattern, text)\n",
        "\n",
        "# Check if the pattern was found\n",
        "if match:\n",
        "    print(\"Pattern found:\", match.group(0))\n",
        "else:\n",
        "    print(\"Pattern not found.\")"
      ],
      "metadata": {
        "colab": {
          "base_uri": "https://localhost:8080/"
        },
        "id": "-V8kXPscjjto",
        "outputId": "7c95d971-765e-4878-d6a5-afa17bb29ea3"
      },
      "execution_count": null,
      "outputs": [
        {
          "output_type": "stream",
          "name": "stdout",
          "text": [
            "Pattern not found.\n"
          ]
        }
      ]
    },
    {
      "cell_type": "markdown",
      "source": [
        "No Chapter title pattern found"
      ],
      "metadata": {
        "id": "8NtfD-Ful1eo"
      }
    },
    {
      "cell_type": "code",
      "source": [
        "page_pattern = r'\\bp\\d+\\b'\n",
        "match = re.search(page_pattern, text)\n",
        "\n",
        "# Check if the pattern was found\n",
        "if match:\n",
        "    print(\"Pattern found:\", match.group(0))\n",
        "else:\n",
        "    print(\"Pattern not found.\")"
      ],
      "metadata": {
        "colab": {
          "base_uri": "https://localhost:8080/"
        },
        "id": "qSP29Q1bl54U",
        "outputId": "06bfddb2-d52c-4ed4-b049-992f0980b4a1"
      },
      "execution_count": null,
      "outputs": [
        {
          "output_type": "stream",
          "name": "stdout",
          "text": [
            "Pattern not found.\n"
          ]
        }
      ]
    },
    {
      "cell_type": "markdown",
      "source": [
        "No page number patter."
      ],
      "metadata": {
        "id": "hJfBdtljGG_Q"
      }
    },
    {
      "cell_type": "code",
      "source": [
        "bracket_pattern = r'-LSB-\\s*(.*?)\\s*-RSB-'\n",
        "\n",
        "match = re.search(bracket_pattern, text)\n",
        "\n",
        "# Check if the pattern was found\n",
        "if match:\n",
        "    print(\"Pattern found:\", match.group(0))\n",
        "else:\n",
        "    print(\"Pattern not found.\")\n"
      ],
      "metadata": {
        "colab": {
          "base_uri": "https://localhost:8080/"
        },
        "id": "FM9mVCGPn82G",
        "outputId": "c6e33bda-1155-4f01-eec7-b02428369bbb"
      },
      "execution_count": null,
      "outputs": [
        {
          "output_type": "stream",
          "name": "stdout",
          "text": [
            "Pattern found: -LSB- From Ungarische Mahrehen . -RSB-\n"
          ]
        }
      ]
    },
    {
      "cell_type": "code",
      "source": [
        "text = text.replace(\"-LSB-\", \"\").replace(\"-RSB-\", \"\")\n",
        "\n",
        "\n"
      ],
      "metadata": {
        "id": "BnvxG0taoMFd"
      },
      "execution_count": null,
      "outputs": []
    },
    {
      "cell_type": "code",
      "source": [
        "bracket_pattern = r'-LSB-\\s*(.*?)\\s*-RSB-'\n",
        "\n",
        "match = re.search(bracket_pattern, text)\n",
        "\n",
        "# Check if the pattern was found\n",
        "if match:\n",
        "    print(\"Pattern found:\", match.group(0))\n",
        "else:\n",
        "    print(\"Pattern not found.\")"
      ],
      "metadata": {
        "colab": {
          "base_uri": "https://localhost:8080/"
        },
        "id": "efr6QxS-oVRl",
        "outputId": "cd0c75c9-3503-4884-b3b1-1a603ccedb0e"
      },
      "execution_count": null,
      "outputs": [
        {
          "output_type": "stream",
          "name": "stdout",
          "text": [
            "Pattern not found.\n"
          ]
        }
      ]
    },
    {
      "cell_type": "markdown",
      "source": [
        "Deleting -LSB and -RSB parts in the text"
      ],
      "metadata": {
        "id": "BQxqjxJDGPDT"
      }
    },
    {
      "cell_type": "code",
      "source": [
        "sentence_tokens= sent_tokenize(text.lower())"
      ],
      "metadata": {
        "id": "Nj03Zlc1h6lG"
      },
      "execution_count": null,
      "outputs": []
    },
    {
      "cell_type": "code",
      "source": [
        "sentence_tokens[0:10]"
      ],
      "metadata": {
        "colab": {
          "base_uri": "https://localhost:8080/"
        },
        "id": "e-UDDrjVrOD_",
        "outputId": "a101b4f3-1e4c-43fc-f4b7-fdff3633eeca"
      },
      "execution_count": null,
      "outputs": [
        {
          "output_type": "execute_result",
          "data": {
            "text/plain": [
              "[\"lovely ilonka there was once a king 's son who told his father that he wished to marry .\",\n",
              " \"` no , no ! '\",\n",
              " 'said the king ; ` you must not be in such a hurry .',\n",
              " 'wait till you have done some great deed .',\n",
              " \"my father did not let me marry till i had won the golden sword you see me wear . '\",\n",
              " 'the prince was much disappointed , but he never dreamed of disobeying his father , and he began to think with all his might what he could do .',\n",
              " 'it was no use staying at home , so one day he wandered out into the world to try his luck , and as he walked along he came to a little hut in which he found an old woman crouching over the fire .',\n",
              " '` good evening , mother .',\n",
              " \"i see you have lived long in this world ; do you know anything about the three bulrushes ? '\",\n",
              " \"` yes , indeed , i 've lived long and been much about in the world , but i have never seen or heard anything of what you ask .\"]"
            ]
          },
          "metadata": {},
          "execution_count": 13
        }
      ]
    },
    {
      "cell_type": "markdown",
      "source": [
        "I split the text into sentences using the nltk library"
      ],
      "metadata": {
        "id": "hf9VoXaeGVK-"
      }
    },
    {
      "cell_type": "code",
      "source": [
        "word_token =[word_tokenize(token) for token in sentence_tokens]"
      ],
      "metadata": {
        "id": "U1Yxa3hgrYih"
      },
      "execution_count": null,
      "outputs": []
    },
    {
      "cell_type": "code",
      "source": [
        "print(word_token[0])"
      ],
      "metadata": {
        "colab": {
          "base_uri": "https://localhost:8080/"
        },
        "id": "LbeWeIB_rl6N",
        "outputId": "dd5da306-57f2-4d39-d93b-9788ad65fe1e"
      },
      "execution_count": null,
      "outputs": [
        {
          "output_type": "stream",
          "name": "stdout",
          "text": [
            "['lovely', 'ilonka', 'there', 'was', 'once', 'a', 'king', \"'s\", 'son', 'who', 'told', 'his', 'father', 'that', 'he', 'wished', 'to', 'marry', '.']\n"
          ]
        }
      ]
    },
    {
      "cell_type": "markdown",
      "source": [
        "word_token list has sentences as lists."
      ],
      "metadata": {
        "id": "PAj75sYXGyGO"
      }
    },
    {
      "cell_type": "code",
      "source": [
        "token_list = [tok  for sent in word_token  for tok in sent ]"
      ],
      "metadata": {
        "id": "xHl0aJoorjHz"
      },
      "execution_count": null,
      "outputs": []
    },
    {
      "cell_type": "code",
      "source": [
        "len(token_list)"
      ],
      "metadata": {
        "colab": {
          "base_uri": "https://localhost:8080/"
        },
        "id": "tfxypeasG-2I",
        "outputId": "de0bdce8-54c2-4689-887e-9233af5a76bc"
      },
      "execution_count": null,
      "outputs": [
        {
          "output_type": "execute_result",
          "data": {
            "text/plain": [
              "113786"
            ]
          },
          "metadata": {},
          "execution_count": 17
        }
      ]
    },
    {
      "cell_type": "markdown",
      "source": [
        "token_list has all the tokens(words) in text and has 113786 tokens"
      ],
      "metadata": {
        "id": "yNfzAAK7HFtQ"
      }
    },
    {
      "cell_type": "code",
      "source": [
        "token_list = [re.sub(r'\\W+', '', item) for item in token_list if re.sub(r'\\W+', '', item)]"
      ],
      "metadata": {
        "id": "ce0IWb0vz_S-"
      },
      "execution_count": null,
      "outputs": []
    },
    {
      "cell_type": "code",
      "source": [
        "word_token_list = []\n",
        "for sent in word_token:\n",
        "    token_list_2 = [re.sub(r'\\W+', '', item) for item in sent if re.sub(r'\\W+', '', item)]\n",
        "    word_token_list.append(token_list_2)"
      ],
      "metadata": {
        "id": "PT1-dyOFXqgy"
      },
      "execution_count": null,
      "outputs": []
    },
    {
      "cell_type": "code",
      "source": [
        "len(token_list)"
      ],
      "metadata": {
        "colab": {
          "base_uri": "https://localhost:8080/"
        },
        "id": "XQeNCBwSYUvu",
        "outputId": "01477515-d747-46df-97fd-3b9ce59d5cf7"
      },
      "execution_count": null,
      "outputs": [
        {
          "output_type": "execute_result",
          "data": {
            "text/plain": [
              "97850"
            ]
          },
          "metadata": {},
          "execution_count": 20
        }
      ]
    },
    {
      "cell_type": "markdown",
      "source": [
        "The code above is made for the future BPE algorithm. There is a list called symbols in the BPE algorithm to be used in the future. In this list of symbols, all symbols used in the text are primarily defined as letters in the alphabet, \"_\" and [UNK]. But there are many non-word characters in this text. (like \".\",\";\" etc.) Therefore, instead of assigning all used symbols to the symbols list, these symbols have been removed with the re library. If a token contains these nonword characters, this character has been removed. There are also some stand-alone nonword characters. (for example one token is directly \",\") Therefore, if the token turns into an empty string after this operation, that token is not included. Adding these characters to the symbols list would be another solution."
      ],
      "metadata": {
        "id": "nOF4Su47HXuR"
      }
    },
    {
      "cell_type": "code",
      "source": [
        "for i in range(len(word_token_list)):\n",
        "    for j in range(len(word_token_list[i])):\n",
        "        word_token_list[i][j] = word_token_list[i][j] + \"_\""
      ],
      "metadata": {
        "id": "ugK-icw7KiSw"
      },
      "execution_count": null,
      "outputs": []
    },
    {
      "cell_type": "code",
      "source": [
        "word_token_list[0]"
      ],
      "metadata": {
        "colab": {
          "base_uri": "https://localhost:8080/"
        },
        "id": "xZMmhOmJL5Hs",
        "outputId": "aeebabdd-5fba-49f9-9548-b120d2b73a49"
      },
      "execution_count": null,
      "outputs": [
        {
          "output_type": "execute_result",
          "data": {
            "text/plain": [
              "['lovely_',\n",
              " 'ilonka_',\n",
              " 'there_',\n",
              " 'was_',\n",
              " 'once_',\n",
              " 'a_',\n",
              " 'king_',\n",
              " 's_',\n",
              " 'son_',\n",
              " 'who_',\n",
              " 'told_',\n",
              " 'his_',\n",
              " 'father_',\n",
              " 'that_',\n",
              " 'he_',\n",
              " 'wished_',\n",
              " 'to_',\n",
              " 'marry_']"
            ]
          },
          "metadata": {},
          "execution_count": 22
        }
      ]
    },
    {
      "cell_type": "code",
      "source": [
        "for i in range(len(token_list)):\n",
        "    token_list[i] = token_list[i] + '_'"
      ],
      "metadata": {
        "id": "JTd2o2heIvzS"
      },
      "execution_count": null,
      "outputs": []
    },
    {
      "cell_type": "markdown",
      "source": [
        "In both lists above, \"_\" has been added to the end of all tokens. This is for BPE algorithm"
      ],
      "metadata": {
        "id": "vDIzRsgTJDmq"
      }
    },
    {
      "cell_type": "code",
      "source": [
        "len(set(token_list))"
      ],
      "metadata": {
        "colab": {
          "base_uri": "https://localhost:8080/"
        },
        "id": "FzOCrZGu3qkd",
        "outputId": "2d4a9981-1ae1-4898-97ef-e5ba361d556a"
      },
      "execution_count": null,
      "outputs": [
        {
          "output_type": "execute_result",
          "data": {
            "text/plain": [
              "5248"
            ]
          },
          "metadata": {},
          "execution_count": 24
        }
      ]
    },
    {
      "cell_type": "markdown",
      "source": [
        "5248 different words appear in text"
      ],
      "metadata": {
        "id": "xx5AcOLVJRN_"
      }
    },
    {
      "cell_type": "code",
      "source": [
        "token_list[:5]"
      ],
      "metadata": {
        "colab": {
          "base_uri": "https://localhost:8080/"
        },
        "id": "YCgl34G_uCyY",
        "outputId": "bc546474-2e86-4964-9cce-395520e0357e"
      },
      "execution_count": null,
      "outputs": [
        {
          "output_type": "execute_result",
          "data": {
            "text/plain": [
              "['lovely_', 'ilonka_', 'there_', 'was_', 'once_']"
            ]
          },
          "metadata": {},
          "execution_count": 25
        }
      ]
    },
    {
      "cell_type": "markdown",
      "source": [
        "**BPE ALGORITHM**"
      ],
      "metadata": {
        "id": "HVGoyNUMJb9h"
      }
    },
    {
      "cell_type": "code",
      "source": [
        "raw_token_freqs = {}\n",
        "\n",
        "for word in token_list:\n",
        "    if word in raw_token_freqs:\n",
        "        raw_token_freqs[word] += 1\n",
        "    else:\n",
        "        raw_token_freqs[word] = 1\n",
        "\n",
        "print(raw_token_freqs)"
      ],
      "metadata": {
        "colab": {
          "base_uri": "https://localhost:8080/"
        },
        "id": "gyKam6xXuGtJ",
        "outputId": "74427d1c-175c-4a73-a28b-55c76bfffe4d"
      },
      "execution_count": null,
      "outputs": [
        {
          "output_type": "stream",
          "name": "stdout",
          "text": [
            "{'lovely_': 22, 'ilonka_': 12, 'there_': 295, 'was_': 1443, 'once_': 167, 'a_': 1902, 'king_': 545, 's_': 415, 'son_': 163, 'who_': 368, 'told_': 141, 'his_': 1514, 'father_': 170, 'that_': 1129, 'he_': 2621, 'wished_': 29, 'to_': 2997, 'marry_': 34, 'no_': 350, 'said_': 519, 'the_': 6837, 'you_': 1124, 'must_': 143, 'not_': 693, 'be_': 510, 'in_': 1283, 'such_': 75, 'hurry_': 9, 'wait_': 19, 'till_': 166, 'have_': 501, 'done_': 86, 'some_': 212, 'great_': 132, 'deed_': 5, 'my_': 428, 'did_': 207, 'let_': 98, 'me_': 358, 'i_': 928, 'had_': 988, 'won_': 5, 'golden_': 45, 'sword_': 68, 'see_': 165, 'wear_': 5, 'prince_': 326, 'much_': 103, 'disappointed_': 2, 'but_': 793, 'never_': 137, 'dreamed_': 10, 'of_': 1717, 'disobeying_': 1, 'and_': 4211, 'began_': 87, 'think_': 41, 'with_': 686, 'all_': 508, 'might_': 102, 'what_': 317, 'could_': 271, 'do_': 297, 'it_': 1028, 'use_': 33, 'staying_': 5, 'at_': 670, 'home_': 145, 'so_': 528, 'one_': 393, 'day_': 173, 'wandered_': 28, 'out_': 395, 'into_': 291, 'world_': 71, 'try_': 20, 'luck_': 27, 'as_': 811, 'walked_': 27, 'along_': 30, 'came_': 197, 'little_': 203, 'hut_': 19, 'which_': 312, 'found_': 116, 'an_': 156, 'old_': 234, 'woman_': 68, 'crouching_': 3, 'over_': 151, 'fire_': 39, 'good_': 148, 'evening_': 43, 'mother_': 109, 'lived_': 77, 'long_': 130, 'this_': 392, 'know_': 89, 'anything_': 48, 'about_': 149, 'three_': 102, 'bulrushes_': 7, 'yes_': 24, 'indeed_': 36, 've_': 7, 'been_': 180, 'seen_': 58, 'or_': 132, 'heard_': 107, 'ask_': 52, 'still_': 93, 'if_': 362, 'will_': 445, 'tomorrow_': 18, 'may_': 53, 'able_': 29, 'tell_': 136, 'something_': 45, 'well_': 170, 'waited_': 16, 'morning_': 110, 'quite_': 91, 'early_': 16, 'appeared_': 18, 'took_': 154, 'pipe_': 2, 'blew_': 5, 'moment_': 59, 'crows_': 4, 'were_': 323, 'flying_': 20, 'her_': 685, 'missing_': 4, 'then_': 305, 'she_': 582, 'asked_': 148, 'they_': 662, 'knew_': 63, 'them_': 377, 'went_': 229, 'on_': 582, 'way_': 121, 'further_': 17, 'another_': 67, 'man_': 384, 'being_': 52, 'questioned_': 7, 'nothing_': 95, 'begged_': 40, 'stay_': 41, 'overnight_': 1, 'next_': 96, 'called_': 56, 'ravens_': 2, 'together_': 52, 'too_': 63, 'bade_': 46, 'him_': 946, 'farewell_': 20, 'set_': 106, 'far_': 70, 'crossed_': 4, 'seven_': 26, 'kingdoms_': 2, 'last_': 122, 'house_': 110, 'dear_': 45, 'politely_': 5, 'answered_': 186, 'is_': 440, 'lucky_': 19, 'for_': 859, 'spoke_': 28, 'would_': 328, 'met_': 26, 'horrible_': 14, 'death_': 52, 'where_': 207, 'are_': 200, 'going_': 58, 'am_': 128, 'seeking_': 9, 'nt_': 59, 'myself_': 24, 'perhaps_': 23, 'can_': 169, 'lo_': 3, 'behold_': 6, 'every_': 56, 'magpie_': 18, 'flew_': 27, 'up_': 345, 'say_': 68, 'magpies_': 4, 'except_': 11, 'broken_': 5, 'leg_': 6, 'wing_': 2, 'sent_': 59, 'after_': 170, 'when_': 561, 'crippled_': 1, 'only_': 174, 'started_': 14, 'off_': 156, 'lame_': 4, 'reached_': 70, 'stone_': 29, 'wall_': 14, 'many_': 77, 'feet_': 18, 'high_': 28, 'now_': 161, 'behind_': 45, 'wasted_': 2, 'time_': 217, 'horse_': 93, 'leaped_': 1, 'looked_': 57, 'pulled_': 13, 'rode_': 49, 'happened_': 62, 'knock_': 4, 'against_': 16, 'split_': 5, 'open_': 48, 'sprang_': 35, 'girl_': 41, 'heart_': 85, 'love_': 27, 'mine_': 27, 'yours_': 10, 'give_': 107, 'glass_': 3, 'water_': 59, 'how_': 143, 'hand_': 72, 'maiden_': 36, 'away_': 133, 'second_': 26, 'bulrush_': 2, 'experiment_': 2, 'just_': 99, 'same_': 48, 'thing_': 48, 'careful_': 16, 'third_': 38, 'times_': 30, 'lovelier_': 3, 'than_': 163, 'either_': 21, 'others_': 20, 'ready_': 35, 'fly_': 19, 'promised_': 26, 'each_': 55, 'other_': 128, 'always_': 45, 'soon_': 129, 'country_': 61, 'bring_': 42, 'bride_': 24, 'back_': 193, 'fine_': 30, 'coach_': 11, 'town_': 55, 'fetch_': 10, 'field_': 16, 'swineherds_': 1, 'cowherds_': 1, 'feeding_': 7, 'their_': 225, 'droves_': 1, 'left_': 100, 'lrb_': 7, 'name_': 25, 'rrb_': 7, 'care_': 30, 'unluckily_': 3, 'chief_': 4, 'swineherd_': 7, 'ugly_': 3, 'daughter_': 93, 'whilst_': 12, 'dressed_': 17, 'clothes_': 24, 'threw_': 27, 'returned_': 54, 'before_': 219, 'bringing_': 4, 'train_': 1, 'courtiers_': 12, 'escort_': 4, 'stared_': 8, 'saw_': 117, 'however_': 53, 'take_': 96, 'two_': 135, 'days_': 62, 'later_': 7, 'married_': 23, 'gave_': 106, 'crown_': 11, 'peace_': 21, 'very_': 196, 'cheated_': 1, 'though_': 68, 'desired_': 8, 'brought_': 82, 'from_': 316, 'thrown_': 10, 'coachman_': 4, 'bucket_': 3, 'pretty_': 16, 'duck_': 8, 'swimming_': 6, 'wonderingly_': 1, 'sudden_': 7, 'disappeared_': 8, 'dirty_': 7, 'looking_': 44, 'standing_': 22, 'near_': 61, 'managed_': 20, 'get_': 116, 'place_': 76, 'housemaid_': 1, 'palace_': 85, 'course_': 13, 'busy_': 3, 'whenever_': 4, 'spare_': 9, 'sat_': 50, 'down_': 174, 'spin_': 1, 'distaff_': 3, 'turned_': 62, 'itself_': 22, 'spindle_': 2, 'span_': 1, 'by_': 282, 'flax_': 3, 'wound_': 4, 'plenty_': 15, 'queen_': 100, 'rather_': 29, 'flatly_': 1, 'refused_': 12, 'consented_': 10, 'condition_': 6, 'sleep_': 35, 'night_': 83, 'room_': 60, 'angry_': 20, 'scolded_': 6, 'longed_': 11, 'sleeping_': 8, 'draught_': 4, 'supper_': 20, 'ever_': 88, 'bent_': 3, 'sleeper_': 1, 'speak_': 24, 'your_': 308, 'sound_': 22, 'asleep_': 13, 'neither_': 34, 'nor_': 37, 'sadly_': 12, 'thinking_': 28, 'ashamed_': 5, 'own_': 79, 'again_': 139, 'wanted_': 27, 'buy_': 17, 'agreed_': 13, 'conditions_': 1, 'also_': 36, 'more_': 171, 'whisper_': 5, 'sweetly_': 3, 'answer_': 31, 'servants_': 33, 'taken_': 24, 'note_': 2, 'matter_': 31, 'warned_': 4, 'master_': 78, 'eat_': 69, 'drink_': 21, 'offered_': 18, 'nights_': 5, 'running_': 22, 'given_': 31, 'idea_': 13, 'doings_': 2, 'discovered_': 8, 'few_': 53, 'pay_': 26, 'price_': 12, 'felt_': 48, 'fears_': 2, 'sorts_': 16, 'nice_': 12, 'things_': 46, 'declared_': 38, 'hungry_': 22, 'bed_': 51, 'repented_': 1, 'bitterly_': 12, 'promise_': 25, 'late_': 7, 'recall_': 2, 'already_': 14, 'entered_': 32, 'lay_': 57, 'anxiously_': 7, 'waiting_': 22, 'dearest_': 2, 'these_': 100, 'words_': 52, 'bounded_': 2, 'within_': 11, 'embraced_': 1, 'kissed_': 12, 'adventures_': 6, 'since_': 25, 'suffered_': 1, 'deceived_': 6, 'vowed_': 8, 'revenged_': 3, 'orders_': 19, 'wife_': 141, 'should_': 125, 'hanged_': 4, 'rejoicings_': 6, 'fair_': 11, 'yet_': 27, 'dead_': 80, 'why_': 61, 'living_': 19, 'ungarische_': 7, 'mahrehen_': 2, 'upon_': 70, 'lad_': 9, 'eighteen_': 5, 'years_': 67, 'go_': 164, 'fight_': 19, 'war_': 21, 'neighbouring_': 7, 'led_': 41, 'troops_': 2, 'person_': 18, 'act_': 5, 'regent_': 1, 'absence_': 3, 'ordered_': 44, 'account_': 5, 'return_': 38, 'ruled_': 4, 'even_': 74, 'thought_': 120, 'marrying_': 3, 'twentyfifth_': 1, 'birthday_': 9, 'got_': 92, 'eager_': 2, 'remembered_': 22, 'longer_': 28, 'ten_': 19, 'retinue_': 1, 'seek_': 19, 'hardly_': 40, 'twenty_': 4, 'suddenly_': 44, 'himself_': 190, 'camp_': 2, 'delighted_': 19, 'questions_': 10, 'instead_': 35, 'quietly_': 13, 'starting_': 4, 'please_': 13, 'leave_': 52, 'any_': 114, 'people_': 75, 'faithful_': 7, 'servant_': 37, 'stayed_': 12, 'part_': 20, 'journeyed_': 1, 'hill_': 20, 'dale_': 3, 'goldtown_': 2, 'beauty_': 16, 'rest_': 49, 'kindly_': 5, 'received_': 10, 'extremely_': 3, 'goodlooking_': 2, 'charming_': 1, 'manners_': 3, 'lost_': 30, 'asking_': 8, 'parents_': 15, 'joy_': 32, 'wedding_': 31, 'feasting_': 2, 'whole_': 54, 'month_': 10, 'end_': 40, 'journey_': 44, 'spent_': 13, 'first_': 87, 'inn_': 17, 'everyone_': 22, 'slept_': 16, 'kept_': 18, 'watch_': 15, 'midnight_': 12, 'flown_': 4, 'roof_': 1, 'talking_': 12, 'handsome_': 14, 'couple_': 7, 'arrived_': 23, 'here_': 129, 'tonight_': 8, 'seems_': 4, 'pity_': 12, 'lose_': 22, 'lives_': 11, 'truly_': 7, 'crow_': 18, 'midday_': 5, 'strikes_': 1, 'bridge_': 12, 'gold_': 63, 'stream_': 30, 'break_': 8, 'driving_': 5, 'listen_': 31, 'whoever_': 11, 'overhears_': 1, 'tells_': 2, 'we_': 147, 'knees_': 13, 'speaking_': 5, 'close_': 14, 'followed_': 26, 'pigeons_': 3, 'princess_': 111, 'safe_': 15, 'perish_': 1, 'send_': 24, 'carriage_': 25, 'meet_': 24, 'looks_': 4, 'new_': 33, 'paint_': 2, 'seated_': 8, 'raging_': 4, 'wind_': 15, 'rise_': 1, 'whirl_': 1, 'clouds_': 7, 'fall_': 11, 'earth_': 33, 'killed_': 25, 'anyone_': 25, 'hears_': 5, 'betrays_': 1, 'waist_': 10, 'eagles_': 4, 'places_': 3, 'young_': 177, 'does_': 16, 'manage_': 12, 'escape_': 12, 'dangers_': 3, 'means_': 8, 'splendid_': 32, 'embroidered_': 4, 'robe_': 10, 'put_': 104, 'burnt_': 4, 'repeats_': 1, 'turn_': 29, 'head_': 107, 'foot_': 29, 'travellers_': 2, 'breakfasted_': 1, 'dreams_': 6, 'gracious_': 5, 'dreamt_': 3, 'royal_': 31, 'highness_': 4, 'grant_': 7, 'certainly_': 22, 'deceive_': 3, 'entreat_': 3, 'follow_': 15, 'advice_': 12, 'during_': 7, 'make_': 78, 'fuss_': 1, 'dream_': 13, 'prevent_': 4, 'anxious_': 7, 'wish_': 43, 'us_': 79, 'walk_': 11, 'easily_': 23, 'wheels_': 2, 'bad_': 12, 'hold_': 22, 'unsafe_': 1, 'word_': 21, 'held_': 34, 'loaded_': 3, 'horses_': 23, 'luggage_': 1, 'ride_': 20, 'through_': 100, 'bathe_': 3, 'side_': 43, 'without_': 61, 'harm_': 11, 'bought_': 14, 'travels_': 3, 'gone_': 49, 'messenger_': 9, 'majesty_': 41, 'has_': 103, 'beautiful_': 49, 'fitting_': 1, 'entry_': 2, 'amongst_': 7, 'lord_': 11, 'examine_': 4, 'find_': 89, 'right_': 37, 'otherwise_': 3, 'better_': 49, 'our_': 42, 'made_': 111, 'objections_': 2, 'smart_': 2, 'knocked_': 15, 'pieces_': 29, 'frontier_': 1, 'robes_': 9, 'state_': 13, 'implored_': 6, 'obtained_': 2, 'destroy_': 2, 'furious_': 8, 'arts_': 5, 'failed_': 5, 'law_': 2, 'land_': 28, 'escaped_': 7, 'rejoice_': 3, 'safely_': 7, 'imagine_': 5, 'destroyed_': 3, 'sire_': 6, 'annoyed_': 2, 'destruction_': 1, 'direct_': 2, 'everything_': 44, 'possibly_': 4, 'unless_': 5, 'fell_': 60, 'tremendous_': 1, 'rage_': 17, 'council_': 10, 'condemned_': 3, 'gallows_': 11, 'square_': 4, 'front_': 17, 'sentence_': 2, 'read_': 11, 'rope_': 15, 'placed_': 17, 'round_': 97, 'neck_': 15, 'allowed_': 13, 'proved_': 6, 'innocence_': 1, 'paid_': 14, 'heed_': 6, 'story_': 44, 'oh_': 91, 'grieved_': 3, 'pained_': 1, 'most_': 29, 'faithfulness_': 1, 'determined_': 11, 'travel_': 9, 'restoring_': 1, 'life_': 53, 'court_': 18, 'nurse_': 6, 'confided_': 2, 'plans_': 3, 'help_': 57, 'beyond_': 10, 'wood_': 29, 'river_': 10, 'stood_': 65, 'large_': 34, 'mill_': 17, 'leaving_': 20, 'miller_': 5, 'alone_': 39, 'beg_': 9, 'question_': 12, 'excellent_': 1, 'its_': 70, 'machinery_': 2, 'complete_': 2, 'grain_': 5, 'grind_': 2, 'poor_': 54, 'live_': 21, 'inquire_': 6, 'discover_': 7, 'light_': 26, 'anywhere_': 6, 'almost_': 21, 'finding_': 13, 'window_': 26, 'straight_': 26, 'girls_': 10, 'playing_': 16, 'game_': 8, 'lodging_': 5, 'maidens_': 5, 'happens_': 4, 'thirty_': 1, 'lover_': 1, 'come_': 169, 'woo_': 1, 'industrious_': 3, 'forest_': 65, 'different_': 11, 'streams_': 3, 'flowing_': 4, 'talk_': 24, 'sir_': 6, 'brings_': 6, 'wilds_': 1, 'hundred_': 29, 'divide_': 1, 'yourself_': 30, 'parted_': 5, 'wetting_': 1, 'directly_': 18, 'cried_': 111, 'brook_': 13, 'clear_': 12, 'bright_': 7, 'rapid_': 1, 'fish_': 9, 'creature_': 20, 'waters_': 5, 'continued_': 7, 'valley_': 5, 'thatched_': 1, 'rushes_': 6, 'tired_': 28, 'beautifully_': 2, 'clean_': 9, 'tidy_': 2, 'cheerful_': 3, 'honestlooking_': 1, 'sitting_': 32, 'goodmorning_': 2, 'parts_': 6, 'replied_': 86, 'digging_': 2, 'vineyard_': 1, 'spades_': 2, 'begin_': 16, 'dig_': 3, 'eleven_': 4, 'oclock_': 2, 'sits_': 2, 'dinner_': 37, 'sit_': 14, 'beside_': 28, 'troubles_': 3, 'freely_': 4, 'whatever_': 10, 'showed_': 10, 'sort_': 11, 'spoken_': 10, 'dumb_': 5, 'unhappy_': 7, 'whose_': 29, 'want_': 42, 'deserves_': 3, 'boy_': 88, 'drops_': 4, 'blood_': 8, 'child_': 33, 'finger_': 13, 'rub_': 1, 'wrists_': 4, 'blade_': 1, 'grass_': 19, 'thanked_': 16, 'because_': 24, 'drowned_': 4, 'crossing_': 1, 'victim_': 1, 'lodged_': 3, 'wellmannered_': 1, 'hardworking_': 1, 'none_': 17, 'wooer_': 5, 'throw_': 32, 'sweepings_': 2, 'face_': 37, 'sun_': 37, 'best_': 48, 'gets_': 1, 'corn_': 8, 'keeps_': 1, 'those_': 12, 'need_': 24, 'wrote_': 2, 'answers_': 2, 'friendly_': 5, 'news_': 17, 'across_': 27, 'highest_': 1, 'bank_': 9, 'stopped_': 33, 'shouted_': 6, 'says_': 10, 'until_': 11, 'someone_': 7, 'mouth_': 21, 'swelled_': 2, 'overflowed_': 3, 'rock_': 25, 'climbed_': 13, 'dashed_': 8, 'spray_': 1, 'clung_': 1, 'tight_': 4, 'failing_': 2, 'reach_': 21, 'proper_': 8, 'dried_': 2, 'march_': 1, 'byandby_': 16, 'sisters_': 17, 'thieves_': 2, 'tried_': 33, 'ford_': 1, 'stolen_': 8, 'halfway_': 1, 'rose_': 21, 'swept_': 1, 'became_': 17, 'fishing_': 1, 'countryside_': 2, 'alms_': 1, 'grew_': 42, 'rich_': 40, 'insulted_': 1, 'week_': 12, 'pricking_': 1, 'baby_': 21, 'ran_': 59, 'brushed_': 1, 'figure_': 7, 'shuddered_': 1, 'loud_': 4, 'noise_': 18, 'alive_': 11, 'foamed_': 1, 'wildly_': 1, 'flung_': 23, 'ground_': 47, 'died_': 25, 'served_': 8, 'faithfully_': 4, 'serving_': 1, 'mahrchen_': 18, 'hairy_': 8, 'somewhere_': 2, 'owned_': 4, 'remarkably_': 1, 'fields_': 16, 'rape_': 2, 'heaps_': 5, 'soldiers_': 25, 'catch_': 17, 'ricks_': 2, 'soul_': 3, 'nine_': 2, 'crowns_': 3, 'caught_': 33, 'evildoer_': 1, 'keep_': 37, 'seemed_': 68, 'protect_': 3, 'ninetynine_': 1, 'dogs_': 10, 'psst_': 3, 'hush_': 7, 'dark_': 19, 'top_': 29, 'fourth_': 11, 'rick_': 2, 'putting_': 12, 'hi_': 1, 'five_': 8, 'minutes_': 19, 'bound_': 8, 'pleased_': 26, 'thousand_': 22, 'prisoner_': 6, 'covered_': 11, 'hair_': 13, 'like_': 93, 'animal_': 11, 'altogether_': 11, 'curious_': 6, 'look_': 55, 'locked_': 6, 'strong_': 30, 'letters_': 2, 'invitation_': 2, 'kings_': 7, 'princes_': 6, 'wonder_': 14, 'hard_': 30, 'free_': 15, 'stole_': 8, 'key_': 9, 'opened_': 28, 'door_': 76, 'arrive_': 2, 'nearly_': 14, 'burst_': 15, 'shame_': 7, 'sharply_': 1, 'burn_': 2, 'knowledge_': 2, 'fetched_': 6, 'kill_': 24, 'liver_': 2, 'lungs_': 2, 'grief_': 8, 'command_': 8, 'known_': 12, 'favourite_': 6, 'sorry_': 7, 'shot_': 17, 'dog_': 24, 'carried_': 30, 'satisfied_': 8, 'trouble_': 24, 'cottage_': 10, 'sad_': 16, 'fate_': 10, 'recognised_': 5, 'fellow_': 19, 'whom_': 44, 'friend_': 58, 'apple_': 20, 'mane_': 3, 'staff_': 8, 'guide_': 2, 'silver_': 32, 'hussars_': 3, 'copper_': 7, 'draw_': 15, 'swear_': 1, 'solemnly_': 2, 'greatest_': 13, 'presents_': 4, 'service_': 9, 'troubled_': 5, 'themselves_': 17, 'horribly_': 2, 'frightened_': 16, 'small_': 25, 'army_': 18, 'housekeeper_': 7, 'village_': 18, 'owe_': 2, 'bill_': 1, 'swung_': 6, 'saddle_': 7, 'apples_': 12, 'joined_': 4, 'approach_': 3, 'fear_': 16, 'enemy_': 19, 'bowed_': 15, 'low_': 12, 'reinforcements_': 1, 'dread_': 4, 'princesses_': 4, 'declined_': 1, 'remained_': 16, 'horseback_': 3, 'battle_': 11, 'youngest_': 12, 'loveliest_': 1, 'ring_': 22, 'sister_': 29, 'tore_': 6, 'handkerchief_': 7, 'gifts_': 5, 'sight_': 52, 'whether_': 22, 'lead_': 4, 'fought_': 6, 'bravely_': 2, 'spared_': 7, 'messengers_': 2, 'overjoyed_': 5, 'daughters_': 8, 'brilliant_': 4, 'victory_': 2, 'drove_': 14, 'join_': 4, 'galloped_': 8, 'packed_': 4, 'carefully_': 16, 'strolled_': 2, 'ended_': 13, 'younger_': 7, 'fallen_': 11, 'jewels_': 13, 'helped_': 9, 'satisfy_': 4, 'searched_': 7, 'surprise_': 21, 'half_': 30, 'rescue_': 5, 'show_': 16, 'outside_': 18, 'city_': 29, 'walls_': 11, 'drawn_': 6, 'numbers_': 3, 'barely_': 2, 'kingdom_': 35, 'reward_': 17, 'aid_': 6, 'bounds_': 1, 'grand_': 8, 'health_': 14, 'ago_': 15, 'mighty_': 8, 'monarch_': 4, 'sneezed_': 1, 'shepherd_': 78, 'staring_': 5, 'eyes_': 66, 'appear_': 3, 'throne_': 20, 'powerful_': 5, 'feel_': 10, 'bit_': 12, 'afraid_': 16, 'rascal_': 3, 'vagabond_': 2, 'stormed_': 2, 'roared_': 3, 'beat_': 11, 'breast_': 3, 'gently_': 7, 'tapped_': 2, 'fury_': 3, 'chamberlain_': 11, 'interfered_': 1, 'll_': 8, 'whispered_': 13, 'wo_': 10, 'sweet_': 4, 'dove_': 1, 'laughing_': 2, 'denying_': 2, 'fact_': 6, 'pleasant_': 4, 'white_': 27, 'bear_': 37, 'pit_': 4, 'guards_': 12, 'thrust_': 7, 'closed_': 8, 'rushed_': 13, 'shrank_': 4, 'corner_': 31, 'gazed_': 4, 'spite_': 15, 'famished_': 1, 'dare_': 5, 'touch_': 5, 'sucked_': 1, 'paws_': 7, 'sheer_': 3, 'hunger_': 8, 'removed_': 3, 'beast_': 10, 'order_': 19, 'awake_': 4, 'songs_': 1, 'sang_': 4, 'bones_': 11, 'amazed_': 2, 'passion_': 3, 'learned_': 12, 'deaths_': 6, 'den_': 1, 'wild_': 34, 'boars_': 7, 'fed_': 4, 'don_': 1, 'tear_': 4, 'flute_': 9, 'sleeve_': 3, 'jacket_': 1, 'play_': 30, 'merry_': 9, 'tune_': 4, 'shyly_': 2, 'hind_': 1, 'legs_': 11, 'danced_': 7, 'gaily_': 4, 'laugh_': 6, 'funny_': 1, 'dared_': 10, 'stop_': 14, 'enough_': 49, 'slowly_': 12, 'minuet_': 1, 'degrees_': 1, 'played_': 20, 'faster_': 5, 'twist_': 1, 'quickly_': 28, 'falling_': 10, 'heap_': 6, 'exhausted_': 5, 'breath_': 6, 'ventured_': 6, 'laughed_': 29, 'expecting_': 2, 'tears_': 24, 'cheeks_': 2, 'laughter_': 3, 'torn_': 4, 'bits_': 2, 'feels_': 1, 'broke_': 17, 'deep_': 18, 'vault_': 5, 'scythes_': 6, 'dragged_': 7, 'dungeon_': 3, 'middle_': 22, 'sharp_': 8, 'bottom_': 15, 'dungeons_': 1, 'while_': 69, 'mind_': 22, 'stuck_': 6, 'stick_': 12, 'hung_': 25, 'cloak_': 13, 'hat_': 7, 'knapsack_': 5, 'inside_': 13, 'seem_': 9, 'body_': 23, 'considered_': 3, 'watched_': 9, 'really_': 41, 'hidden_': 9, 'carrying_': 10, 'lamp_': 4, 'backwards_': 2, 'greater_': 7, 'less_': 5, 'chance_': 11, 'making_': 22, 'drive_': 8, 'hot_': 4, 'cold_': 9, 'turns_': 1, 'persisted_': 4, 'vexed_': 4, 'castle_': 55, 'gaped_': 1, 'wondered_': 17, 'dazzled_': 6, 'overwhelmed_': 1, 'diamond_': 5, 'pond_': 5, 'shall_': 111, 'shut_': 20, 'efforts_': 4, 'useless_': 4, 'stands_': 8, 'reason_': 10, 'believed_': 2, 'rejoiced_': 7, 'suitors_': 1, 'staringeyed_': 1, 'ate_': 9, 'drank_': 7, 'sick_': 8, 'feasted_': 1, 'tiny_': 7, 'newborn_': 1, 'children_': 25, 'merrymaking_': 2, 'bands_': 1, 'food_': 47, 'cooked_': 4, 'crowd_': 12, 'table_': 21, 'fun_': 5, 'groomsman_': 1, 'according_': 2, 'custom_': 2, 'boar_': 6, 'big_': 23, 'dish_': 2, 'carve_': 1, 'share_': 6, 'savoury_': 1, 'smell_': 2, 'sneeze_': 1, 'else_': 26, 'regret_': 1, 'having_': 17, 'succeeded_': 4, 'expected_': 9, 'wills_': 2, 'loved_': 17, 'russische_': 1, 'simons_': 6, 'countries_': 8, 'seas_': 3, 'rivers_': 4, 'archidej_': 12, 'men_': 52, 'obey_': 3, 'slightest_': 1, 'forty_': 4, 'cities_': 1, 'palaces_': 2, 'doors_': 6, 'roofs_': 1, 'crystal_': 3, 'windows_': 1, 'consisted_': 2, 'twelve_': 7, 'wisest_': 4, 'beards_': 1, 'flowed_': 2, 'breasts_': 1, 'college_': 1, 'exact_': 2, 'truth_': 18, 'happy_': 35, 'enjoy_': 7, 'sea_': 21, 'ship_': 43, 'sailed_': 3, 'harbour_': 4, 'several_': 7, 'merchants_': 5, 'shore_': 11, 'travelled_': 8, 'beheld_': 12, 'lands_': 3, 'clever_': 17, 'visited_': 1, 'wonders_': 4, 'truthfully_': 1, 'emperor_': 28, 'worthy_': 4, 'eldest_': 14, 'island_': 22, 'busan_': 10, 'helena_': 11, 'plainer_': 1, 'greybeard_': 1, 'guess_': 10, 'riddles_': 1, 'angrily_': 6, 'pardon_': 9, 'envoy_': 1, 'grown_': 8, 'reflected_': 1, 'gravely_': 1, 'trade_': 17, 'paying_': 1, 'duties_': 1, 'dismissed_': 1, 'puzzled_': 2, 'decided_': 5, 'distract_': 1, 'huntsmen_': 3, 'falconers_': 2, 'horns_': 9, 'hawks_': 1, 'green_': 11, 'hedge_': 2, 'stretched_': 12, 'maize_': 5, 'eye_': 4, 'yellow_': 3, 'ears_': 10, 'swayed_': 2, 'fro_': 3, 'gentle_': 1, 'breeze_': 4, 'rippling_': 1, 'drew_': 25, 'rein_': 1, 'admired_': 1, 'dug_': 6, 'planted_': 1, 'workmen_': 3, 'cared_': 6, 'bread_': 26, 'belonged_': 7, 'followers_': 4, 'bidding_': 10, 'farmhouse_': 1, 'peasants_': 1, 'lunching_': 1, 'rye_': 1, 'drinking_': 6, 'wore_': 3, 'red_': 15, 'shirts_': 1, 'braid_': 1, 'alike_': 3, 'owns_': 1, 'brothers_': 35, 'ours_': 1, 'labourers_': 3, 'repeated_': 4, 'bowing_': 4, 'simon_': 45, 'taught_': 13, 'true_': 29, 'kind_': 27, 'neighbours_': 7, 'useful_': 6, 'neglect_': 3, 'sure_': 41, 'amply_': 1, 'repay_': 13, 'labour_': 1, 'honest_': 7, 'peasant_': 2, 'planting_': 1, 'harvest_': 3, 'special_': 3, 'trades_': 2, 'o_': 12, 'easy_': 10, 'materials_': 1, 'build_': 7, 'pillar_': 11, 'above_': 16, 'needs_': 2, 'cleverness_': 5, 'brother_': 25, 'built_': 16, 'mount_': 2, 'happening_': 3, 'under_': 49, 'work_': 63, 'simple_': 6, 'ships_': 2, 'improvements_': 1, 'boat_': 10, 'plain_': 9, 'homemade_': 1, 'year_': 16, 'makes_': 4, 'voyage_': 4, 'require_': 1, 'distance_': 14, 'learnt_': 3, 'importance_': 3, 'embark_': 1, 'pursued_': 4, 'seize_': 6, 'prow_': 3, 'sink_': 2, 'fifth_': 3, 'mere_': 3, 'smith_': 2, 'smithy_': 1, 'crossbow_': 3, 'eagle_': 17, 'sky_': 9, 'bolt_': 2, 'hits_': 2, 'sees_': 3, 'sounds_': 3, 'sixth_': 3, 'mention_': 2, 'quicker_': 2, 'falls_': 2, 'pick_': 8, 'depths_': 6, 'six_': 25, 'thank_': 11, 'teach_': 3, 'comes_': 19, 'seventh_': 14, 'silent_': 7, 'handicraft_': 2, 'properly_': 3, 'real_': 12, 'performance_': 2, 'doing_': 17, 'doubt_': 4, 'excuses_': 1, 'hear_': 27, 'stepped_': 14, 'cleared_': 3, 'throat_': 6, 'follows_': 1, 'generally_': 2, 'loses_': 1, 'hopes_': 4, 'steal_': 12, 'hide_': 12, 'smallest_': 9, 'scrap_': 2, 'deepest_': 2, 'lock_': 6, 'enchanted_': 4, 'stealing_': 1, 'forgotten_': 15, 'chosen_': 7, 'robbed_': 1, 'treasury_': 2, 'bribed_': 2, 'judges_': 1, 'marble_': 5, 'hour_': 14, 'prison_': 5, 'assured_': 3, 'favour_': 5, 'seized_': 18, 'chains_': 2, 'carpenters_': 1, 'masons_': 3, 'smiths_': 1, 'stores_': 1, 'iron_': 13, 'mortar_': 3, 'nearest_': 9, 'stars_': 5, 'higher_': 6, 'wonderful_': 12, 'marching_': 2, 'likely_': 8, 'victor_': 2, 'dying_': 6, 'famine_': 1, 'event_': 1, 'arms_': 13, 'twice_': 7, 'thrice_': 2, 'wondership_': 6, 'sign_': 11, 'launched_': 2, 'floated_': 2, 'proudly_': 6, 'bird_': 21, 'waves_': 1, 'ropes_': 4, 'wires_': 1, 'rigging_': 2, 'musicians_': 2, 'fiddle_': 4, 'bows_': 1, 'music_': 9, 'swam_': 1, 'sunk_': 3, 'passed_': 38, 'gigantic_': 1, 'depth_': 1, 'ocean_': 1, 'forge_': 1, 'hammered_': 1, 'magic_': 26, 'towards_': 39, 'speck_': 3, 'shoot_': 10, 'smiled_': 7, 'lifted_': 12, 'aim_': 8, 'fired_': 2, 'thanks_': 7, 'brave_': 5, 'lads_': 2, 'richly_': 5, 'rewarded_': 3, 'begun_': 4, 'obeyed_': 7, 'surrounded_': 7, 'fellows_': 2, 'wise_': 10, 'counsellors_': 2, 'climb_': 5, 'clambered_': 2, 'around_': 3, 'listened_': 19, 'sides_': 9, 'slid_': 8, 'report_': 4, 'full_': 30, 'pride_': 6, 'harsh_': 3, 'cruel_': 4, 'declares_': 2, 'asks_': 3, 'declare_': 5, 'judge_': 3, 'weather_': 4, 'sail_': 9, 'stormy_': 1, 'reviewed_': 1, 'knights_': 5, 'besides_': 15, 'bodyguard_': 2, 'crossbowmen_': 1, 'picked_': 10, 'heroes_': 1, 'reserve_': 1, 'occasions_': 1, 'requiring_': 1, 'particular_': 5, 'courage_': 9, 'nobles_': 6, 'offer_': 8, 'easier_': 2, 'advise_': 2, 'win_': 4, 'peacefully_': 5, 'frowned_': 2, 'fool_': 7, 'pushed_': 3, 'fast_': 36, 'consider_': 2, 'plan_': 16, 'capital_': 10, 'explained_': 4, 'benefit_': 2, 'wrong_': 8, 'advantage_': 2, 'pale_': 5, 'nodded_': 5, 'laden_': 4, 'stuffs_': 2, 'brocades_': 3, 'persian_': 1, 'carpets_': 4, 'pearls_': 6, 'four_': 11, 'companions_': 5, 'hostages_': 1, 'filled_': 22, 'longing_': 7, 'start_': 14, 'board_': 11, 'sooner_': 14, 'cut_': 40, 'falcon_': 1, 'air_': 24, 'sighted_': 1, 'coast_': 4, 'strongly_': 1, 'guarded_': 2, 'afar_': 1, 'watchman_': 2, 'tower_': 9, 'halt_': 2, 'anchor_': 5, 'peaceful_': 1, 'foreign_': 2, 'wares_': 3, 'costly_': 1, 'desire_': 10, 'sell_': 5, 'exchange_': 5, 'valuable_': 1, 'goods_': 6, 'rowed_': 3, 'rosered_': 1, 'coming_': 24, 'women_': 18, 'sale_': 3, 'trust_': 6, 'condescend_': 2, 'welcome_': 11, 'charge_': 2, 'considers_': 1, 'adorn_': 1, 'content_': 8, 'speech_': 10, 'redroom_': 1, 'respectfully_': 2, 'displayed_': 2, 'velvets_': 2, 'cases_': 1, 'precious_': 11, 'stones_': 12, 'bewildered_': 2, 'magnificence_': 1, 'weary_': 2, 'fingers_': 1, 'stroking_': 1, 'soft_': 7, 'holding_': 6, 'sparkling_': 1, 'fairest_': 1, 'waitingmaids_': 1, 'accept_': 9, 'silks_': 1, 'trim_': 3, 'headdresses_': 1, 'treasures_': 10, 'permit_': 2, 'coloured_': 4, 'tapestries_': 1, 'gorgeous_': 1, 'knowing_': 14, 'taste_': 2, 'honour_': 10, 'visit_': 13, 'choose_': 18, 'pleasing_': 1, 'polite_': 2, 'pray_': 11, 'allow_': 3, 'rubbed_': 8, 'ear_': 10, 'consent_': 7, 'yacht_': 4, '100_': 2, 'crossbows_': 1, '1000_': 1, 'conduct_': 3, 'plank_': 3, 'vessel_': 6, 'spread_': 16, 'interesting_': 1, 'tales_': 3, 'forgot_': 8, 'listening_': 7, 'vanished_': 18, 'racing_': 1, 'crew_': 4, 'aloud_': 1, 'terror_': 9, 'struck_': 15, 'heads_': 26, 'loss_': 13, 'wept_': 11, 'sobbed_': 5, 'punished_': 4, 'husband_': 33, 'irons_': 1, 'lamenting_': 1, 'fashion_': 4, 'surface_': 7, 'recollected_': 4, 'herself_': 38, 'gazing_': 6, 'hope_': 16, 'delay_': 5, 'deck_': 4, 'wrung_': 3, 'hands_': 28, 'changed_': 18, 'swan_': 3, 'bow_': 13, 'quick_': 23, 'black_': 16, 'mouse_': 4, 'darted_': 7, 'hole_': 23, 'swiftly_': 5, 'cat_': 19, 'thoughtfully_': 4, 'thoughts_': 8, 'gull_': 2, 'billowing_': 1, 'sails_': 3, 'flags_': 1, 'wave_': 3, 'fiddlers_': 1, 'wire_': 1, 'laid_': 30, 'pier_': 1, 'steps_': 16, 'shines_': 2, 'heaven_': 5, 'sparkle_': 1, 'haste_': 9, 'hasten_': 2, 'bugles_': 1, 'bells_': 7, 'rung_': 1, 'swarmed_': 1, 'gates_': 6, 'apartments_': 3, 'madam_': 2, 'fame_': 1, 'expect_': 4, 'loveliness_': 1, 'reign_': 3, 'wooing_': 1, 'betrothal_': 2, 'pomp_': 1, 'letter_': 11, 'invite_': 2, 'escorted_': 1, 'execution_': 2, 'entertained_': 1, 'ambassadors_': 1, 'hospitably_': 1, 'blessing_': 2, 'attend_': 3, 'friends_': 20, 'govern_': 3, 'towns_': 3, 'folk_': 4, 'understand_': 7, 'figures_': 1, 'governors_': 3, 'money_': 47, 'taxes_': 2, 'goodness_': 2, 'thief_': 3, 'pardoned_': 1, 'goblet_': 1, 'wine_': 15, 'invited_': 7, 'feast_': 17, 'ungarischen_': 2, 'language_': 10, 'beasts_': 12, 'honestly_': 1, 'herding_': 1, 'flock_': 16, 'hissing_': 2, 'direction_': 7, 'cause_': 4, 'approached_': 3, 'dry_': 5, 'leaves_': 4, 'tree_': 95, 'flames_': 9, 'snake_': 10, 'coiled_': 3, 'wondering_': 13, 'blowing_': 3, 'burning_': 7, 'save_': 4, 'crept_': 6, 'arm_': 16, 'twined_': 2, 'trembled_': 1, 'fright_': 6, 'instant_': 15, 'stung_': 2, 'unlucky_': 5, 'carry_': 28, 'snakes_': 5, 'evil_': 3, 'befall_': 2, 'gateway_': 1, 'entirely_': 3, 'intertwined_': 1, 'whistled_': 1, 'immediately_': 11, 'arch_': 1, 'unwound_': 1, 'refuse_': 4, 'rescued_': 1, 'turning_': 13, 'saving_': 4, 'granted_': 3, 'die_': 37, 'possess_': 2, 'depart_': 1, 'saying_': 35, 'spat_': 3, 'spit_': 1, 'mouths_': 1, 'value_': 3, 'beware_': 3, 'lest_': 12, 'understood_': 9, 'birds_': 12, 'sheep_': 35, 'grazing_': 2, 'perched_': 3, 'beneath_': 3, 'lamb_': 4, 'lying_': 23, 'waggon_': 3, 'treasure_': 22, 'keeping_': 8, 'honourable_': 2, 'gods_': 1, 'happiness_': 14, 'acknowledged_': 2, 'richest_': 3, 'native_': 8, 'flocks_': 5, 'cattle_': 8, 'christmas_': 1, 'prepare_': 5, 'farm_': 5, 'shepherds_': 7, 'prepared_': 10, 'both_': 35, 'stead_': 1, 'spend_': 3, 'wolves_': 7, 'howled_': 2, 'barked_': 1, 'tongue_': 12, 'havoc_': 1, 'flesh_': 3, 'teeth_': 7, 'dawned_': 1, 'excepting_': 1, 'exclaimed_': 16, 'surely_': 6, 'bid_': 4, 'mounted_': 10, 'steed_': 1, 'mare_': 4, 'ahead_': 1, 'seeing_': 18, 'neighed_': 1, 'slow_': 4, 'thin_': 3, 'mistress_': 2, 'fat_': 4, 'weights_': 1, 'perceiving_': 1, 'urged_': 2, 'controlled_': 1, 'ails_': 1, 'tormented_': 2, 'length_': 40, 'quiet_': 9, 'besought_': 1, 'meanwhile_': 12, 'getting_': 15, 'coffin_': 9, 'whined_': 1, 'piece_': 11, 'cock_': 4, 'pecked_': 1, 'wretched_': 7, 'glutton_': 1, 'stupid_': 9, 'wives_': 1, 'call_': 17, 'swallow_': 1, 'lesson_': 1, 'beak_': 6, 'blow_': 9, 'secret_': 21, 'widow_': 3, 'boys_': 4, 'noticed_': 19, 'scabbard_': 10, 'bigger_': 8, 'sticking_': 4, 'garden_': 11, 'plainly_': 1, 'becoming_': 1, 'fit_': 3, 'slipped_': 8, 'believe_': 11, 'particularly_': 2, 'resolutions_': 2, 'breakfast_': 4, 'ca_': 12, 'anybody_': 7, 'blows_': 4, 'sore_': 5, 'aching_': 1, 'knelt_': 3, 'weeping_': 15, 'working_': 4, 'badly_': 11, 'sobbing_': 2, 'crying_': 15, 'kneeling_': 2, 'beaten_': 7, 'commanded_': 7, 'sends_': 4, 'receiving_': 2, 'message_': 11, 'prettiest_': 5, 'anger_': 9, 'obedient_': 1, 'halffrightened_': 1, 'permission_': 6, 'driven_': 7, 'beating_': 7, 'smiling_': 6, 'talked_': 10, 'present_': 11, 'toys_': 1, 'spoil_': 1, 'observed_': 3, 'watching_': 14, 'shook_': 16, 'nobody_': 18, 'dearly_': 7, 'enter_': 8, 'senses_': 3, 'clanked_': 6, 'loudly_': 12, 'treated_': 5, 'fruit_': 11, 'seventeenth_': 1, 'become_': 26, 'nose_': 21, 'sought_': 4, 'feeling_': 5, 'dull_': 5, 'lonely_': 4, 'amusing_': 2, 'quarters_': 2, 'ill_': 12, 'hastily_': 12, 'gardens_': 6, 'houses_': 5, 'youth_': 92, 'handsomer_': 2, 'hurt_': 6, 'complain_': 2, 'souls_': 1, 'swore_': 1, 'crowded_': 5, 'tied_': 11, 'hangman_': 6, 'amidst_': 4, 'silence_': 6, 'instantly_': 14, 'rumbled_': 1, 'flag_': 1, 'waving_': 6, 'underneath_': 5, 'magyars_': 4, 'm_': 3, 'star_': 7, 'bandage_': 1, 'cords_': 1, 'seat_': 3, 'whipped_': 1, 'buda_': 2, 'pleasantly_': 2, 'miles_': 13, 'companion_': 6, 'ease_': 3, 'trusted_': 1, 'picking_': 3, 'roses_': 3, 'fairyland_': 1, 'spoilt_': 3, 'tale_': 12, 'summerhouse_': 1, 'finest_': 5, 'dress_': 11, 'book_': 2, 'dropped_': 6, 'speechless_': 2, 'coaxingly_': 1, 'kiss_': 8, 'angel_': 1, 'mean_': 3, 'pressing_': 1, 'slapped_': 1, 'bled_': 1, 'shrieked_': 6, 'pain_': 3, 'screaming_': 2, 'starve_': 2, 'dragon_': 54, 'streaming_': 3, 'bricklayers_': 1, 'stool_': 2, 'hours_': 14, 'proceeded_': 2, 'inform_': 2, 'commands_': 3, 'fulfilled_': 7, 'hearing_': 9, 'bottle_': 4, 'pass_': 10, 'mason_': 1, 'bored_': 1, 'sunset_': 3, 'assembled_': 2, 'misdeeds_': 2, 'proclaimed_': 1, 'walled_': 1, 'secretary_': 2, 'ladder_': 2, 'rosy_': 3, 'affairs_': 5, 'lasted_': 3, 'sultan_': 51, 'bearing_': 1, 'canes_': 6, 'bids_': 1, 'grows_': 3, 'root_': 18, 'examined_': 3, 'closely_': 5, 'difference_': 5, 'between_': 21, 'inquired_': 10, 'alas_': 4, 'despair_': 17, 'occurred_': 3, 'usual_': 11, 'wake_': 4, 'warm_': 7, 'sinks_': 2, 'cane_': 1, 'floats_': 1, 'notches_': 1, 'mistake_': 7, 'handed_': 12, 'following_': 16, 'quarrel_': 7, 'foals_': 5, 'begging_': 3, 'animals_': 9, 'born_': 12, 'noon_': 7, 'sank_': 11, 'rightly_': 2, 'plague_': 2, 'weaker_': 1, 'gloomy_': 3, 'cast_': 6, 'happen_': 6, 'consult_': 2, 'idol_': 1, 'pretend_': 4, 'scream_': 2, 'turks_': 2, 'foaled_': 4, 'exactly_': 12, 'bidden_': 6, 'repent_': 2, 'wicked_': 10, 'strait_': 1, 'fail_': 8, 'dreadful_': 12, 'result_': 5, 'troughs_': 2, 'oats_': 2, 'wheat_': 6, 'barley_': 6, 'foal_': 3, 'eats_': 3, 'directions_': 6, 'marking_': 1, 'turkey_': 3, 'plots_': 1, 'possession_': 3, 'hungary_': 5, 'total_': 1, 'failures_': 1, 'aunt_': 3, 'witch_': 8, 'puzzle_': 3, 'therefore_': 9, 'conversation_': 3, 'written_': 4, 'cross_': 5, 'border_': 2, 'sorrowful_': 5, 'grateful_': 4, 'search_': 19, 'youths_': 2, 'mask_': 2, 'twin_': 1, 'resembling_': 1, 'painted_': 1, 'precise_': 1, 'copy_': 1, 'presence_': 7, 'greeting_': 2, 'detect_': 2, 'witches_': 2, 'invisible_': 1, 'glided_': 3, 'pair_': 7, 'scissors_': 3, 'coatsleeve_': 1, 'hanging_': 9, 'silently_': 4, 'slit_': 1, 'marked_': 1, 'sleeves_': 4, 'pretended_': 8, 'backs_': 3, 'affair_': 3, 'invent_': 2, 'accord_': 1, 'welcomed_': 7, 'joyfully_': 5, 'fresh_': 11, 'dangerous_': 2, 'weep_': 5, 'sunrise_': 3, 'forth_': 14, 'gate_': 10, 'threshold_': 2, 'fifteen_': 1, 'armed_': 4, 'barred_': 1, 'schemes_': 1, 'vain_': 6, 'jumped_': 15, 'sliced_': 1, 'capture_': 2, 'deprive_': 1, 'scratch_': 3, 'rested_': 5, 'uniform_': 1, 'mile_': 1, 'triumph_': 2, 'shown_': 7, 'soninlaw_': 9, 'succeed_': 5, 'cares_': 2, 'government_': 1, 'troop_': 6, 'array_': 1, 'surprised_': 11, 'dismounted_': 3, 'magyar_': 1, 'sons_': 11, 'fond_': 9, 'hunting_': 10, 'scarcely_': 17, 'hare_': 22, 'thicket_': 2, 'road_': 29, 'chase_': 4, 'refuge_': 1, 'breathing_': 2, 'flame_': 3, 'fearful_': 4, 'fiery_': 4, 'grow_': 14, 'uneasy_': 4, 'likewise_': 3, 'hunt_': 8, 'clue_': 1, 'disappearance_': 3, 'bushes_': 9, 'huntsman_': 1, 'heels_': 7, 'prayed_': 5, 'often_': 21, 'cautious_': 1, 'stables_': 4, 'saddled_': 5, 'wiser_': 2, 'hares_': 1, 'mountain_': 41, 'greeted_': 6, 'hither_': 3, 'eaten_': 15, 'heavy_': 19, 'guessed_': 4, 'counsel_': 8, 'overtakes_': 1, 'shake_': 6, 'goes_': 3, 'coaxed_': 1, 'flatter_': 1, 'praise_': 1, 'temper_': 4, 'strength_': 13, 'stoop_': 2, 'pure_': 7, 'hearthstone_': 3, 'yonder_': 2, 'lies_': 8, 'hearth_': 2, 'whereat_': 1, 'foolish_': 8, 'jesting_': 1, 'tall_': 7, 'heartily_': 4, 'crossly_': 2, 'lake_': 30, 'pigeon_': 4, 'sparrow_': 7, 'flattering_': 1, 'suit_': 4, 'taking_': 25, 'tender_': 2, 'distant_': 4, 'everybody_': 16, 'streets_': 8, 'engage_': 2, 'beginning_': 12, 'overheard_': 2, 'willingly_': 5, 'obediently_': 2, 'banks_': 6, 'lie_': 10, 'meadows_': 10, 'leading_': 4, 'pasture_': 3, 'run_': 17, 'suffer_': 1, 'spot_': 15, 'warning_': 1, 'marketplace_': 2, 'greyhounds_': 7, 'hawk_': 7, 'pipes_': 33, 'trotted_': 6, 'branch_': 5, 'rolling_': 4, 'trousers_': 4, 'waded_': 3, 'coward_': 3, 'voice_': 33, 'minute_': 5, 'reared_': 3, 'huge_': 14, 'grappled_': 1, 'noonday_': 1, 'gasped_': 6, 'dip_': 5, 'hurl_': 3, 'ho_': 4, 'forehead_': 12, 'loosened_': 2, 'washed_': 4, 'signs_': 3, 'shoulder_': 7, 'horsemen_': 3, 'aside_': 3, 'steep_': 2, 'overhung_': 1, 'rolled_': 8, 'clasped_': 2, 'hottest_': 3, 'collected_': 10, 'marched_': 6, 'stare_': 3, 'ridden_': 6, 'eagerly_': 5, 'finished_': 25, 'wishes_': 6, 'deliver_': 6, 'monster_': 5, 'slain_': 2, 'bravest_': 1, 'peep_': 3, 'hills_': 3, 'brimming_': 1, 'implore_': 4, 'merrily_': 4, 'stopping_': 5, 'cry_': 8, 'scattered_': 2, 'calling_': 9, 'grasped_': 2, 'touched_': 13, 'hounds_': 1, 'loose_': 3, 'soared_': 2, 'swooped_': 1, 'slender_': 4, 'twigs_': 3, 'strike_': 4, 'roots_': 4, 'cellar_': 8, 'fill_': 9, 'among_': 19, 'twilight_': 3, 'trembling_': 9, 'thronged_': 2, 'unknown_': 6, 'power_': 17, 'receive_': 4, 'splendour_': 3, 'lamps_': 2, 'tables_': 3, 'hall_': 22, 'chose_': 7, 'preparations_': 8, 'impatient_': 3, 'countless_': 1, 'multitude_': 1, 'streamed_': 1, 'wheresoever_': 1, 'enchantment_': 1, 'volksmarehen_': 1, 'der_': 1, 'serben_': 1, 'wildrose_': 13, 'lambs_': 1, 'stall_': 4, 'dined_': 1, 'grassy_': 1, 'queens_': 1, 'fully_': 2, 'goddess_': 1, 'venus_': 1, 'happier_': 2, 'minds_': 1, 'sadder_': 3, 'thoughtful_': 2, 'common_': 6, 'chest_': 10, 'aches_': 1, 'stranger_': 18, 'bag_': 6, 'throwing_': 6, 'shoulders_': 3, 'wanderings_': 3, 'thick_': 13, 'trees_': 21, 'branches_': 5, 'proverb_': 5, 'unexpected_': 5, 'midst_': 5, 'summoning_': 2, 'plunged_': 5, 'boldly_': 2, 'walking_': 6, 'cave_': 24, 'darkness_': 8, 'darker_': 1, 'paused_': 3, 'appalled_': 1, 'daring_': 1, 'advance_': 2, 'step_': 4, 'effort_': 3, 'paces_': 2, 'glimmer_': 1, 'directed_': 1, 'faint_': 4, 'rays_': 7, 'hermit_': 6, 'beard_': 7, 'visitor_': 1, 'notice_': 10, 'patiently_': 3, 'holy_': 5, 'louder_': 4, 'nearer_': 6, 'echoed_': 1, 'cavern_': 2, 'dismal_': 3, 'hundreds_': 2, 'misery_': 4, 'hoping_': 7, 'cease_': 3, 'wandering_': 5, 'stooped_': 6, 'flowery_': 3, 'brightness_': 1, 'desperate_': 1, 'thirst_': 2, 'parched_': 1, 'eating_': 15, 'merely_': 4, 'woke_': 7, 'strange_': 21, 'trails_': 1, 'pink_': 4, 'skin_': 4, 'crowed_': 2, 'delight_': 5, 'wrapped_': 7, 'pail_': 6, 'downstairs_': 3, 'tumbling_': 3, 'eagerness_': 1, 'perfectly_': 2, 'empty_': 16, 'horror_': 6, 'disappointment_': 1, 'somehow_': 8, 'moaned_': 2, 'fairies_': 9, 'hearts_': 1, 'hovering_': 2, 'ones_': 15, 'swooping_': 1, 'claws_': 2, 'tops_': 1, 'nest_': 32, 'laying_': 4, 'downy_': 1, 'eaglets_': 8, 'naturally_': 1, 'popped_': 1, 'nestled_': 1, 'wings_': 4, 'shield_': 2, 'poisonous_': 1, 'dwelt_': 11, 'lindworm_': 7, 'accordingly_': 3, 'absent_': 4, 'disappear_': 1, 'weak_': 2, 'supposed_': 4, 'flapped_': 1, 'impatiently_': 3, 'treetops_': 2, 'rushing_': 1, 'creeping_': 3, 'tongues_': 2, 'stretching_': 4, 'closer_': 3, 'shuddering_': 1, 'farthest_': 1, 'below_': 5, 'roars_': 1, 'snarls_': 1, 'mixed_': 2, 'undisturbed_': 1, 'traces_': 3, 'handful_': 4, 'scaly_': 1, 'substance_': 1, 'greatly_': 10, 'hastened_': 12, 'miss_': 1, 'danger_': 8, 'delivered_': 2, 'sunbeam_': 1, 'struggled_': 2, 'curled_': 2, 'meaning_': 1, 'softest_': 2, 'greenest_': 1, 'moss_': 3, 'brightest_': 2, 'flowers_': 7, 'mountains_': 7, 'decorate_': 1, 'cleverly_': 1, 'fairy_': 8, 'rocked_': 1, 'fruits_': 2, 'berries_': 3, 'taller_': 1, 'happily_': 15, 'edge_': 9, 'company_': 7, 'playthings_': 1, 'butterflies_': 1, 'fourteen_': 2, 'deer_': 3, 'grove_': 2, 'stag_': 5, 'trod_': 1, 'straining_': 2, 'baying_': 1, 'hound_': 1, 'horn_': 12, 'flow_': 2, 'fitted_': 5, 'arrow_': 9, 'ray_': 1, 'fortune_': 13, 'caused_': 5, 'change_': 12, 'confessed_': 1, 'image_': 1, 'distressed_': 1, 'doubted_': 1, 'empress_': 2, 'heralds_': 4, 'throughout_': 2, 'riches_': 13, 'homes_': 4, 'notion_': 3, 'tossing_': 1, 'disdain_': 1, 'books_': 1, 'hump_': 1, 'bald_': 2, 'rude_': 1, 'treetop_': 1, 'firm_': 2, 'kettle_': 30, 'tripod_': 4, 'w_': 1, 'omen_': 1, 'tucking_': 1, 'chattered_': 2, 'clattered_': 1, 'campful_': 1, 'gipsies_': 1, 'gathering_': 1, 'sticks_': 3, 'kindled_': 1, 'stand_': 7, 'roll_': 2, 'crash_': 2, 'bewitched_': 1, 'knows_': 9, 'peeping_': 5, 'patience_': 4, 'stupidity_': 2, 'move_': 9, 'trying_': 7, 'steady_': 2, 'hang_': 6, 'twig_': 4, 'smooth_': 1, 'trunk_': 2, 'ought_': 3, 'tenderly_': 1, 'whitest_': 1, 'celebrated_': 2, 'perfect_': 2, 'adapted_': 2, 'file_': 1, 'roumanian_': 1, 'tiidu_': 51, 'piper_': 5, 'feed_': 4, 'willing_': 5, 'glad_': 16, 'worked_': 4, 'lazy_': 7, 'scoldings_': 1, 'beatings_': 1, 'effect_': 1, 'older_': 4, 'idler_': 1, 'winters_': 1, 'stove_': 1, 'summers_': 1, 'shady_': 3, 'tunes_': 6, 'bush_': 3, 'mistaken_': 2, 'notes_': 3, 'cats_': 20, 'mice_': 2, 'toil_': 1, 'rudely_': 2, 'runs_': 5, 'worker_': 1, 'gift_': 7, 'earn_': 4, 'daily_': 4, 'bargain_': 6, 'learn_': 4, 'wherever_': 2, 'lack_': 1, 'surer_': 1, 'resolved_': 7, 'spirit_': 12, 'hoped_': 9, 'hardship_': 1, 'cure_': 4, 'idle_': 1, 'folly_': 3, 'weeks_': 4, 'enjoyed_': 3, 'fluteplaying_': 1, 'giving_': 6, 'pence_': 2, 'hoarded_': 1, 'nowhere_': 2, 'masterly_': 1, 'manner_': 8, 'dancing_': 3, 'marriage_': 14, 'christening_': 3, 'failure_': 1, 'noted_': 1, 'wide_': 8, 'praised_': 4, 'pressed_': 6, 'declaring_': 2, 'accepted_': 4, 'gladly_': 8, 'clothed_': 2, 'magnificent_': 3, 'chain_': 1, 'encrusted_': 1, 'ladies_': 4, 'twisted_': 2, 'silken_': 2, 'scarves_': 1, 'plumed_': 1, 'mothers_': 2, 'knitted_': 1, 'gloves_': 1, 'colours_': 1, 'contented_': 5, 'craving_': 1, 'goaded_': 1, 'exertions_': 1, 'clearly_': 1, 'stories_': 3, 'kungla_': 11, 'highly_': 3, 'recollect_': 2, 'sailing_': 3, 'narva_': 1, 'merchantmen_': 1, 'captain_': 19, 'cost_': 5, 'passage_': 4, 'prudent_': 4, 'lower_': 4, 'returning_': 3, 'sailor_': 3, 'secretly_': 8, 'softly_': 8, 'casks_': 1, 'unseen_': 4, 'invented_': 2, 'cramped_': 1, 'fastening_': 2, 'shout_': 1, 'sailors_': 7, 'untie_': 1, 'swum_': 1, 'scheme_': 3, 'swimmer_': 1, 'rouse_': 3, 'mates_': 1, 'bargained_': 1, 'previous_': 1, 'ghost_': 1, 'loosed_': 1, 'melted_': 1, 'thankful_': 4, 'payment_': 3, 'berth_': 1, 'cunning_': 8, 'trick_': 3, 'swim_': 3, 'deserve_': 4, 'proof_': 5, 'marvellous_': 2, 'powers_': 3, 'owners_': 1, 'merchant_': 12, 'scullion_': 3, 'cook_': 9, 'vessels_': 1, 'brass_': 1, 'tin_': 1, 'saucepans_': 1, 'baked_': 3, 'oven_': 6, 'dishes_': 4, 'covers_': 1, 'pigs_': 15, 'covetous_': 1, 'wealth_': 12, 'constantly_': 1, 'elsewhere_': 5, 'sum_': 2, 'increased_': 1, 'pitch_': 1, 'wages_': 5, 'cheap_': 3, 'coat_': 10, 'garment_': 2, 'occasion_': 3, 'sunday_': 5, 'liked_': 8, 'pleasure_': 9, 'sunny_': 2, 'passersby_': 1, 'familiar_': 1, 'paths_': 2, 'lime_': 2, 'past_': 6, 'ladle_': 3, 'tone_': 1, 'sweeter_': 1, 'ceased_': 9, 'chatter_': 1, 'dollars_': 1, 'coins_': 1, 'murmurs_': 1, 'treat_': 3, 'pleasanter_': 1, 'stirring_': 1, 'sauces_': 1, 'path_': 9, 'wisdom_': 5, 'bull_': 3, 'slip_': 2, 'afternoon_': 1, 'fixed_': 3, 'inclined_': 2, 'fulfil_': 4, 'appointed_': 4, 'counted_': 2, 'gains_': 2, 'invitations_': 2, 'citizens_': 2, 'used_': 12, 'landlord_': 3, 'thus_': 4, 'glistened_': 1, 'prouder_': 1, 'saved_': 7, 'leisure_': 1, 'remember_': 10, 'family_': 9, 'hire_': 2, 'cabin_': 1, 'chests_': 1, 'freshened_': 1, 'gale_': 2, 'storm_': 3, 'boats_': 1, 'push_': 5, 'overturned_': 1, 'luckily_': 4, 'oar_': 1, 'floating_': 4, 'mist_': 2, 'awoke_': 7, 'explore_': 2, 'abundance_': 1, 'trace_': 7, 'laziness_': 2, 'disobedience_': 3, 'forgetfulness_': 1, 'lightly_': 3, 'odd_': 3, 'shining_': 6, 'greedily_': 1, 'wash_': 3, 'colour_': 3, 'dreaming_': 5, 'devour_': 1, 'fellowmen_': 1, 'swallowed_': 4, 'hid_': 13, 'violent_': 2, 'growing_': 6, 'bough_': 6, 'ripe_': 5, 'brown_': 1, 'nuts_': 6, 'shorter_': 4, 'short_': 10, 'discovery_': 5, 'bold_': 4, 'pocket_': 21, 'cautiously_': 2, 'chin_': 3, 'deadly_': 3, 'stretch_': 3, 'nut_': 10, 'awaited_': 6, 'supposing_': 2, 'shrinking_': 2, 'accident_': 3, 'case_': 4, 'letting_': 1, 'ruined_': 1, 'completely_': 3, 'size_': 3, 'gathered_': 6, 'supply_': 2, 'wove_': 3, 'basket_': 26, 'mourn_': 5, 'replace_': 2, 'uninhabited_': 1, 'beach_': 1, 'shipwreck_': 1, 'gratitude_': 5, 'pockets_': 8, 'needed_': 4, 'famous_': 5, 'mad_': 6, 'needless_': 1, 'wearing_': 1, 'disguised_': 1, 'uproar_': 2, 'misfortune_': 3, 'rumour_': 2, 'doctors_': 2, 'magicians_': 2, 'summoned_': 2, 'disease_': 1, 'experience_': 1, 'byandbye_': 1, 'malady_': 1, 'connected_': 1, 'catching_': 3, 'matters_': 1, 'diseases_': 1, 'speed_': 3, 'magician_': 24, 'offering_': 2, 'untold_': 1, 'restore_': 2, 'noses_': 1, 'former_': 3, 'summons_': 2, 'changing_': 1, 'appearance_': 2, 'seller_': 2, 'post_': 3, 'feverishly_': 1, 'counting_': 1, 'yard_': 2, 'raw_': 2, 'arouse_': 1, 'suspicion_': 1, 'pounded_': 1, 'powder_': 4, 'divided_': 2, 'doses_': 1, 'cured_': 2, 'greedy_': 2, 'shipwrecked_': 1, 'estate_': 2, 'comfortably_': 1, 'engaged_': 2, 'hearty_': 1, 'meeting_': 5, 'inquiries_': 1, 'esthnische_': 1, 'paperarelloo_': 1, 'hated_': 4, 'formed_': 1, 'fortunately_': 1, 'mourning_': 2, 'amuse_': 4, 'accompany_': 5, 'rough_': 3, 'winds_': 1, 'sounded_': 4, 'daybreak_': 1, 'plentiful_': 1, 'shelter_': 3, 'ogre_': 34, 'human_': 2, 'sums_': 1, 'moved_': 11, 'stabbed_': 1, 'binding_': 1, 'fix_': 1, 'hoof_': 1, 'peeped_': 5, 'upper_': 3, 'giant_': 34, 'unbound_': 1, 'fastened_': 10, 'admire_': 2, 'oldest_': 4, 'abandon_': 1, 'curl_': 3, 'desert_': 2, 'worn_': 7, 'comfortable_': 4, 'stable_': 12, 'fodder_': 1, 'clad_': 2, 'approaching_': 2, 'reply_': 7, 'gatekeeper_': 1, 'porter_': 5, 'gooseboy_': 6, 'likes_': 1, 'nickname_': 1, 'paperarello_': 26, 'rags_': 2, 'mud_': 2, 'disgusting_': 2, 'object_': 4, 'sometimes_': 4, 'interest_': 2, 'whistling_': 1, 'geese_': 3, 'owing_': 2, 'flour_': 3, 'mills_': 2, 'supplied_': 1, 'heated_': 1, 'bake_': 2, 'possible_': 5, 'heat_': 4, 'baking_': 1, 'passing_': 6, 'signed_': 4, 'disturbed_': 1, 'yawning_': 1, 'dawn_': 7, 'surety_': 1, 'jumping_': 2, 'kitchen_': 13, 'piled_': 2, 'ovens_': 1, 'store_': 4, 'prayers_': 3, 'bridegroom_': 5, 'polishing_': 1, 'armour_': 4, 'sharpening_': 1, 'swords_': 2, 'wellgroomed_': 1, 'creatures_': 6, 'shone_': 6, 'satin_': 1, 'menatarms_': 1, 'attending_': 1, 'clay_': 5, 'childish_': 1, 'sharpest_': 1, 'swiftest_': 2, 'riding_': 6, 'fortunes_': 3, 'knight_': 8, 'pierced_': 1, 'stoutest_': 1, 'breastplate_': 1, 'strongest_': 1, 'host_': 2, 'foes_': 1, 'fled_': 1, 'warriors_': 1, 'withstand_': 1, 'timely_': 2, 'surcoat_': 3, 'rows_': 2, 'dolls_': 3, 'halted_': 2, 'sharper_': 1, 'previously_': 1, 'brighter_': 1, 'swifter_': 1, 'yesterday_': 5, 'desperately_': 1, 'bestow_': 1, 'token_': 4, 'worse_': 7, 'losing_': 1, 'hesitated_': 3, 'comply_': 1, 'prided_': 2, 'invincible_': 1, 'proud_': 6, 'restored_': 2, 'goodbye_': 2, 'sicilianisohen_': 1, 'group_': 1, 'birch_': 1, 'blackgame_': 1, 'nests_': 1, 'strictly_': 1, 'forbade_': 2, 'collect_': 5, 'wounded_': 1, 'fluttered_': 1, 'flutter_': 2, 'absorbed_': 1, 'branching_': 1, 'pack_': 1, 'snapping_': 1, 'aiming_': 1, 'largest_': 5, 'wolf_': 13, 'arrows_': 2, 'flight_': 4, 'deliverer_': 2, 'guest_': 6, 'larder_': 2, 'stamped_': 1, 'floor_': 17, 'telling_': 5, 'meal_': 6, 'wakened_': 3, 'afresh_': 2, 'waken_': 7, 'impossible_': 5, 'choice_': 7, 'ah_': 20, 'zither_': 5, 'contrived_': 2, 'mouthful_': 2, 'manger_': 1, 'undergone_': 1, 'transformation_': 2, 'favourites_': 1, 'wars_': 2, 'bore_': 4, 'age_': 3, 'arched_': 1, 'pawed_': 1, 'wont_': 1, 'groom_': 3, 'eyed_': 1, 'owner_': 3, 'hate_': 4, 'envy_': 3, 'attention_': 4, 'boasted_': 5, 'strayed_': 1, 'thunderstruck_': 1, 'worry_': 2, 'oxen_': 12, 'certain_': 7, 'shows_': 2, 'bridle_': 1, 'bridled_': 1, 'raven_': 2, 'gallop_': 1, 'clutches_': 2, 'stableman_': 2, 'jealous_': 2, 'injure_': 1, 'hit_': 4, 'months_': 10, 'penalty_': 3, 'cheer_': 2, 'plunge_': 2, 'shape_': 5, 'dipped_': 1, 'rescuer_': 1, 'plot_': 3, 'undoing_': 1, 'presented_': 1, 'puffed_': 1, 'waxed_': 1, 'erected_': 1, 'trial_': 2, 'defence_': 1, 'instrument_': 3, 'strings_': 1, 'helper_': 2, 'dance_': 9, 'capered_': 1, 'mercy_': 9, 'rang_': 3, 'graciously_': 4, 'musician_': 1, 'unwillingly_': 2, 'fir_': 4, 'tatters_': 1, 'pointed_': 7, 'wasting_': 2, 'heave_': 2, 'spinning_': 2, 'elected_': 1, 'finnische_': 2, 'flaskful_': 1, 'bedpost_': 1, 'business_': 8, 'rack_': 1, 'ruin_': 5, 'mourned_': 1, 'faults_': 1, 'abandoned_': 1, 'forsook_': 1, 'caring_': 1, 'thirsty_': 3, 'gurgling_': 1, 'source_': 1, 'bubbled_': 1, 'pool_': 2, 'reflection_': 1, 'cutting_': 1, 'weapon_': 2, 'workmanship_': 1, 'wrought_': 1, 'handle_': 5, 'buckle_': 1, 'stronger_': 6, 'testing_': 1, 'glow_': 1, 'veins_': 3, 'oak_': 1, 'rooted_': 3, 'weed_': 1, 'drawing_': 6, 'knife_': 4, 'groped_': 1, 'tripped_': 1, 'lift_': 1, 'strain_': 1, 'robbers_': 8, 'band_': 2, 'burned_': 2, 'brightly_': 2, 'pace_': 1, 'sleepy_': 1, 'shouting_': 1, 'singing_': 4, 'discussing_': 1, 'ditch_': 6, 'entrance_': 6, 'pile_': 1, 'jump_': 2, 'hop_': 2, 'swift_': 3, 'stroke_': 3, 'signal_': 2, 'leapt_': 3, 'confidence_': 3, 'shawl_': 2, 'harmless_': 1, 'resistance_': 1, 'stiff_': 5, 'stark_': 1, 'headless_': 2, 'bodies_': 2, 'chamber_': 8, 'ransacked_': 2, 'rooms_': 8, 'keys_': 4, 'unfortunately_': 1, 'robber_': 9, 'shock_': 3, 'larger_': 2, 'belonging_': 2, 'fist_': 1, 'tightly_': 1, 'crack_': 2, 'glimpse_': 1, 'visits_': 2, 'flattered_': 2, 'punish_': 2, 'boldness_': 1, 'unhooked_': 1, 'nail_': 3, 'buckled_': 2, 'squeeze_': 1, 'brutally_': 1, 'blind_': 1, 'utter_': 1, 'recovery_': 1, 'bewailed_': 2, 'lot_': 1, 'bitter_': 2, 'monkey_': 14, 'fox_': 100, 'squirrel_': 7, 'ape_': 1, 'disliked_': 1, 'buckling_': 1, 'mounting_': 3, 'girded_': 1, 'villain_': 1, 'glanced_': 4, 'usually_': 1, 'instinctively_': 1, 'gleaming_': 1, 'blinded_': 3, 'add_': 2, 'kindness_': 4, 'heaped_': 1, 'volksmarchen_': 1, 'seeker_': 2, 'forests_': 5, 'party_': 4, 'befallen_': 1, 'presently_': 3, 'silverhaired_': 1, 'martin_': 4, 'comrades_': 3, 'astonishing_': 1, 'autumn_': 3, 'homeward_': 3, 'whine_': 1, 'creep_': 2, 'tail_': 13, 'moonlight_': 1, 'shaggy_': 1, 'garland_': 1, 'girdle_': 2, 'oakleaves_': 1, 'uprooted_': 1, 'firtree_': 1, 'aspen_': 1, 'leaf_': 2, 'quaked_': 1, 'beckoned_': 1, 'stir_': 3, 'hoarse_': 1, 'grating_': 1, 'fainthearted_': 1, 'plucked_': 2, 'spectre_': 4, 'grinned_': 1, 'mockingly_': 1, 'simpleton_': 1, 'scorn_': 3, 'remain_': 6, 'ragamuffin_': 1, 'bethink_': 2, 'rogue_': 4, 'pouch_': 1, 'apparition_': 2, 'urge_': 2, 'rue_': 1, 'vast_': 1, 'safety_': 3, 'property_': 3, 'thereupon_': 2, 'sawmill_': 1, 'bowshot_': 1, 'hollow_': 7, 'grave_': 9, 'solid_': 1, 'slab_': 1, 'force_': 4, 'opening_': 11, 'crawl_': 1, 'bruises_': 1, 'stairway_': 1, 'spacious_': 1, 'locks_': 3, 'bolts_': 1, 'disturb_': 2, 'lords_': 1, 'leads_': 2, 'adders_': 1, 'serpents_': 1, 'lodge_': 1, 'fastclosed_': 1, 'wellknown_': 1, 'springroot_': 5, 'forget_': 5, 'naught_': 1, 'crowbar_': 1, 'mortal_': 1, 'tools_': 3, 'procure_': 1, 'woodseller_': 1, 'hunters_': 4, 'bursts_': 1, 'crackings_': 1, 'groanings_': 1, 'flash_': 1, 'glitter_': 2, 'pillars_': 3, 'sufficient_': 1, 'lifetime_': 1, 'woe_': 1, 'betide_': 1, 'venture_': 3, 'pains_': 2, 'greediness_': 1, 'breaking_': 1, 'concealed_': 3, 'pricked_': 2, 'bark_': 3, 'carter_': 1, 'whip_': 1, 'shrewdly_': 2, 'fable_': 1, 'nay_': 2, 'graybeard_': 1, 'lied_': 1, 'reasons_': 2, 'risk_': 4, 'snare_': 1, 'blaize_': 2, 'aged_': 1, 'tis_': 1, 'lacking_': 3, 'joke_': 4, 'easiest_': 1, 'woodpecker_': 7, 'spring_': 2, 'builds_': 1, 'brood_': 2, 'block_': 2, 'sod_': 2, 'lurk_': 1, 'ambush_': 1, 'returns_': 3, 'nestlings_': 1, 'perceives_': 1, 'uttering_': 1, 'cries_': 5, 'distress_': 3, 'dart_': 2, 'sunsetting_': 1, 'scarlet_': 3, 'yards_': 1, 'cloth_': 3, 'touches_': 1, 'blocks_': 1, 'violently_': 3, 'drop_': 1, 'strew_': 1, 'spikenard_': 1, 'blossoms_': 1, 'clumsy_': 1, 'method_': 1, 'ways_': 6, 'unheeded_': 1, 'peter_': 96, 'bloch_': 2, 'prosperous_': 3, 'innkeeper_': 1, 'mastercook_': 1, 'steadily_': 3, 'formerly_': 1, 'art_': 2, 'cooking_': 5, 'equal_': 2, 'fishjelly_': 1, 'quince_': 1, 'fritters_': 1, 'wafercakes_': 1, 'gilded_': 1, 'ilse_': 14, 'folks_': 2, 'illword_': 1, 'skill_': 5, 'housewife_': 2, 'tasted_': 1, 'stumbled_': 1, 'dragging_': 3, 'whereupon_': 2, 'soundly_': 3, 'comfort_': 8, 'illmatched_': 1, 'blessed_': 2, 'savage_': 1, 'quarrelsome_': 1, 'blight_': 1, 'kids_': 1, 'winter_': 6, 'childless_': 1, 'bemoan_': 1, 'lightning_': 5, 'cherryblossoms_': 1, 'healthy_': 1, 'spoiling_': 1, 'borrowed_': 1, 'scolding_': 4, 'motto_': 2, 'wits_': 3, 'illluck_': 1, 'pursue_': 2, 'sacks_': 2, 'grudged_': 1, 'portion_': 1, 'buried_': 5, 'sake_': 4, 'armchair_': 1, 'joyful_': 2, 'possessed_': 1, 'straw_': 2, 'comforted_': 4, 'least_': 5, 'tread_': 1, 'song_': 4, 'household_': 3, 'dressing_': 1, 'toper_': 1, 'housekeeping_': 1, 'drunkard_': 1, 'calmly_': 3, 'newly_': 1, 'lamentations_': 1, 'wretch_': 3, 'possessions_': 2, 'patched_': 2, 'penny_': 2, 'lucia_': 15, 'sly_': 2, 'acquaintance_': 1, 'spy_': 1, 'woods_': 3, 'pranks_': 1, 'vale_': 1, 'stock_': 1, 'squirrels_': 1, 'spied_': 1, 'meadowlands_': 1, 'woodpigeons_': 3, 'halfdead_': 1, 'alder_': 1, 'fortunate_': 2, 'obtain_': 1, 'hammerling_': 1, 'struggles_': 1, 'request_': 2, 'respectable_': 2, 'borrow_': 1, 'office_': 1, 'lent_': 1, 'necessary_': 3, 'secure_': 2, 'foretold_': 3, 'adroitly_': 1, 'terrified_': 1, 'actually_': 4, 'masterkey_': 1, 'unlock_': 2, 'possessor_': 1, 'unheardof_': 1, 'sack_': 6, 'box_': 15, 'setting_': 2, 'guard_': 4, 'point_': 4, 'departure_': 1, 'test_': 2, 'muchvaunted_': 1, 'dame_': 14, 'cupboard_': 6, 'control_': 1, 'contents_': 3, 'hoard_': 1, 'opportunity_': 1, 'keyhole_': 1, 'astonishment_': 4, 'creaking_': 1, 'amazement_': 4, 'filling_': 4, 'stirred_': 1, 'blacksmith_': 1, 'garret_': 1, 'idling_': 1, 'tavern_': 1, 'startled_': 3, 'suppose_': 6, 'goodfornothing_': 1, 'untouched_': 1, 'serious_': 1, 'torment_': 1, 'remorse_': 1, 'gloomiest_': 1, 'forebodings_': 1, 'mischief_': 1, 'fancies_': 1, 'beam_': 2, 'poles_': 1, 'consoled_': 1, 'future_': 7, 'ass_': 4, 'bargaining_': 2, 'feelings_': 4, 'perceived_': 2, 'shelf_': 2, 'bare_': 5, 'frightful_': 1, 'ravings_': 1, 'alarm_': 2, 'feared_': 2, 'customer_': 1, 'duke_': 1, 'unfolded_': 2, 'mystery_': 3, 'needlework_': 1, 'commission_': 2, 'opinion_': 4, 'objection_': 2, 'blushing_': 1, 'casting_': 1, 'fondly_': 2, 'friedlin_': 9, 'grieve_': 2, 'utterly_': 1, 'uncle_': 2, 'suitor_': 1, 'blue_': 9, 'smile_': 2, 'lips_': 2, 'glance_': 1, 'acquainted_': 1, 'hasty_': 1, 'smoothed_': 1, 'covering_': 1, 'apron_': 1, 'difficulties_': 2, 'speedily_': 1, 'settled_': 5, 'lovers_': 1, 'hurryburly_': 1, 'apace_': 1, 'heavily_': 3, 'boxes_': 10, 'bales_': 1, 'bridal_': 2, 'wreath_': 1, 'weddinggarland_': 1, 'church_': 2, 'nibbling_': 1, 'scold_': 1, 'eve_': 1, 'pushing_': 1, 'wheelbarrow_': 3, 'toll_': 1, 'barrel_': 5, 'nails_': 6, 'contained_': 3, 'dwelling_': 2, 'rejoicing_': 2, 'embrace_': 2, 'mend_': 2, 'god_': 1, 'bless_': 2, 'job_': 1, 'earned_': 1, 'contribution_': 1, 'furnishing_': 1, 'roused_': 2, 'shrill_': 1, 'reproaches_': 1, 'bystanders_': 1, 'fairly_': 2, 'deafened_': 1, 'promising_': 1, 'afterwards_': 4, 'fishpond_': 1, 'vines_': 1, 'generosity_': 2, 'sonin_': 1, 'suspected_': 1, 'prosperity_': 2, 'successfully_': 1, 'burrowing_': 1, 'mole_': 1, 'staggered_': 1, 'seventyseven_': 1, 'gnome_': 1, 'promises_': 5, 'sparkled_': 1, 'alarming_': 1, 'ironbarred_': 1, 'load_': 2, 'instructions_': 1, 'forced_': 6, 'quantity_': 2, 'layer_': 2, 'hoisted_': 1, 'difficulty_': 6, 'downcast_': 1, 'cheerfully_': 2, 'nevertheless_': 2, 'sup_': 1, 'poverty_': 1, 'causing_': 1, 'ailed_': 1, 'sorrow_': 4, 'quarter_': 3, 'encouraged_': 2, 'crossbowman_': 1, 'noble_': 10, 'count_': 30, 'portrait_': 1, 'absolutely_': 1, 'severe_': 2, 'charmed_': 1, 'forgetting_': 2, 'disguise_': 3, 'recovered_': 4, 'tablecloth_': 1, 'reported_': 4, 'needlewoman_': 1, 'oil_': 4, 'persuaded_': 4, 'displeasing_': 1, 'deceit_': 2, 'disguising_': 1, 'penniless_': 1, 'gnawing_': 1, 'masterless_': 1, 'attentively_': 3, 'deeply_': 3, 'goodfornaught_': 1, 'forsaken_': 1, 'complains_': 1, 'scolds_': 1, 'takes_': 3, 'somewhat_': 1, 'amused_': 1, 'enable_': 1, 'separated_': 1, 'comrade_': 2, 'indignantly_': 1, 'jest_': 2, 'mock_': 1, 'hothead_': 1, 'equipped_': 1, 'gallant_': 1, 'dowry_': 3, 'plenishings_': 1, 'profits_': 1, 'abroad_': 1, 'beloved_': 3, 'describe_': 1, 'wealthy_': 2, 'cottager_': 1, 'tumbledown_': 1, 'pig_': 1, 'miser_': 1, 'starved_': 2, 'belong_': 9, 'illgotten_': 1, 'squeezed_': 1, 'paper_': 4, 'remembrance_': 3, 'goodhearted_': 1, 'wrongfully_': 1, 'poorest_': 1, 'helping_': 1, 'jutted_': 1, 'shillings_': 5, 'vegetables_': 4, 'milk_': 8, 'adding_': 2, 'costing_': 1, 'grey_': 3, 'unlike_': 3, 'snugly_': 1, 'mantel_': 1, 'paw_': 7, 'deal_': 4, 'advised_': 2, 'audience_': 1, 'snatched_': 3, 'plate_': 1, 'bite_': 2, 'fared_': 3, 'rats_': 3, 'beds_': 3, 'shakes_': 1, 'number_': 3, 'scuffling_': 1, 'freeing_': 1, 'prime_': 2, 'minister_': 14, 'islandische_': 4, 'marchen_': 1, 'immortality_': 10, 'cleverer_': 2, 'choosing_': 1, 'tutors_': 1, 'rule_': 4, 'character_': 1, 'lighthearted_': 1, 'produced_': 2, 'alteration_': 1, 'explanation_': 1, 'pictures_': 1, 'portraits_': 1, 'rank_': 3, 'embassy_': 2, 'haunts_': 1, 'dismay_': 4, 'forward_': 8, 'resign_': 1, 'travelling_': 5, 'fatherland_': 1, 'topmost_': 1, 'shaking_': 2, 'astonished_': 4, 'boughs_': 1, 'fiercely_': 2, 'kindred_': 2, 'today_': 5, 'gratefully_': 2, 'rejoices_': 1, 'eternity_': 5, 'tempting_': 1, 'persuade_': 4, 'sorrowfully_': 5, 'resolution_': 1, 'firmly_': 2, 'cabinet_': 1, 'picture_': 3, 'memory_': 3, 'borne_': 3, 'whirlwind_': 1, 'tunic_': 1, 'busily_': 1, 'spadefuls_': 1, 'baldheaded_': 6, 'surprises_': 1, 'level_': 1, 'digger_': 1, 'stately_': 3, 'added_': 10, 'wander_': 2, 'levelled_': 1, 'eight_': 3, 'oneself_': 1, 'thanking_': 1, 'shutting_': 1, 'street_': 4, 'twentyseven_': 1, 'languages_': 3, 'ruler_': 2, 'countryman_': 1, 'occupied_': 1, 'building_': 1, 'veil_': 4, 'complaints_': 1, 'dealing_': 1, 'justice_': 2, 'ordinary_': 3, 'dismiss_': 1, 'petitioners_': 1, 'journeying_': 1, 'needles_': 6, 'single_': 4, 'needle_': 9, 'sewing_': 3, 'rod_': 6, 'broad_': 1, 'upwards_': 3, 'mistveiled_': 3, 'wishing_': 1, 'fearing_': 2, 'prove_': 5, 'wondrous_': 1, 'sheath_': 4, 'springing_': 1, 'thankfully_': 1, 'dwell_': 1, 'immortals_': 3, 'rush_': 2, 'dust_': 6, 'remaining_': 2, 'understanding_': 1, 'prevented_': 1, 'unlocked_': 1, 'flasks_': 1, 'trapdoor_': 2, 'flask_': 6, 'sprinkle_': 2, 'pointing_': 3, 'springs_': 1, 'reigned_': 4, 'embroidery_': 2, 'spell_': 3, 'sprinkled_': 1, 'raising_': 2, 'spade_': 5, 'yawned_': 1, 'outspread_': 1, 'feathers_': 9, 'awakened_': 3, 'reaching_': 1, 'galleries_': 1, 'sulphur_': 1, 'darting_': 1, 'whitebearded_': 1, 'prey_': 1, 'belongs_': 1, 'rate_': 4, 'decide_': 2, 'wager_': 5, 'narrow_': 2, 'line_': 2, 'surrounds_': 1, 'proposed_': 5, 'moments_': 1, 'prize_': 3, 'wasp_': 4, 'nearing_': 1, 'volksmurchen_': 1, 'stonecutter_': 8, 'slabs_': 1, 'gravestones_': 1, 'kinds_': 1, 'purposes_': 1, 'workman_': 4, 'customers_': 2, 'unbelieving_': 1, 'gravestone_': 1, 'harder_': 4, 'heavier_': 3, 'curtains_': 1, 'tassels_': 1, 'fancy_': 6, 'wooden_': 7, 'furniture_': 1, 'respect_': 1, 'envied_': 1, 'summer_': 4, 'blazed_': 1, 'breathe_': 1, 'blinds_': 1, 'umbrella_': 5, 'coveted_': 1, 'poured_': 2, 'scorched_': 4, 'browner_': 2, 'mightier_': 6, 'beams_': 3, 'faces_': 3, 'poorer_': 1, 'discontent_': 1, 'cloud_': 8, 'captive_': 2, 'blossomed_': 1, 'rain_': 5, 'crops_': 1, 'rice_': 6, 'villages_': 1, 'unmoved_': 1, 'gloried_': 1, 'wrath_': 1, 'sweat_': 1, 'brow_': 1, 'toiled_': 1, 'stonecutting_': 1, 'scanty_': 1, 'somebody_': 2, 'japanische_': 3, 'goldbearded_': 7, 'draws_': 1, 'welfare_': 1, 'spadeful_': 1, 'stepson_': 2, 'grounds_': 1, 'waterbrook_': 1, 'milkbrook_': 1, 'flocked_': 2, 'forbid_': 2, 'watchmen_': 2, 'purely_': 1, 'mornings_': 1, 'brim_': 1, 'smoke_': 1, 'earliest_': 2, 'streaks_': 1, 'mattered_': 1, 'cage_': 7, 'station_': 1, 'stooping_': 3, 'soldier_': 3, 'bacon_': 3, 'drugged_': 1, 'watchers_': 2, 'redoubled_': 1, 'ferocious_': 1, 'strangers_': 1, 'visiting_': 1, 'drunken_': 1, 'tormentors_': 1, 'captivity_': 1, 'terrible_': 5, 'stepfather_': 4, 'games_': 3, 'shooting_': 2, 'mark_': 1, 'bars_': 2, 'earnestly_': 1, 'tenderhearted_': 1, 'pitied_': 1, 'sorrows_': 5, 'fold_': 2, 'kinder_': 1, 'valleys_': 1, 'woodpigeon_': 6, 'unstrung_': 2, 'shores_': 1, 'stork_': 8, 'raised_': 6, 'discharged_': 1, 'coachmen_': 1, 'dreadfully_': 2, 'duty_': 3, 'steward_': 10, 'storehouses_': 1, 'separate_': 1, 'grains_': 1, 'worth_': 3, 'unfortunate_': 4, 'boast_': 1, 'scatter_': 1, 'task_': 9, 'soothingly_': 1, 'debt_': 1, 'dense_': 2, 'sorted_': 1, 'industry_': 1, 'envious_': 3, 'hatch_': 1, 'boasting_': 1, 'pin_': 2, 'keeper_': 3, 'hurried_': 4, 'unlikely_': 1, 'peering_': 2, 'vex_': 1, 'ducks_': 2, 'promoted_': 1, 'natures_': 1, 'falsehood_': 1, 'prophet_': 4, 'spells_': 3, 'claimed_': 2, 'stammering_': 1, 'miracle_': 2, 'accomplished_': 2, 'hopeless_': 2, 'forbidden_': 1, 'tapping_': 1, 'prophesied_': 1, 'musical_': 1, 'storks_': 1, 'swaddling_': 1, 'lute_': 1, 'gradually_': 2, 'rising_': 2, 'produce_': 1, 'wizard_': 2, 'accustomed_': 5, 'ceremony_': 1, 'performed_': 1, 'tasks_': 2, 'fatherinlaw_': 3, 'ignorant_': 1, 'threatened_': 1, 'utmost_': 2, 'chased_': 2, 'whips_': 1, 'borders_': 1, 'tritill_': 12, 'litill_': 8, 'proclamation_': 1, 'successful_': 2, 'obliged_': 5, 'meant_': 3, 'boots_': 3, 'hillside_': 1, 'pulling_': 1, 'wallet_': 3, 'mouthfuls_': 2, 'beggar_': 4, 'limped_': 1, 'space_': 6, 'crumbs_': 1, 'ogress_': 21, 'sweep_': 2, 'dirt_': 2, 'sulkily_': 2, 'punishment_': 5, 'dealt_': 1, 'cracked_': 4, 'skull_': 1, 'beggars_': 1, 'deaf_': 1, 'rid_': 9, 'generous_': 1, 'provide_': 1, 'treating_': 1, 'crumbled_': 1, 'crumb_': 1, 'gayest_': 2, 'plumage_': 1, 'shiver_': 1, 'await_': 2, 'striding_': 2, 'concluded_': 1, 'thicker_': 2, 'pull_': 4, 'flashed_': 2, 'shovel_': 1, 'pillows_': 4, 'feather_': 5, 'quantities_': 1, 'missed_': 1, 'weight_': 9, 'quivered_': 1, 'pillowcases_': 1, 'slay_': 2, 'cups_': 2, 'fifty_': 1, 'herd_': 5, 'ox_': 9, 'biggest_': 3, 'bullock_': 2, 'oars_': 1, 'luckiest_': 1, 'helm_': 1, 'steered_': 2, 'fainted_': 1, 'names_': 3, 'sigurd_': 75, 'lineik_': 22, 'famed_': 1, 'apart_': 1, 'carriages_': 1, 'grandeur_': 1, 'courts_': 2, 'holds_': 1, 'complaining_': 1, 'wrongs_': 2, 'entrust_': 1, 'lady_': 8, 'remote_': 1, 'suitable_': 2, 'fog_': 4, 'drifted_': 1, 'cliff_': 3, 'jutting_': 1, 'sheltered_': 1, 'bay_': 3, 'anchored_': 1, 'deserted_': 3, 'harp_': 1, 'friendliness_': 1, 'outofthe_': 1, 'vikings_': 1, 'searobbers_': 1, 'slew_': 1, 'pinch_': 1, 'blauvor_': 5, 'laufer_': 13, 'commonly_': 1, 'unworthy_': 1, 'position_': 3, 'gained_': 2, 'prevailed_': 3, 'conducted_': 2, 'dresses_': 1, 'consulting_': 1, 'councils_': 1, 'doubts_': 2, 'stepmother_': 11, 'members_': 1, 'disappearing_': 1, 'vacant_': 1, 'uncomfortable_': 1, 'progress_': 2, 'cheating_': 1, 'due_': 2, 'undertake_': 2, 'ordering_': 2, 'checked_': 2, 'eastwards_': 1, 'enemies_': 3, 'smoothly_': 1, 'thunder_': 3, 'rocks_': 4, 'dripping_': 1, 'obeying_': 1, 'expression_': 2, 'uglier_': 2, 'ugliest_': 1, 'greece_': 7, 'although_': 1, 'greeks_': 1, 'boyhood_': 1, 'nation_': 1, 'difficult_': 5, 'dispersed_': 1, 'reports_': 1, 'hitherto_': 2, 'background_': 1, 'lowered_': 3, 'arches_': 1, 'lights_': 1, 'attendants_': 5, 'silk_': 7, 'weave_': 3, 'weaving_': 1, 'shaken_': 2, 'sobs_': 4, 'banished_': 1, 'unforgiving_': 1, 'hidingplace_': 4, 'woven_': 1, 'stuff_': 3, 'richer_': 4, 'mixing_': 1, 'thread_': 4, 'admiringly_': 1, 'outshine_': 1, 'finish_': 2, 'unkind_': 3, 'relief_': 1, 'moon_': 4, 'pattern_': 1, 'stitches_': 2, 'flower_': 1, 'folds_': 1, 'deserved_': 5, 'shameful_': 1, 'fault_': 3, 'forgive_': 5, 'ogres_': 1, 'ogresses_': 1, 'captured_': 1, 'beheaded_': 1, 'nobleman_': 1, 'couples_': 1, 'muhrchen_': 1, 'poestion_': 1, 'wien_': 1, 'marten_': 7, 'poultry_': 1, 'fowls_': 1, 'traps_': 2, 'capturing_': 1, 'foe_': 2, 'sledge_': 3, 'booty_': 1, 'godfather_': 4, 'henhouse_': 1, 'trap_': 1, 'hardest_': 1, 'supped_': 1, 'worst_': 2, 'hungriest_': 1, 'smaller_': 3, 'remembering_': 1, 'michael_': 5, 'remarked_': 1, 'stale_': 1, 'appetite_': 2, 'important_': 3, 'dine_': 1, 'preferred_': 2, 'friendship_': 1, 'rounds_': 1, 'snowshoes_': 8, 'screeched_': 1, 'cocking_': 1, 'illnatured_': 1, 'agree_': 2, 'extraordinary_': 1, 'sacrifice_': 1, 'pang_': 1, 'hopping_': 1, 'anguish_': 1, 'console_': 1, 'drooping_': 1, 'ruffled_': 1, 'gay_': 1, 'jaunty_': 1, 'quivering_': 2, 'purpose_': 2, 'frighten_': 1, 'axe_': 3, 'sacrificed_': 2, 'overcome_': 1, 'suited_': 1, 'cowering_': 1, 'timid_': 2, 'erect_': 1, 'teaching_': 1, 'continue_': 2, 'stiller_': 1, 'stiffer_': 1, 'hopped_': 1, 'peck_': 1, 'snap_': 2, 'struggling_': 2, 'style_': 2, 'precipice_': 2, 'strewn_': 1, 'forgiven_': 1, 'depriving_': 1, 'intending_': 1, 'jaws_': 1, 'slunk_': 1, 'supperless_': 1, 'unpleasant_': 1, 'chanced_': 1, 'mourner_': 4, 'howl_': 7, 'specimen_': 1, 'howling_': 1, 'lament_': 3, 'hu_': 3, 'hum_': 1, 'hoh_': 1, 'resting_': 1, 'services_': 2, 'talents_': 1, 'pu_': 3, 'pum_': 1, 'poh_': 1, 'piped_': 1, 'altered_': 2, 'lou_': 6, 'spinner_': 1, 'baker_': 1, 'cakes_': 9, 'lamentation_': 1, 'wail_': 1, 'damp_': 1, 'storehouse_': 4, 'finer_': 2, 'pap_': 1, 'wailing_': 2, 'soles_': 1, 'traitor_': 2, 'slipping_': 1, 'tip_': 2, 'tails_': 5, 'foxes_': 2, 'piro_': 25, 'pear_': 2, 'idled_': 1, 'contenting_': 1, 'pears_': 17, 'attracted_': 1, 'basketful_': 1, 'ripest_': 2, 'begs_': 2, 'season_': 1, 'midwinter_': 1, 'wants_': 3, 'humble_': 1, 'respects_': 1, 'snow_': 2, 'affects_': 1, 'reproachfully_': 1, 'tailor_': 16, 'shop_': 4, 'grandest_': 1, 'fits_': 1, 'serve_': 1, 'counts_': 1, 'coats_': 1, 'tie_': 1, 'parcel_': 1, 'string_': 5, 'horsedealer_': 1, 'speaks_': 1, 'management_': 1, 'afford_': 2, 'plucking_': 1, 'proposal_': 3, 'pleases_': 2, 'mysterious_': 1, 'pastures_': 1, 'snuffling_': 1, 'reining_': 1, 'fatter_': 1, 'farms_': 1, 'meadow_': 6, 'scrambled_': 1, 'banged_': 1, 'dismount_': 1, 'excellency_': 1, 'approval_': 1, 'lit_': 3, 'bury_': 4, 'honours_': 1, 'liking_': 2, 'doorstep_': 1, 'wailed_': 1, 'nonsense_': 2, 'thankless_': 1, 'soften_': 1, 'softened_': 1, 'sicilianische_': 2, 'herdsman_': 28, 'cow_': 6, 'gain_': 1, 'sense_': 2, 'idleness_': 1, 'outskirts_': 1, 'ravine_': 1, 'row_': 2, 'cord_': 5, 'swinging_': 3, 'bundle_': 6, 'swamp_': 3, 'arranged_': 2, 'points_': 3, 'thither_': 1, 'graze_': 1, 'befalls_': 1, 'refusing_': 1, 'gather_': 2, 'anyway_': 1, 'ram_': 4, 'patch_': 1, 'tips_': 1, 'visible_': 1, 'panting_': 4, 'sternly_': 1, 'sob_': 1, 'stammered_': 1, 'troublesome_': 2, 'fatigue_': 1, 'ringing_': 2, 'dusk_': 2, 'blame_': 2, 'goldtipped_': 1, 'hoofs_': 1, 'reckons_': 1, 'scamper_': 1, 'wildest_': 1, 'forthwith_': 1, 'lowing_': 1, 'cherished_': 2, 'hedges_': 1, 'ditches_': 1, 'rocky_': 1, 'bordered_': 1, 'circle_': 1, 'unable_': 4, 'gggone_': 1, 'scoundrel_': 1, 'bellowing_': 1, 'horned_': 1, 'sprung_': 2, 'reproach_': 2, 'henceforward_': 2, 'mown_': 1, 'trained_': 1, 'joiner_': 1, 'showing_': 1, 'hangs_': 4, 'stab_': 1, 'match_': 3, 'eisenkopf_': 25, 'strapping_': 1, 'stout_': 1, 'hired_': 2, 'homesick_': 1, 'slice_': 2, 'shell_': 3, 'whistle_': 1, 'crowding_': 2, 'halves_': 2, 'multitudes_': 1, 'market_': 1, 'sold_': 6, 'orchard_': 1, 'herds_': 1, 'thinks_': 2, 'brownskinned_': 1, 'merriest_': 1, 'fancied_': 1, 'reined_': 1, 'worlds_': 2, 'warmed_': 1, 'napkin_': 3, 'cake_': 3, 'wider_': 1, 'slippery_': 1, 'napkins_': 8, 'eighth_': 2, 'ironstrong_': 6, 'quickear_': 6, 'bayed_': 1, 'pat_': 1, 'promisebreaker_': 1, 'grayhaired_': 1, 'combing_': 2, 'sowed_': 1, 'ploughed_': 1, 'striking_': 1, 'fainting_': 3, 'form_': 2, 'revived_': 1, 'crushed_': 1, 'clamber_': 1, 'slap_': 1, 'silly_': 1, 'cuff_': 1, 'dreading_': 1, 'bounding_': 1, 'diamonds_': 2, 'goldenhaired_': 3, 'faded_': 1, 'abu_': 34, 'nowas_': 34, 'vizir_': 2, 'sultana_': 14, 'clapped_': 1, 'jester_': 1, 'apiece_': 1, 'blanket_': 1, 'cover_': 1, 'admitted_': 1, 'burial_': 3, 'pepper_': 1, 'smarted_': 1, 'shroud_': 2, 'wrap_': 1, 'abashed_': 1, 'sackcloth_': 2, 'wrapping_': 1, 'subida_': 6, 'private_': 1, 'purse_': 1, 'containing_': 2, 'funeral_': 1, 'kissing_': 1, 'planning_': 1, 'enjoying_': 2, 'ourselves_': 2, 'foreseen_': 1, 'doorkeeper_': 2, 'latticed_': 1, 'stiffly_': 1, 'linen_': 1, 'sheet_': 6, 'corpse_': 1, 'motionless_': 2, 'replaced_': 1, 'corpses_': 1, 'impudent_': 2, 'bursting_': 1, 'tricks_': 4, 'tunische_': 1, 'motiratika_': 1, 'delicious_': 3, 'honey_': 5, 'pan_': 1, 'disgust_': 3, 'bees_': 1, 'rejected_': 1, 'bowlful_': 1, 'ants_': 1, 'sweetened_': 1, 'sugar_': 1, 'pannikin_': 1, 'pot_': 9, 'lifting_': 1, 'frogs_': 2, 'willows_': 2, 'tastes_': 2, 'waterlilies_': 1, 'jug_': 1, 'lakes_': 1, 'bobbed_': 1, 'shave_': 2, 'beads_': 4, 'motikatika_': 14, 'planned_': 1, 'outwit_': 2, 'shaved_': 2, 'bone_': 1, 'babies_': 5, 'necks_': 2, 'calls_': 1, 'bewilderment_': 1, 'named_': 1, 'bowl_': 1, 'grumbled_': 1, 'beans_': 3, 'coverlet_': 2, 'consulted_': 4, 'baronga_': 1, 'h_': 1, 'junod_': 1, 'niels_': 52, 'giants_': 14, 'moors_': 1, 'jutland_': 3, 'soil_': 1, 'sandy_': 1, 'elder_': 9, 'rasmus_': 14, 'hunter_': 1, 'gun_': 8, 'muzzleloading_': 1, 'flintlock_': 1, 'practice_': 1, 'catholics_': 1, 'rome_': 8, 'pope_': 1, 'unwilling_': 2, 'sided_': 1, 'signpost_': 1, 'roads_': 2, 'moving_': 1, 'rustling_': 1, 'occasionally_': 1, 'colder_': 1, 'broth_': 2, 'beef_': 1, 'spoons_': 1, 'forks_': 1, 'hayforks_': 1, 'bucketfuls_': 1, 'joints_': 1, 'meat_': 3, 'enormous_': 1, 'scared_': 1, 'finally_': 1, 'bang_': 3, 'bullet_': 2, 'fork_': 5, 'growled_': 1, 'hitting_': 1, 'prick_': 1, 'acted_': 1, 'peacemaker_': 1, 'titbit_': 1, 'dozen_': 1, 'interposed_': 1, 'fools_': 1, 'gestures_': 1, 'snapped_': 1, 'observations_': 1, 'captor_': 1, 'barking_': 1, 'begins_': 1, 'hinder_': 1, 'handsomely_': 1, 'rampart_': 2, 'featherbed_': 1, 'unhurt_': 1, 'dump_': 1, 'kennel_': 1, 'courtyard_': 3, 'outer_': 1, 'brilliantly_': 2, 'lighted_': 1, 'drinkinghorn_': 2, 'engraved_': 2, 'rim_': 1, 'inscription_': 3, 'drinks_': 1, 'wield_': 2, 'stopper_': 1, 'apartment_': 1, 'goldhemmed_': 2, 'goldembroidered_': 2, 'slippers_': 2, 'using_': 1, 'winning_': 1, 'sheepfarmer_': 2, 'latter_': 1, 'posture_': 1, 'straighten_': 1, 'oft_': 1, 'reception_': 1, 'slower_': 1, 'movements_': 1, 'appears_': 1, 'searching_': 1, 'aroused_': 1, 'clearer_': 1, 'claim_': 4, 'highway_': 1, 'meantime_': 2, 'tramped_': 1, 'range_': 1, 'towering_': 1, 'frozen_': 1, 'sole_': 1, 'shoe_': 1, 'shoes_': 2, 'discouraged_': 1, 'finishing_': 1, 'denmark_': 1, 'history_': 1, 'moor_': 2, 'north_': 1, 'south_': 1, 'newcomers_': 1, 'careless_': 1, 'alarmed_': 1, 'device_': 1, 'slipper_': 2, 'fare_': 1, 'bedroom_': 1, 'submit_': 1, 'engraver_': 1, 'arrival_': 1, 'earl_': 1, 'historians_': 1, 'paul_': 52, 'oaks_': 1, 'weeds_': 1, 'comb_': 1, 'comber_': 8, 'wrestle_': 12, 'grinding_': 1, 'crusher_': 2, 'sport_': 1, 'kneading_': 1, 'dough_': 1, 'kneader_': 2, 'boil_': 1, 'roast_': 1, 'dwarf_': 10, 'saucepan_': 2, 'boiling_': 1, 'complained_': 1, 'simmering_': 1, 'stew_': 1, 'snatching_': 2, 'collar_': 1, 'track_': 1, 'underground_': 2, 'entreaties_': 1, 'boulders_': 2, 'smashed_': 1, 'roar_': 1, 'seizing_': 4, 'dragons_': 1, 'fiercer_': 1, 'confined_': 1, 'shirt_': 5, 'struggle_': 1, 'prettier_': 1, 'quitted_': 1, 'regions_': 1, 'cupful_': 2, 'cask_': 2, 'rearing_': 1, 'preparing_': 1, 'upward_': 1, 'dangling_': 1, 'ingratitude_': 1, 'fulfilling_': 2, 'griffin_': 3, 'overhead_': 1, 'griffins_': 1, 'pour_': 1, 'faithless_': 1, 'wickedness_': 1, 'castles_': 2, 'tanuki_': 25, 'hunted_': 2, 'cooing_': 1, 'doves_': 1, 'thickest_': 1, 'greyfurred_': 1, 'longtailed_': 1, 'skilled_': 1, 'twang_': 1, 'spear_': 1, 'tempted_': 1, 'prudence_': 1, 'starvation_': 1, 'buyer_': 4, 'tanukis_': 1, 'skins_': 1, 'satisfaction_': 2, 'tanaki_': 3, 'buyers_': 1, 'chink_': 2, 'betrayed_': 2, 'avenge_': 1, 'chill_': 1, 'transform_': 1, 'transforming_': 1, 'reality_': 1, 'conceiving_': 1, 'attacked_': 1, 'tanoki_': 1, 'avenged_': 1, 'probably_': 1, 'crab_': 17, 'neat_': 1, 'hers_': 1, 'pilgrim_': 2, 'kernel_': 2, 'kaki_': 3, 'shadow_': 2, 'treeclimber_': 1, 'apologise_': 1, 'kakis_': 2, 'rotten_': 1, 'shocking_': 1, 'climber_': 1, 'somersaults_': 3, 'ached_': 1, 'ricemortar_': 1, 'egg_': 4, 'severely_': 1, 'behaved_': 1, 'waterbucket_': 1, 'hypocritical_': 1, 'peered_': 1, 'scratched_': 3, 'smarting_': 1, 'gullfaxi_': 6, 'gunnfoder_': 1, 'monument_': 1, 'ingiborg_': 20, 'informed_': 2, 'lately_': 1, 'suggested_': 1, 'regained_': 1, 'spirits_': 1, 'earthquake_': 2, 'giantess_': 19, 'wading_': 3, 'ankle_': 1, 'ploughing_': 1, 'beer_': 3, 'nicest_': 1, 'obstinate_': 1, 'panelling_': 1, 'knee_': 1, 'squabbled_': 1, 'withered_': 3, 'finds_': 1, 'stalked_': 1, 'obstinacy_': 1, 'ball_': 6, 'rings_': 1, 'reaches_': 1, 'cliffs_': 1, 'boathook_': 1, 'greet_': 2, 'conquer_': 1, 'glancing_': 1, 'hook_': 1, 'hauled_': 3, 'challenged_': 3, 'overthrew_': 1, 'hauling_': 1, 'drunk_': 2, 'hideous_': 1, 'wrestling_': 1, 'fierce_': 2, 'helga_': 19, 'glove_': 4, 'transformed_': 1, 'wool_': 4, 'tucked_': 1, 'smells_': 1, 'smelt_': 1, 'resumed_': 1, 'bunch_': 1, 'opens_': 1, 'ornamented_': 1, 'rides_': 2, 'wears_': 1, 'argued_': 1, 'doubtfully_': 1, 'ruby_': 1, 'gunnfjoder_': 1, 'plume_': 2, 'driedup_': 1, 'bather_': 1, 'hailstones_': 1, 'eggs_': 1, 'dismounting_': 1, 'strides_': 1, 'agony_': 2, 'hailstorm_': 1, 'hail_': 1, 'pouring_': 1, 'arriving_': 1, 'menservants_': 1, 'tying_': 1, 'intended_': 1, 'released_': 1, 'sham_': 1, 'ambitious_': 1, 'labakan_': 41, 'alexandria_': 7, 'stitch_': 2, 'redhot_': 1, 'queer_': 1, 'fellowworkmen_': 1, 'aristocratic_': 1, 'fridays_': 1, 'mosque_': 1, 'goodday_': 1, 'nod_': 1, 'condescending_': 1, 'absurdities_': 1, 'workshop_': 2, 'admiring_': 2, 'material_': 2, 'paced_': 1, 'savings_': 1, 'excited_': 1, 'curiosity_': 1, 'majestic_': 1, 'ridiculous_': 1, 'ambling_': 1, 'murva_': 3, 'horseman_': 3, 'overtook_': 1, 'beguile_': 1, 'newcomer_': 1, 'omar_': 28, 'nephew_': 2, 'elfi_': 8, 'bey_': 7, 'confidences_': 1, 'hinted_': 1, 'birth_': 4, 'pacha_': 2, 'cairo_': 2, 'childhood_': 1, 'deathbed_': 1, 'astrologers_': 1, 'vow_': 8, 'twentysecond_': 1, 'expressly_': 1, 'east_': 1, 'twentytwo_': 3, 'dagger_': 8, 'preserved_': 2, 'interested_': 1, 'comparisons_': 1, 'confess_': 1, 'finelooking_': 1, 'haunted_': 1, 'arose_': 1, 'denied_': 2, 'passport_': 1, 'murder_': 1, 'placing_': 2, 'belt_': 1, 'saddling_': 1, 'realise_': 1, 'losses_': 1, 'conscience_': 1, 'supported_': 1, 'neighbourhood_': 1, 'wanting_': 1, 'procession_': 1, 'camels_': 1, 'tents_': 1, 'pitched_': 2, 'shrewd_': 1, 'impatience_': 1, 'remorseful_': 1, 'blighted_': 1, 'vanity_': 1, 'proudest_': 1, 'moreover_': 1, 'superb_': 1, 'girt_': 1, 'cashmere_': 1, 'jewelled_': 1, 'turban_': 1, 'bending_': 2, 'em_': 1, 'brace_': 1, 'solemn_': 2, 'mingled_': 1, 'unclouded_': 1, 'disgraceful_': 1, 'impostor_': 3, 'attempt_': 1, 'rob_': 1, 'standersby_': 1, 'calmness_': 1, 'halfcrazy_': 1, 'apprentice_': 1, 'infuriated_': 1, 'foaming_': 1, 'press_': 1, 'dromedary_': 2, 'notions_': 1, 'support_': 2, 'caparisoned_': 1, 'lookout_': 1, 'sached_': 2, 'wachabites_': 1, 'soothsayers_': 1, 'injured_': 1, 'trusty_': 1, 'deprived_': 1, 'dignified_': 1, 'wildfire_': 1, 'decorated_': 1, 'inhabitants_': 1, 'thankfulness_': 1, 'rapture_': 1, 'public_': 1, 'grander_': 1, 'entire_': 1, 'inlaid_': 1, 'amethysts_': 1, 'canopy_': 1, 'crimson_': 1, 'sheik_': 1, 'medina_': 2, 'fanned_': 1, 'peacockfeather_': 1, 'fan_': 2, 'trumpets_': 1, 'drums_': 1, 'shouts_': 1, 'cheers_': 1, 'announced_': 1, 'lowbending_': 1, 'interrupted_': 1, 'keepers_': 1, 'recognises_': 1, 'madman_': 1, 'tones_': 2, 'unmistakable_': 1, 'unsuspicious_': 1, 'depend_': 1, 'judgment_': 1, 'retired_': 1, 'convince_': 1, 'believes_': 1, 'crazy_': 2, 'learns_': 1, 'requires_': 1, 'kaftan_': 4, 'compete_': 1, 'humour_': 1, 'threads_': 1, 'honoured_': 2, 'masterpiece_': 1, 'bet_': 1, 'lance_': 1, 'sixty_': 1, 'sew_': 1, 'pupil_': 1, 'vexation_': 1, 'adolzaide_': 1, 'race_': 1, 'betook_': 1, 'cedar_': 2, 'ancestors_': 1, 'despise_': 1, 'descendant_': 1, 'veiled_': 1, 'errand_': 1, 'ivory_': 5, 'lid_': 3, 'vainly_': 1, 'glory_': 3, 'sending_': 1, 'contains_': 1, 'proofs_': 1, 'nobler_': 1, 'mottoes_': 1, 'uncertain_': 1, 'vanish_': 1, 'allah_': 1, 'sceptre_': 1, 'velvet_': 1, 'cushion_': 1, 'cobbler_': 1, 'pachas_': 1, 'emirs_': 1, 'remount_': 1, 'bruised_': 1, 'battered_': 1, 'limbs_': 1, 'misfortunes_': 1, 'jeweller_': 1, 'neatest_': 1, 'sewed_': 1, 'darling_': 1, 'exprince_': 1, 'apt_': 1, 'colony_': 4, 'community_': 2, 'related_': 1, 'overrun_': 1, 'plagues_': 1, 'descendants_': 1, 'beings_': 1, 'housework_': 2, 'events_': 1, 'scorned_': 1, 'consequently_': 1, 'reduced_': 1, 'lizina_': 26, 'fonder_': 1, 'broomhandle_': 1, 'warmly_': 1, 'misgivings_': 1, 'frequently_': 1, 'hindered_': 1, 'constant_': 1, 'succession_': 1, 'inspect_': 2, 'chair_': 2, 'peeled_': 1, 'prowled_': 1, 'pots_': 3, 'pans_': 1, 'shelves_': 1, 'resounded_': 1, 'purring_': 1, 'maid_': 4, 'kindhearted_': 1, 'kittens_': 3, 'tumbled_': 1, 'quarrels_': 1, 'nursed_': 1, 'lap_': 1, 'tabby_': 1, 'kindnesses_': 1, 'favourable_': 1, 'impression_': 1, 'meats_': 1, 'barn_': 1, 'blackeyed_': 1, 'gatto_': 11, 'observant_': 1, 'pine_': 1, 'sensible_': 1, 'inner_': 1, 'vaulted_': 1, 'earthenware_': 1, 'jars_': 4, 'liquid_': 3, 'grin_': 1, 'moustaches_': 1, 'lashes_': 1, 'jar_': 3, 'timidly_': 1, 'bathed_': 1, 'heavens_': 1, 'natural_': 1, 'statue_': 1, 'purred_': 1, 'contrary_': 1, 'brays_': 1, 'crowning_': 1, 'glossy_': 1, 'bray_': 1, 'fence_': 1, 'donkey_': 6, 'uttered_': 2, 'admiration_': 1, 'clothing_': 2, 'madly_': 1, 'pussies_': 1, 'peppina_': 10, 'skirt_': 1, 'decidedly_': 1, 'reasonable_': 1, 'largeminded_': 1, 'tomcats_': 1, 'mischievous_': 1, 'alighted_': 1, 'rollingpin_': 1, 'squalled_': 1, 'aware_': 1, 'surly_': 1, 'disagreeable_': 1, 'corners_': 1, 'spiders_': 1, 'webs_': 1, 'ceilings_': 1, 'windowpanes_': 1, 'feeble_': 1, 'caesar_': 1, 'swollen_': 2, 'kicked_': 1, 'hector_': 1, 'abscess_': 1, 'agrippina_': 1, 'attic_': 1, 'modest_': 1, 'suffocated_': 1, 'vengeful_': 1, 'ashheap_': 1, 'begone_': 1, 'braying_': 2, 'stumbling_': 1, 'wayside_': 1, 'yelling_': 1, 'basin_': 1, 'soap_': 1, 'ashes_': 1, 'adorned_': 1, 'unmercifully_': 1, 'broom_': 1, 'parlour_': 1, 'inhabited_': 1, 'adored_': 1, 'mew_': 3, 'grimalkins_': 1, 'puffedup_': 1, 'traitress_': 1, 'hilt_': 1, 'demanded_': 1, 'terrific_': 1, 'headed_': 1, 'shrine_': 8, 'st_': 6, 'james_': 6, 'pilgrimage_': 4, 'eighteenth_': 5, 'cradle_': 4, 'beset_': 1, 'imagined_': 1, 'estates_': 1, 'thriving_': 1, 'causes_': 1, 'gladdened_': 1, 'unto_': 1, 'unequal_': 2, 'spurred_': 1, 'terms_': 1, 'familiarity_': 1, 'comer_': 3, 'proceed_': 1, 'sociable_': 1, 'duller_': 1, 'sighed_': 1, 'lively_': 1, 'entertaining_': 1, 'roadside_': 1, 'thine_': 2, 'dies_': 2, 'halfstarved_': 1, 'abode_': 1, 'balcony_': 2, 'wonderfully_': 1, 'excelled_': 1, 'bedtime_': 1, 'poisoned_': 1, 'linger_': 1, 'altar_': 1, 'feasts_': 1, 'awaits_': 1, 'anxiety_': 1, 'starts_': 1, 'spurs_': 1, 'departed_': 2, 'overtake_': 1, 'tent_': 1, 'miserable_': 1, 'tended_': 1, 'heal_': 2, 'smear_': 1, 'wounds_': 2, 'sworn_': 1, 'smeared_': 1, 'lizia_': 1, 'gonzenbach_': 1, 'maria_': 27, 'widower_': 1, 'basil_': 1, 'accompanied_': 1, 'anyhow_': 1, 'neighbour_': 3, 'thrusting_': 1, 'quarrelled_': 1, 'truant_': 1, 'plants_': 1, 'disobeyed_': 1, 'overlooked_': 1, 'medlars_': 2, 'scramble_': 1, 'goodnatured_': 1, 'lemons_': 1, 'farther_': 1, 'pluck_': 1, 'gardener_': 1, 'exclaiming_': 1, 'lemon_': 1, 'bananas_': 1, 'crossquestion_': 1, 'enraged_': 1, 'despaired_': 1, 'bedside_': 1, 'pages_': 2, 'chalk_': 2, 'measure_': 1, 'doll_': 5, 'attached_': 1, 'gentleman_': 1, 'couch_': 1, 'senhora_': 1, 'reckon_': 1, 'accounts_': 1, 'flowerbasket_': 1, 'misdeed_': 1, 'assent_': 1, 'whoso_': 1, 'mocks_': 1, 'merits_': 1, 'portuguese_': 1, 'japan_': 1, 'whiteness_': 1, 'mats_': 2, 'papered_': 1, 'opposite_': 1, 'rumbling_': 1, 'rusty_': 1, 'cleaned_': 1, 'costs_': 1, 'spout_': 2, 'kitten_': 1, 'ceiling_': 1, 'tradesman_': 2, 'jimmu_': 12, 'disturbance_': 1, 'gladness_': 1, 'tidied_': 1, 'wonderworking_': 1, 'perform_': 1, 'ceremonies_': 1, 'booth_': 3, 'inviting_': 1, 'witness_': 1, 'crowds_': 1, 'platform_': 1, 'gracefully_': 1, 'pause_': 1, 'owed_': 1, 'respected_': 1}\n"
          ]
        }
      ]
    },
    {
      "cell_type": "code",
      "source": [
        "symbols = ['a', 'b', 'c', 'd', 'e', 'f', 'g', 'h', 'i', 'j', 'k', 'l', 'm',\n",
        "           'n', 'o', 'p', 'q', 'r', 's', 't', 'u', 'v', 'w', 'x', 'y', 'z',\n",
        "           '_', '[UNK]',\"0\",\"1\",\"2\",\"3\",\"4\",\"5\",\"6\",\"7\",\"8\",\"9\"]"
      ],
      "metadata": {
        "id": "SlTXXV3yrXcG"
      },
      "execution_count": null,
      "outputs": []
    },
    {
      "cell_type": "code",
      "source": [
        "token_freqs = {}\n",
        "for token, freq in raw_token_freqs.items():\n",
        "    token_freqs[' '.join(list(token))] = raw_token_freqs[token]"
      ],
      "metadata": {
        "id": "Ob3g1EVuJh0_"
      },
      "execution_count": null,
      "outputs": []
    },
    {
      "cell_type": "code",
      "source": [
        "def get_max_freq_pair(token_freqs):\n",
        "    pairs = collections.defaultdict(int)\n",
        "    for token, freq in token_freqs.items():\n",
        "        symbols = token.split()\n",
        "        for i in range(len(symbols) - 1):\n",
        "            # Key of `pairs` is a tuple of two consecutive symbols\n",
        "            pairs[symbols[i], symbols[i + 1]] += freq\n",
        "    return max(pairs, key=pairs.get)  # Key of `pairs` with the max value"
      ],
      "metadata": {
        "id": "hHO09_ktJrMN"
      },
      "execution_count": null,
      "outputs": []
    },
    {
      "cell_type": "code",
      "source": [
        "def merge_symbols(max_freq_pair, token_freqs, symbols):\n",
        "    merged_symbol = ''.join(max_freq_pair)\n",
        "    symbols.append(merged_symbol)\n",
        "    new_token_freqs = dict()\n",
        "    for token, freq in token_freqs.items():\n",
        "        pattern = r'\\b' + re.escape(max_freq_pair[0]) + r' ' + re.escape(max_freq_pair[1]) + r'(?!\\S)\\b'\n",
        "        new_token = re.sub(pattern, merged_symbol, token)\n",
        "        new_token_freqs[new_token] = token_freqs[token]\n",
        "    return new_token_freqs\n",
        "\n",
        "\n",
        "\n"
      ],
      "metadata": {
        "id": "x-04nf-HUyXL"
      },
      "execution_count": null,
      "outputs": []
    },
    {
      "cell_type": "markdown",
      "source": [
        "The merge symbols function above has been changed due to the problem stated in the assigment. By using the Re library, if there is already a subword, it is provided to be looked at as a whole. (For example, the string \"a\" is checked whether it is alone or not /b checks whether it is a whitespace after \"a\". Thus, if it is in the \"al\" state, it does not take it because there is no whitespace after the \"a\" string)"
      ],
      "metadata": {
        "id": "3YeRIj38JlcH"
      }
    },
    {
      "cell_type": "code",
      "source": [
        "num_merges = 1000\n",
        "for i in range(num_merges):\n",
        "    max_freq_pair = get_max_freq_pair(token_freqs)\n",
        "    token_freqs = merge_symbols(max_freq_pair, token_freqs, symbols)\n",
        "    if i % 10 == 0:\n",
        "      print(f'merge #{i + 1}:', max_freq_pair)"
      ],
      "metadata": {
        "colab": {
          "base_uri": "https://localhost:8080/"
        },
        "id": "kz1AB71DJxNX",
        "outputId": "2a50b062-9e90-443b-99fb-cf2c2aa79639"
      },
      "execution_count": null,
      "outputs": [
        {
          "output_type": "stream",
          "name": "stdout",
          "text": [
            "merge #1: ('e', '_')\n",
            "merge #11: ('y', '_')\n",
            "merge #21: ('o', 'r')\n",
            "merge #31: ('ll', '_')\n",
            "merge #41: ('e', 'n')\n",
            "merge #51: ('o', 'n_')\n",
            "merge #61: ('r', 'o')\n",
            "merge #71: ('l', 'i')\n",
            "merge #81: ('i', 'd_')\n",
            "merge #91: ('m', 'a')\n",
            "merge #101: ('w', 'a')\n",
            "merge #111: ('s', 'o_')\n",
            "merge #121: ('m', 'an_')\n",
            "merge #131: ('w', 'hi')\n",
            "merge #141: ('i', 'r')\n",
            "merge #151: ('g', 'a')\n",
            "merge #161: ('n', 'o_')\n",
            "merge #171: ('l', 'o')\n",
            "merge #181: ('i', 'r_')\n",
            "merge #191: ('m', 'u')\n",
            "merge #201: ('s', 'w')\n",
            "merge #211: ('er', 's_')\n",
            "merge #221: ('a', 's')\n",
            "merge #231: ('ti', 'me_')\n",
            "merge #241: ('ca', 'me_')\n",
            "merge #251: ('an', 'y_')\n",
            "merge #261: ('n', 'ing_')\n",
            "merge #271: ('t', 'w')\n",
            "merge #281: ('t', 'o')\n",
            "merge #291: ('h', 'ou')\n",
            "merge #301: ('th', 'an_')\n",
            "merge #311: ('x', '_')\n",
            "merge #321: ('as', 'ked_')\n",
            "merge #331: ('m', 'ar')\n",
            "merge #341: ('m', 'on')\n",
            "merge #351: ('d', 'y_')\n",
            "merge #361: ('g', 're')\n",
            "merge #371: ('h', 'un')\n",
            "merge #381: ('ll', 'y_')\n",
            "merge #391: ('f', 't_')\n",
            "merge #401: ('si', 'de_')\n",
            "merge #411: ('g', 'u')\n",
            "merge #421: ('ha', 's_')\n",
            "merge #431: ('da', 'ugh')\n",
            "merge #441: ('r', 'ed_')\n",
            "merge #451: ('nex', 't_')\n",
            "merge #461: ('m', 'b')\n",
            "merge #471: ('v', 'ing_')\n",
            "merge #481: ('beg', 'an_')\n",
            "merge #491: ('p', 'ar')\n",
            "merge #501: ('b', 'rought_')\n",
            "merge #511: ('s', 'c')\n",
            "merge #521: ('shep', 'herd_')\n",
            "merge #531: ('su', 'ch_')\n",
            "merge #541: ('st', 'ood_')\n",
            "merge #551: ('t', 'en_')\n",
            "merge #561: ('f', 'ar_')\n",
            "merge #571: ('m', 'en_')\n",
            "merge #581: ('bea', 'u')\n",
            "merge #591: ('bo', 'dy_')\n",
            "merge #601: ('k', 'new_')\n",
            "merge #611: ('happ', 'ened_')\n",
            "merge #621: ('go', 'ld')\n",
            "merge #631: ('v', 'es_')\n",
            "merge #641: ('d', 're')\n",
            "merge #651: ('ca', 'lled_')\n",
            "merge #661: ('t', 'er')\n",
            "merge #671: ('m', 'er')\n",
            "merge #681: ('as', 'k_')\n",
            "merge #691: ('ni', 'els_')\n",
            "merge #701: ('sult', 'an_')\n",
            "merge #711: ('rea', 'dy_')\n",
            "merge #721: ('c', 'our')\n",
            "merge #731: ('loo', 'king_')\n",
            "merge #741: ('h', 'and')\n",
            "merge #751: ('beh', 'ind_')\n",
            "merge #761: ('s', 's')\n",
            "merge #771: ('p', 's_')\n",
            "merge #781: ('p', 'e_')\n",
            "merge #791: ('t', 'ri')\n",
            "merge #801: ('maje', 'sty_')\n",
            "merge #811: ('ep', 'ing_')\n",
            "merge #821: ('c', 'ut_')\n",
            "merge #831: ('jo', 'y_')\n",
            "merge #841: ('w', 'and')\n",
            "merge #851: ('d', 'es_')\n",
            "merge #861: ('of', 'f')\n",
            "merge #871: ('su', 'n_')\n",
            "merge #881: ('al', 'so_')\n",
            "merge #891: ('in', 'u')\n",
            "merge #901: ('sa', 'ying_')\n",
            "merge #911: ('serv', 'ants_')\n",
            "merge #921: ('wi', 'ld_')\n",
            "merge #931: ('w', 'ar')\n",
            "merge #941: ('ke', 'y_')\n",
            "merge #951: ('vo', 'ice_')\n",
            "merge #961: ('c', 'er')\n",
            "merge #971: ('ch', 'es_')\n",
            "merge #981: ('m', 's_')\n",
            "merge #991: ('la', 'id_')\n"
          ]
        }
      ]
    },
    {
      "cell_type": "markdown",
      "source": [
        "I use 5000 (vocabulary size) and 500 for num_merges. When I use 5000 there is so many symbols with full words. When I use 500 there are not much sybols. So I use 1000. When I look in literature it seen as a hyperparameter and using different values to get the optimum value is done usually. I directly select 1000."
      ],
      "metadata": {
        "id": "FxBQvUbP7qp2"
      }
    },
    {
      "cell_type": "code",
      "source": [
        "print(symbols)"
      ],
      "metadata": {
        "colab": {
          "base_uri": "https://localhost:8080/"
        },
        "id": "BUMoBjfXJ0ub",
        "outputId": "026894f4-22b7-4f03-9487-76ab3104d46a"
      },
      "execution_count": null,
      "outputs": [
        {
          "output_type": "stream",
          "name": "stdout",
          "text": [
            "['a', 'b', 'c', 'd', 'e', 'f', 'g', 'h', 'i', 'j', 'k', 'l', 'm', 'n', 'o', 'p', 'q', 'r', 's', 't', 'u', 'v', 'w', 'x', 'y', 'z', '_', '[UNK]', '0', '1', '2', '3', '4', '5', '6', '7', '8', '9', 'e_', 'd_', 'th', 't_', 's_', 'an', 'the_', 'in', 'er', 'o_', 'y_', 'ou', 'and_', 'ed_', 'n_', 'er_', 'hi', 'g_', 'to_', 'he_', 'or', 'll', 'ea', 'f_', 'ing_', 'ha', 'as_', 'a_', 'm_', 'on', 'll_', 'en_', 'at_', 'you', 'of_', 'st', 'in_', 'wi', 'ar', 'ow', 'en', 'his_', 'me_', 'was_', 'ld_', 'the', 'wh', 're', 'for', 'an_', 'on_', 'gh', 'ch', 'k_', 'it_', 'th_', 'that_', 'you_', 'st_', 'se', 'ro', 'be', 'ce_', 've_', 'sa', 'bu', 'had_', 'r_', 'ere_', 'i_', 'li', 'ri', 'ly_', 'him_', 'no', 'le_', 'la', 'ti', 'for_', 'oo', 'id_', 'is_', 'es_', 'but_', 'sh', 'se_', 'king_', 'ch_', 'p_', 'ther_', 'ma', 'ould_', 'one_', 'ght_', 'not_', 'with_', 'her_', 'ow_', 'si', 'they_', 'wa', 'rea', 'ca', 'ne', 'out_', 'ur', 'l_', 'tt', 'she_', 'ome_', 'so_', 'when_', 'ear', 'ra', 'oun', 'all_', 'ver_', 'pr', 'be_', 'said_', 'man_', 'le', 'have_', 'un', 'old_', 'ent_', 'ta', 'ter_', 'my_', 'fa', 'whi', 'prin', 'ck_', 'w_', 'will_', 'ver', 'de_', 'da', 'pa', 'ba', 'ir', 'ke_', 'ered_', 'or_', 'pp', 'ell_', 'om', 'this_', 'su', 'qu', 'ga', 'ss_', 'them_', 'own_', 'el', 'mi', 'who_', 'ked_', 'if_', 'it', 'no_', 'lf_', 'up_', 'wor', 'de', 'di', 'wha', 'would_', 'ds_', 'prince_', 'lo', 'sp', 'bo', 'were_', 'by_', 'fro', 'what_', 'from_', 'other_', 'which_', 'ir_', 'ood_', 'et_', 'mor', 'gi', 'your_', 'then_', 'self_', 'ound_', 'fu', 'mu', 'do_', 'there_', 'ted_', 'into_', 'ge_', 'thing_', 'are_', 'ts_', 'could_', 'sw', 'gh_', 'way_', 'tur', 'very_', 'ttle_', 'go', 'hea', 'now_', 'ce', 'ers_', 'op', 'lon', 'ook_', 'rou', 'sed_', 'pe', 'did_', 'of', 'ry_', 'as', 'some_', 'went_', 'fore_', 'their_', 'thou', 'ab', 'hear', 'ear_', 'ru', 'time_', 'where_', 'af', 'answ', 'before_', 'ep', 'so', 'fe_', 'ree_', 'do', 'came_', 'pi', 'ved_', 'ried_', 'come_', 'ind_', 'day_', 'al', 'little_', 'ni', 'any_', 'son_', 'pla', 'fo', 'fi', 'ing', 'back_', 'youn', 'ut_', 'well_', 'ning_', 'him', 'himself_', 'em', 'till_', 'answered_', 'dd', 'est_', 'po', 'ar_', 'tw', 'been_', 'go_', 'father_', 'her', 'young_', 'only_', 'down_', 'ant_', 'beg', 'to', 'ck', 'hor', 'co', 'more_', 'after_', 'long_', 'can_', 'ever_', 'once_', 'hou', 'dea', 'ned_', 'sti', 'see_', 'car', 'sha', 'ched_', 'fe', 'ened_', 'than_', 'grea', 'lea', 'ven_', 'com', 'ying_', 'aga', 'ep_', 'took_', 'off_', 'x_', 'ful_', 'ld', 'over_', 'lled_', 'how_', 'our', 'about_', 'and', 'good_', 'asked_', 'happ', 'we_', 'round_', 'ged_', 'led_', 'con', 'told_', 'home_', 'ke', 'mar', 'rep', 'must_', 'per', 'ys_', 'wife_', 'again_', 'who', 'two_', 'never_', 'mon', 'end_', 'tell_', 'tly_', 'pro', 'coun', 'ugh', 'fir', 'que', 'away_', 'dy_', 'te_', 'sur', 'great_', 'ju', 'ster_', 'bea', 'der_', 'here_', 'soon_', 'gre', 'am_', 'har', 'ser', 'should_', 'roo', 'mo', 'last_', 'id', 'ears_', 'hun', 'get_', 'ger_', 'head_', 'fri', 'shed_', 'mother_', 'loo', 'thought_', 'lu', 'lly_', 'ty_', 'house_', 'turned_', 'saw_', 'h_', 'found_', 'sh_', 'prince', 'ge', 'ft_', 'morning_', 'give_', 'dly_', 'me', 'made_', 'row_', 'len', 'tter_', 'princess_', 'side_', 'cried_', 'shall_', 'ite_', 'set_', 'ble_', 'wo', 'heard_', 'sta', 'ci', 'gu', 'ex', 'gave_', 'vi', 'str', 'let_', 'night_', 'ei', 'ded_', 'put_', 'has_', 'much_', 'pre', 'rough_', 'might_', 'three_', 'ine_', 'ings_', 'nex', 'na', 'daugh', 'left_', 'queen_', 'these_', 'got_', 'through_', 'hel', 'fox_', 'just_', 'take_', 'red_', 'like_', 'bro', 'dra', 'up', 'ac', 'age_', 'sig', 'new_', 'nothing_', 'next_', 'tree_', 'peter_', 'our_', 'ec', 'im', 'boy_', 'still_', 'horse_', 'daughter_', 'mb', 'ything_', 'oh_', 'youth_', 'quite_', 'jo', 'word_', 'yes_', 'herd_', 'cl', 'ving_', 'il', 'ven', 'know_', 'owed_', 'find_', 'ssed_', 'qui', 'lied_', 'ard_', 'began_', 'chi', 'pala', 'first_', 'ner_', 'done_', 'replied_', 'te', 'heart_', 'palace_', 'par', 'shep', 've', 'try_', 'place_', 'eat_', 'ki', 'us_', 'rought_', 'sent_', 'brought_', 'ever', 'pped_', 'ared_', 'dead_', 'ting_', 'stor', 'sul', 'while_', 'clo', 'sc', 'sen', 'we', 'gr', 'els_', 'its_', 'som', 'master_', 'make_', 'door_', 'shepherd_', 'lived_', 'many_', 'tra', 'pri', 'ous_', 'fl', 'serv', 'with', 'ord', 'such_', 'peop', 'people_', 'shi', 'sigur', 'sigurd_', 'bed_', 'upon_', 'even_', 'gra', 'stood_', 'sto', 'sure_', 'thin', 'app', 'sle', 'ons_', 'bi', 'ced_', 'hand_', 'ten_', 'seem', 'al_', 'tting_', 'world_', 'won', 'room_', 'cau', 'now', 'some', 'far_', 'reached_', 'br', 'yed_', 'woman_', 'bri', 'though_', 'lay_', 'inst', 'he', 'men_', 'moun', 'tain_', 'sword_', 'say_', 'seemed_', 'stle_', 'another_', 'years_', 'turn_', 'beau', 'les_', 'hu', 'ho', 'nt_', 'thers_', 'ind', 'ants_', 'tru', 'eyes_', 'body_', 'work_', 'forest_', 'drag', 'sult', 'tch_', 'der', 'ses_', 'cked_', 'seen_', 'knew_', 'toge', 'together_', 'too_', 'how', 'days_', 'sor', 'gold_', 'ined_', 'read_', 'happened_', 'foll', 'ards_', 'ance_', 'row', 'country_', 'near_', 'rest_', 'why_', 'without_', 'gold', 'mom', 'elt_', 'je', 'fell_', 'fully_', 'moment_', 'spo', 'water_', 'ird_', 'ves_', 'han', 'plea', 'ran_', 'ani', 'going_', 'ken_', 'looked_', 'promi', 'each_', 'dre', 'tion_', 'list', 'friend_', 'may_', 'see', 'town_', 'land_', 'help_', 'ey_', 'called_', 'every_', 'pu', 'ity_', 'lk_', 'gs_', 'ough_', 'pau', 'gir', 'mes_', 'ter', 'look_', 'castle_', 'star', 'returned_', 'du', 'man', 'words_', 'whole_', 'poor_', 'mer', 'dragon_', 'however_', 'nei', 'few_', 'most_', 'life_', 'sim', 'gth_', 'drea', 'ask_', 'being_', 'death_', 'ent', 'leave_', 'sight_', 'ship_', 'under_', 'magi', 'tow', 'niels_', 'paul_', 'able_', 'beh', 'ways_', 'sudd', 'gone_', 'beauti', 'cor', 'lling_', 'sultan_', 'tiid', 'tiidu', 'tiidu_', 'sat_', 'dis', 'ks_', 'ground_', 'are', 'rode_', 'ready_', 'beautiful_', 'better_', 'pl', 'enough_', 'il_', 'anything_', 'bade_', 'open_', 'same_', 'cour', 'felt_', 'decl', 'lar', 'best_', 'ank_', 'ong_', 'cha', 'ped_', 'ang_', 'looking_', 'things_', 'yone_', 'sty_', 'food_', 'flo', 'money_', 'ed', 'jour', 'journe', 'hand', 'held_', 'roa', 'she', 'sk', 'ini', 'golden_', 'something_', 'wait', 'dear_', 'behind_', 'always_', 'b_', 'ordered_', 'foo', 'story_', 'tched_', 'bor', 'simon_', 'even', 'ss', 'sudden', 'suddenly_', 'journey_', 'everything_', 'ls_', 'face_', 'whom_', 'think_', 'evening_', 'ps_', 'dding_', 'wish_', 'ice_', 'cu', 'sil', 'chan', 'trea', 'c_', 'deed_', 'pe_', 'bring_', 'gry_', 'maje', 'ows_', 'happy_', 'want_', 'grew_', 'dar', 'ones_', 'tri', 'vo', 'ling_', 'bak', 'stay_', 'pt_', 'girl_', 'maid', 'dr', 'ad', 'majesty_', 'ward_', 'tun', 'really_', 'mountain_', 'labak', 'labakan_', 'fire_', 'begged_', 'your', 'eping_', 'hardly_', 'light_', 'rai', 'trou', 'ung_', 'rich_', 'sho', 'dom_', 'fast_', 'cut_', 'cre', 'length_', 'stran', 'med_', 'spr', 'supp', 'pay_', 'tu', 'tre', 'joy_', 'riage_', 'ging_', 'alone_', 'owing_', 'din', 'ess_', 'stre', 'cra', 'towards_', 'wand', 'early_', 'third_', 'declared_', 'emb', 'gar', 'return_', 'servant_', 'strea', 'lls_', 'des_', 'sma', 'hop', 'passed_', 'herself_', 'pip', 'lked_', 'king', 'mag', 'nor_', 'off', 'sin', 'ead_', 'ood', 'fea', 'sca', 'right_', 'ssi', 'ture_', 'dinner_', 'sun_', 'chen_', 'keep_', 'bear_', 'die_', 'ina_', 'ching_', 'indeed_', 'sted_', 'maiden_', 'also_', 'rem', 'less_', 'strong_', 'quick', 'cla', 'sprang_', 'sleep_', 'count_', 'rying_', 'inu', 'instead_', 'eag', 'splen', 'cle', 'sol', 'kingdom_', 'iz', 'brothers_', 'band_', 'saying_', 'sheep_', 'both_', 'abu', 'marry_', 'shes_', 'times_', 'wonder', 'fla', 'neither_', 'servants_', 'sea', 'bur', 'tain', 'dire', 'direc', 'large_', 'spa', 'rose_', 'laugh', 'wild_', 'bar', 'ogr', 'ogre_', 'giant_', 'abu_', 'nowas_', 'use_', 'stone_', 'care', 'war', 'rememb', 'ligh', 'earth_', 'ness_', 'amon', 'child_', 'stopped_', 'tried_', 'caught_', 'key_', 'llow_', 'ddle_', 'surpri', 'is', 'hus', 'husband_', 'step', 'bb', 'pipes_', 'voice_', 'eared_', 'lew_', 'luck', 'mine_', 'pea', 'thr', 'given_', 'entered_', 'splendid_', 'cer', 'gri', 'comp', 'live_', 'sitting_', 'throw_', 'ross_', 'cks_', 'silver_', 'sman_', 'ches_', 'nest_', 'ki_', 'love_', 'anted_', 'answer_', 'matter_', 'res_', 'wedding_', 'listen_', 'ms_', 'roy', 'royal_', 're_', 'bl', 'than', 'mou', 'tes_', 'hard_', 'corner_', 'laid_', 'secre', 'vely_', 'along_', 'questi', 'fine_', 'care_', 'ily_', 'thes_', 'thre']\n"
          ]
        }
      ]
    },
    {
      "cell_type": "code",
      "source": [
        "print(list(token_freqs.keys()))"
      ],
      "metadata": {
        "colab": {
          "base_uri": "https://localhost:8080/"
        },
        "id": "iF3mrU6NJ4v1",
        "outputId": "99b2d232-1192-40b3-a0cd-a1a3b67207a7"
      },
      "execution_count": null,
      "outputs": [
        {
          "output_type": "stream",
          "name": "stdout",
          "text": [
            "['lo vely_', 'i lon k a_', 'there_', 'was_', 'once_', 'a_', 'king_', 's_', 'son_', 'who_', 'told_', 'his_', 'father_', 'that_', 'he_', 'wi shed_', 'to_', 'marry_', 'no_', 'said_', 'the_', 'you_', 'must_', 'not_', 'be_', 'in_', 'such_', 'h ur ry_', 'wa it_', 'till_', 'have_', 'done_', 'some_', 'great_', 'deed_', 'my_', 'did_', 'let_', 'me_', 'i_', 'had_', 'w on_', 'golden_', 'sword_', 'see_', 'w ear_', 'prince_', 'much_', 'di sa pp o in ted_', 'but_', 'never_', 'drea med_', 'of_', 'di so be ying_', 'and_', 'began_', 'think_', 'with_', 'all_', 'might_', 'what_', 'could_', 'do_', 'it_', 'use_', 'sta ying_', 'at_', 'home_', 'so_', 'one_', 'day_', 'wand ered_', 'out_', 'into_', 'world_', 'try_', 'lu ck_', 'as_', 'wa lked_', 'along_', 'came_', 'little_', 'h ut_', 'which_', 'found_', 'an_', 'old_', 'woman_', 'c rou ching_', 'over_', 'fire_', 'good_', 'evening_', 'mother_', 'lived_', 'long_', 'this_', 'know_', 'anything_', 'about_', 'three_', 'bu l ru shes_', 'yes_', 'indeed_', 've_', 'been_', 'seen_', 'or_', 'heard_', 'ask_', 'still_', 'if_', 'will_', 't om or row_', 'may_', 'able_', 'tell_', 'something_', 'well_', 'wait ed_', 'morning_', 'quite_', 'early_', 'app eared_', 'took_', 'pi pe_', 'b lew_', 'moment_', 'c row s_', 'were_', 'fl ying_', 'her_', 'mi ss ing_', 'then_', 'she_', 'asked_', 'they_', 'knew_', 'them_', 'went_', 'on_', 'way_', 'f ur ther_', 'another_', 'man_', 'being_', 'questi on ed_', 'nothing_', 'begged_', 'stay_', 'o ver night_', 'next_', 'called_', 'ra ven s_', 'together_', 'too_', 'bade_', 'him_', 'f are well_', 'set_', 'far_', 'c ro ssed_', 'se ven_', 'king d om s_', 'last_', 'house_', 'dear_', 'po li te ly_', 'answered_', 'is_', 'luck y_', 'for_', 'spo ke_', 'would_', 'm et_', 'hor ri ble_', 'death_', 'where_', 'are_', 'going_', 'am_', 'see king_', 'nt_', 'm y self_', 'per ha ps_', 'can_', 'l o_', 'beh old_', 'every_', 'mag pi e_', 'f lew_', 'up_', 'say_', 'mag pi es_', 'ex ce pt_', 'bro ken_', 'le g_', 'w ing_', 'sent_', 'after_', 'when_', 'c ri pp led_', 'only_', 'star ted_', 'off_', 'la me_', 'reached_', 'stone_', 'wa ll_', 'many_', 'fe et_', 'hi gh_', 'now_', 'behind_', 'wa sted_', 'time_', 'horse_', 'lea ped_', 'looked_', 'pu lled_', 'rode_', 'happened_', 'k no ck_', 'aga in st_', 'sp l it_', 'open_', 'sprang_', 'girl_', 'heart_', 'love_', 'mine_', 'your s_', 'give_', 'g la ss_', 'water_', 'how_', 'hand_', 'maiden_', 'away_', 'se con d_', 'bu l ru sh_', 'ex per im ent_', 'just_', 'same_', 'thing_', 'care ful_', 'third_', 'times_', 'lo ve li er_', 'than_', 'ei ther_', 'o thers_', 'ready_', 'f ly_', 'promi sed_', 'each_', 'other_', 'always_', 'soon_', 'country_', 'bring_', 'bri de_', 'back_', 'fine_', 'co a ch_', 'town_', 'fe tch_', 'fi e ld_', 'sw in e her ds_', 'c ow her ds_', 'fe ed ing_', 'their_', 'd ro ves_', 'left_', 'l r b_', 'na me_', 'r r b_', 'care_', 'un luck ily_', 'chi e f_', 'sw in e herd_', 'u g ly_', 'daughter_', 'whi l st_', 'dre ssed_', 'clo thes_', 'thre w_', 'returned_', 'before_', 'br ing ing_', 'tra in_', 'cour ti ers_', 'e sc or t_', 'st ared_', 'saw_', 'however_', 'take_', 'two_', 'days_', 'la ter_', 'mar ried_', 'gave_', 'c r own_', 'pea ce_', 'very_', 'ch ea ted_', 'though_', 'de si red_', 'brought_', 'from_', 'thr own_', 'co a ch man_', 'bu ck et_', 'pre tt y_', 'du ck_', 's wi m m ing_', 'wonder ing ly_', 'sudd en_', 'di sa pp eared_', 'd ir ty_', 'looking_', 'st and ing_', 'near_', 'man a ged_', 'get_', 'place_', 'hou se ma id_', 'palace_', 'cour se_', 'bu s y_', 'wh en ever_', 'sp are_', 'sat_', 'down_', 'sp in_', 'di st af f_', 'turned_', 'it self_', 'sp ind le_', 'sp an_', 'by_', 'fla x_', 'w ound_', 'p len ty_', 'queen_', 'ra ther_', 'fla tly_', 're fu sed_', 'con sen ted_', 'con di tion_', 'sleep_', 'night_', 'room_', 'an gry_', 's co ld ed_', 'lon ged_', 'sle eping_', 'dra u ght_', 'supp er_', 'ever_', 'b ent_', 'sle ep er_', 'sp ea k_', 'your_', 's ound_', 'as le ep_', 'neither_', 'nor_', 'sa dly_', 'thin king_', 'as ha med_', 'own_', 'again_', 'w anted_', 'bu y_', 'a gre ed_', 'con di ti ons_', 'also_', 'more_', 'whi sp er_', 'sw e e tly_', 'answer_', 'servants_', 'ta ken_', 'no te_', 'matter_', 'war ned_', 'master_', 'eat_', 'dr in k_', 'off ered_', 'ni gh ts_', 'r un ning_', 'given_', 'i dea _', 'do ings_', 'dis co ver ed_', 'few_', 'pay_', 'pri ce_', 'felt_', 'f ears_', 'sor ts_', 'ni ce_', 'things_', 'declared_', 'hun gry_', 'bed_', 'rep en ted_', 'bi tt er ly_', 'promi se_', 'la te_', 're ca ll_', 'al ready_', 'entered_', 'lay_', 'an x i ou s ly_', 'wait ing_', 'dea rest_', 'these_', 'words_', 'b oun ded_', 'with in_', 'emb ra ced_', 'ki ssed_', 'ad ven tu res_', 'sin ce_', 'su f f ered_', 'de ce i ved_', 'v owed_', 're ven ged_', 'ord ers_', 'wife_', 'should_', 'han ged_', 're jo i c ings_', 'fa ir_', 'y et_', 'dead_', 'why_', 'li ving_', 'un gar i sc he_', 'ma h re h en_', 'upon_', 'la d_', 'ei gh te en_', 'years_', 'go_', 'fi ght_', 'w ar_', 'nei gh b our ing_', 'led_', 't ro op s_', 'per son_', 'ac t_', 're g ent_', 'ab sen ce_', 'ordered_', 'ac count_', 'return_', 'ru led_', 'even_', 'thought_', 'mar rying_', 'tw ent y fi f th_', 'b ir th day_', 'got_', 'ea ger_', 'rememb ered_', 'lon ger_', 'ten_', 're t inu e_', 'see k_', 'hardly_', 'tw en ty_', 'suddenly_', 'himself_', 'ca m p_', 'de ligh ted_', 'questi ons_', 'instead_', 'qui e tly_', 'star ting_', 'plea se_', 'leave_', 'any_', 'people_', 'fa i th ful_', 'servant_', 'sta yed_', 'par t_', 'journe yed_', 'hi ll_', 'da le_', 'gold town_', 'beau ty_', 'rest_', 'k in dly_', 're ce i ved_', 'ex tre me ly_', 'g ood looking_', 'c har m ing_', 'man n ers_', 'lo st_', 'as king_', 'par en ts_', 'joy_', 'wedding_', 'fea st ing_', 'whole_', 'mon th_', 'end_', 'journey_', 'sp ent_', 'first_', 'in n_', 'ever yone_', 'sle pt_', 'k ep t_', 'wa tch_', 'mi d night_', 'fl own_', 'ro of_', 'ta l king_', 'hand some_', 'c ou p le_', 'ar ri ved_', 'here_', 't on i ght_', 'seem s_', 'p ity_', 'lo se_', 'li ves_', 'tru ly_', 'c row_', 'mi d day_', 'st ri k es_', 'bri d ge_', 'gold_', 'strea m_', 'b rea k_', 'd ri ving_', 'listen_', 'who ever_', 'o ver hear s_', 'te lls_', 'we_', 'k ne es_', 'sp ea king_', 'clo se_', 'foll owed_', 'pi ge ons_', 'princess_', 'sa fe_', 'per i sh_', 's end_', 'car riage_', 'me et_', 'loo ks_', 'new_', 'pa in t_', 'sea ted_', 'ra ging_', 'w ind_', 'ri se_', 'whi r l_', 'cl ou ds_', 'f all_', 'earth_', 'ki lled_', 'an yone_', 'hear s_', 'be tra ys_', 'wa i st_', 'eag les_', 'pla c es_', 'young_', 'do es_', 'man age_', 'e sca pe_', 'd an g ers_', 'me an s_', 'splendid_', 'em bro id ered_', 'ro be_', 'put_', 'bur nt_', 'rep ea ts_', 'turn_', 'head_', 'foo t_', 'tra ve ll ers_', 'b rea k fa sted_', 'drea ms_', 'gra ci ous_', 'drea m t_', 'royal_', 'hi gh ness_', 'gr ant_', 'cer tain ly_', 'de ce i ve_', 'ent rea t_', 'foll ow_', 'ad vi ce_', 'd ur ing_', 'make_', 'fu ss_', 'drea m_', 'pre v ent_', 'an x i ous_', 'wish_', 'us_', 'wa lk_', 'ea si ly_', 'wh e els_', 'ba d_', 'h old_', 'un sa fe_', 'word_', 'held_', 'lo a ded_', 'hor ses_', 'lu g ga ge_', 'ri de_', 'through_', 'ba the_', 'side_', 'without_', 'har m_', 'b ou ght_', 'tra v els_', 'gone_', 'me s sen ger_', 'majesty_', 'has_', 'beautiful_', 'fi tting_', 'en try_', 'amon g st_', 'l or d_', 'ex a mine_', 'find_', 'right_', 'o th er wi se_', 'better_', 'our_', 'made_', 'o b j ec ti ons_', 's mar t_', 'k no cked_', 'pi ec es_', 'f r on ti er_', 'ro be s_', 'sta te_', 'im pl or ed_', 'o b ta ined_', 'de st ro y_', 'fu ri ous_', 'ar ts_', 'fa i led_', 'la w_', 'land_', 'e sca ped_', 're jo ice_', 'sa fe ly_', 'i mag ine_', 'de st ro yed_', 'si re_', 'an no yed_', 'de st ru c tion_', 'direc t_', 'everything_', 'po ssi b ly_', 'un less_', 'fell_', 'tre m en d ous_', 'ra ge_', 'coun ci l_', 'con de m ned_', 'ga ll ows_', 's qu are_', 'f r on t_', 'sen t en ce_', 'read_', 'ro pe_', 'pla ced_', 'round_', 'ne ck_', 'a ll owed_', 'pro ved_', 'in no c en ce_', 'pa id_', 'he ed_', 'story_', 'oh_', 'gri e ved_', 'pa ined_', 'most_', 'fa i th fu l ness_', 'de ter m ined_', 'tra ve l_', 're stor ing_', 'life_', 'cour t_', 'n ur se_', 'con fi ded_', 'pl an s_', 'help_', 'be y on d_', 'w ood_', 'ri ver_', 'stood_', 'large_', 'mi ll_', 'lea ving_', 'mi ll er_', 'alone_', 'be g_', 'questi on_', 'ex ce ll ent_', 'its_', 'ma ch in er y_', 'comp le te_', 'gra in_', 'gr ind_', 'poor_', 'live_', 'in qu ir e_', 'dis co ver_', 'light_', 'an y where_', 'al most_', 'f ind ing_', 'w ind ow_', 'st rai ght_', 'gir ls_', 'pla ying_', 'ga me_', 'lo d ging_', 'maid en s_', 'happ en s_', 'th ir ty_', 'lo ver_', 'come_', 'wo o_', 'ind u st ri ous_', 'forest_', 'di f f er ent_', 'strea ms_', 'fl owing_', 'ta lk_', 'si r_', 'br ings_', 'wi l ds_', 'hun d red_', 'di vi de_', 'your self_', 'par ted_', 'we tting_', 'direc tly_', 'cried_', 'b roo k_', 'cl ear_', 'bri ght_', 'ra p id_', 'fi sh_', 'c rea ture_', 'wa t ers_', 'con t inu ed_', 'v a ll ey_', 'th a tched_', 'ru shes_', 'ti red_', 'beauti fully_', 'cle an_', 'ti dy_', 'ch e er ful_', 'h on e st looking_', 'sitting_', 'g ood morning_', 'par ts_', 'replied_', 'di g ging_', 'v in e y ard_', 'spa des_', 'beg in_', 'di g_', 'e le ven_', 'o clo ck_', 'si ts_', 'dinner_', 's it_', 'be side_', 'trou b les_', 'f re e ly_', 'wha t ever_', 'sh owed_', 'sor t_', 'spo ken_', 'du mb _', 'un happy_', 'who se_', 'want_', 'de serv es_', 'boy_', 'd ro ps_', 'bl ood_', 'child_', 'f ing er_', 'ru b_', 'w ri st s_', 'b la de_', 'gra ss_', 'than ked_', 'be cau se_', 'd row ned_', 'c ro ss ing_', 'vi c ti m_', 'lo d ged_', 'we ll man n ered_', 'har d wor king_', 'n one_', 'w oo er_', 'throw_', 'sw e ep ings_', 'face_', 'sun_', 'best_', 'ge ts_', 'cor n_', 'ke ep s_', 'th o se_', 'ne ed_', 'w ro te_', 'answ ers_', 'fri en dly_', 'ne w s_', 'ac ross_', 'hi gh est_', 'b ank_', 'stopped_', 'sh ou ted_', 'sa ys_', 'un ti l_', 'some one_', 'mou th_', 'sw e lled_', 'o ver fl owed_', 'ro ck_', 'c li mb ed_', 'da shed_', 'sp ra y_', 'cl ung_', 'ti ght_', 'fa il ing_', 'rea ch_', 'pro p er_', 'd ried_', 'mar ch_', 'b y and by_', 'si st ers_', 'th i e ves_', 'tried_', 'for d_', 'sto l en_', 'ha l f way_', 'rose_', 'sw ep t_', 'be came_', 'fi sh ing_', 'coun t r y side_', 'al ms_', 'grew_', 'rich_', 'in sul ted_', 'we e k_', 'pri c king_', 'ba by_', 'ran_', 'b ru shed_', 'fi g ur e_', 'sh u dd ered_', 'l ou d_', 'no i se_', 'a live_', 'fo a med_', 'wi ld ly_', 'fl ung_', 'ground_', 'di ed_', 'ser ved_', 'fa i th fully_', 'ser ving_', 'ma h r chen_', 'ha ir y_', 'some where_', 'ow ned_', 're mar k ab ly_', 'fi el ds_', 'ra pe_', 'hea ps_', 'sol di ers_', 'ca tch_', 'ri cks_', 's ou l_', 'n ine_', 'c row n s_', 'caught_', 'e vi l do er_', 'keep_', 'seemed_', 'pro t ec t_', 'n in e t y n ine_', 'do gs_', 'p s st_', 'hu sh_', 'dar k_', 'to p_', 'f our th_', 'ri ck_', 'pu tting_', 'hi _', 'fi ve_', 'm inu tes_', 'b ound_', 'plea sed_', 'thou s and_', 'pri s on er_', 'co ver ed_', 'ha ir_', 'like_', 'ani ma l_', 'al together_', 'cu ri ous_', 'look_', 'lo cked_', 'strong_', 'le tt ers_', 'in vi ta tion_', 'k ings_', 'prin c es_', 'won der_', 'hard_', 'f ree_', 'sto le_', 'key_', 'op ened_', 'door_', 'ar ri ve_', 'n early_', 'bur st_', 'sha me_', 'sha r p ly_', 'bur n_', 'k now le d ge_', 'fe tched_', 'ki ll_', 'li ver_', 'l un gs_', 'gri e f_', 'com m and_', 'k n own_', 'fa v ou ri te_', 'sor ry_', 'sho t_', 'do g_', 'car ried_', 'sa ti s fi ed_', 'trou ble_', 'co tt age_', 'sa d_', 'fa te_', 're co g ni sed_', 'fe llow_', 'whom_', 'friend_', 'app le_', 'man e_', 'st af f_', 'gu i de_', 'silver_', 'hu ss ar s_', 'co pp er_', 'dra w_', 'sw ear_', 'so le m n ly_', 'grea t est_', 'pre sen ts_', 'ser vi ce_', 'trou b led_', 'the m se l ves_', 'hor ri b ly_', 'fri gh t ened_', 'sma ll_', 'ar my_', 'hou se ke ep er_', 'vi ll age_', 'ow e_', 'bi ll_', 'sw ung_', 'sa ddle_', 'app les_', 'jo ined_', 'app roa ch_', 'f ear_', 'en e my_', 'b owed_', 'l ow_', 're in for ce m en ts_', 'd read_', 'prince s ses_', 'decl ined_', 're ma ined_', 'hor se back_', 'ba ttle_', 'youn g est_', 'lo ve li est_', 'r ing_', 'si ster_', 't or e_', 'hand k er chi e f_', 'gi f ts_', 'sight_', 'wh e ther_', 'lea d_', 'f ou ght_', 'b ra vely_', 'sp ared_', 'me s sen g ers_', 'o ver jo yed_', 'daugh t ers_', 'bri ll i ant_', 'vi c t or y_', 'd ro ve_', 'jo in_', 'ga ll op ed_', 'pa cked_', 'care fully_', 'st ro lled_', 'en ded_', 'youn ger_', 'fa ll en_', 'je w els_', 'hel ped_', 'sa ti s f y_', 's ear ched_', 'surpri se_', 'ha lf_', 're sc u e_', 'sh ow_', 'ou t side_', 'c ity_', 'wa lls_', 'dra w n_', 'n u mb ers_', 'b are ly_', 'kingdom_', 're ward_', 'a id_', 'b oun ds_', 'gr and_', 'hea l th_', 'a go_', 'mi gh ty_', 'mon ar ch_', 's ne e z ed_', 'shepherd_', 'star ing_', 'eyes_', 'app ear_', 'thr one_', 'p ow er ful_', 'fe e l_', 'b it_', 'af ra id_', 'ra sca l_', 'v aga b on d_', 'stor med_', 'ro ared_', 'bea t_', 'b rea st_', 'g en tly_', 'ta pped_', 'f ur y_', 'cha mb er la in_', 'in ter f ered_', 'll_', 'whi sp ered_', 'w o_', 'sw e et_', 'do ve_', 'laugh ing_', 'd en ying_', 'fa c t_', 'plea s ant_', 'whi te_', 'bear_', 'p it_', 'gu ards_', 'th ru st_', 'clo sed_', 'ru shed_', 'sh r ank_', 'corner_', 'ga z ed_', 'sp ite_', 'fa mi shed_', 'd are_', 't ou ch_', 'su cked_', 'pa w s_', 'she er_', 'hun ger_', 're mo ved_', 'bea st_', 'or der_', 'a wa ke_', 's on gs_', 's ang_', 'b ones_', 'a ma z ed_', 'pa ssi on_', 'l ear ned_', 'dea th s_', 'd en_', 'wild_', 'bo ar s_', 'f ed_', 'd on_', 't ear_', 'f lu te_', 'sle e ve_', 'j a ck et_', 'pla y_', 'mer ry_', 'tun e_', 'sh y ly_', 'h ind_', 'le gs_', 'd an ced_', 'ga ily_', 'la u gh_', 'f un n y_', 'd ared_', 'sto p_', 'enough_', 's l ow ly_', 'm inu et_', 'de gre es_', 'pla yed_', 'fa ster_', 't wi st_', 'quick ly_', 'fa lling_', 'hea p_', 'ex ha u sted_', 'b rea th_', 'ven tur ed_', 'laugh ed_', 'ex pe c ting_', 't ears_', 'ch e e ks_', 'laugh ter_', 't or n_', 'b its_', 'fe els_', 'bro ke_', 'de ep_', 'v a u l t_', 'sc y thes_', 'drag ged_', 'd un ge on_', 'mi ddle_', 'sha r p_', 'bo tt o m_', 'd un ge ons_', 'while_', 'm ind_', 'st u ck_', 'sti ck_', 'hun g_', 'clo a k_', 'ha t_', 'k na p sa ck_', 'in side_', 'see m_', 'body_', 'con si d ered_', 'wa tched_', 'really_', 'hi dd en_', 'car rying_', 'la m p_', 'ba ck w ards_', 'grea ter_', 'less_', 'ch ance_', 'ma king_', 'd ri ve_', 'ho t_', 'c old_', 'tur n s_', 'per si sted_', 'v ex ed_', 'castle_', 'ga ped_', 'won d ered_', 'da z z led_', 'o ver wh el med_', 'di amon d_', 'p on d_', 'shall_', 'sh ut_', 'e f for ts_', 'u se less_', 'st an ds_', 'rea son_', 'be li e ved_', 're jo i ced_', 'su it or s_', 'star ing e yed_', 'a te_', 'dr ank_', 'si ck_', 'fea sted_', 't in y_', 'ne w bor n_', 'chi ld r en_', 'mer r y ma king_', 'b an ds_', 'food_', 'c oo ked_', 'c row d_', 'ta ble_', 'fu n_', 'g ro om sman_', 'ac c ord ing_', 'cu sto m_', 'bo ar_', 'bi g_', 'di sh_', 'car ve_', 'sha re_', 'sa v ou ry_', 's m ell_', 's ne e z e_', 'el se_', 're gre t_', 'ha ving_', 'su c ce e ded_', 'ex pe c ted_', 'wi lls_', 'lo ved_', 'ru ssi sc he_', 'si mon s_', 'coun tri es_', 'sea s_', 'ri ver s_', 'ar chi de j _', 'men_', 'o be y_', 's ligh t est_', 'for ty_', 'ci ti es_', 'pala c es_', 'do or s_', 'ro of s_', 'c r y sta l_', 'w ind ows_', 'con si sted_', 'tw el ve_', 'wi se st_', 'b ear ds_', 'fl owed_', 'b rea st s_', 'co ll e ge_', 'ex ac t_', 'tru th_', 'happy_', 'en joy_', 'sea _', 'ship_', 'sa i led_', 'har b our_', 'se ver al_', 'mer ch ants_', 'sh or e_', 'tra ve lled_', 'be held_', 'l an ds_', 'cle ver_', 'vi si ted_', 'won d ers_', 'tru th fully_', 'em per or_', 'wor th y_', 'el de st_', 'is land_', 'bu s an_', 'hel en a_', 'pla in er_', 'gre y b ear d_', 'gu ess_', 'ri dd les_', 'an gri ly_', 'par d on_', 'en vo y_', 'gr own_', 're f le c ted_', 'gra vely_', 'tra de_', 'pa ying_', 'du ti es_', 'dis mi ssed_', 'pu z z led_', 'de c id ed_', 'di st ra c t_', 'hun t s men_', 'fa l con ers_', 'hor n s_', 'ha w ks_', 'gre en_', 'he d ge_', 'stre tched_', 'ma iz e_', 'e y e_', 'y e llow_', 'ears_', 's wa yed_', 'f r o_', 'g ent le_', 'b re e z e_', 'ri pp ling_', 'dre w_', 're in_', 'ad m ir ed_', 'du g_', 'pl anted_', 'wor k men_', 'car ed_', 'b read_', 'be lon ged_', 'foll ow ers_', 'bi dding_', 'f ar m house_', 'pea s ants_', 'l un ching_', 'r y e_', 'dr in king_', 'wor e_', 'red_', 'shi r ts_', 'b ra id_', 'a like_', 'ow n s_', 'brothers_', 'our s_', 'la b our ers_', 'rep ea ted_', 'b owing_', 'simon_', 'ta u ght_', 'tru e_', 'k ind_', 'nei gh b our s_', 'u se ful_', 'ne g le c t_', 'sure_', 'a m p ly_', 're pay_', 'la b our_', 'h on est_', 'pea s ant_', 'pl an ting_', 'har v est_', 'sp e ci al_', 'tra des_', 'o_', 'ea s y_', 'ma ter i al s_', 'bu i ld_', 'pi ll ar_', 'a bo ve_', 'ne e ds_', 'cle ver ness_', 'bro ther_', 'bu il t_', 'moun t_', 'happ en ing_', 'under_', 'work_', 'sim p le_', 'shi ps_', 'im pro v em en ts_', 'bo at_', 'pla in_', 'h om e made_', 'y ear_', 'ma k es_', 'vo y age_', 're qu ir e_', 'di st ance_', 'l ear nt_', 'im p or t ance_', 'emb ar k_', 'p ur su ed_', 'se iz e_', 'pr ow_', 'sin k_', 'fi f th_', 'm ere_', 's mi th_', 's mi th y_', 'c ro ss b ow_', 'eag le_', 'sk y_', 'bo l t_', 'hi ts_', 'se es_', 's oun ds_', 'si x th_', 'm en tion_', 'quick er_', 'fa lls_', 'pi ck_', 'de p th s_', 'si x_', 'th ank_', 't each_', 'com es_', 'se ven th_', 'sil ent_', 'han di cra ft_', 'pro per ly_', 'rea l_', 'per for m ance_', 'do ing_', 'd ou b t_', 'ex cu ses_', 'hea r_', 'st e pped_', 'cl eared_', 'th ro at_', 'foll ows_', 'g en er a lly_', 'lo ses_', 'hop es_', 'st ea l_', 'hi de_', 'sma ll est_', 'sc ra p_', 'de e pe st_', 'lo ck_', 'en chan ted_', 'st ea ling_', 'for go tt en_', 'ch o s en_', 'ro b bed_', 'trea sur y_', 'bri bed_', 'ju d g es_', 'mar ble_', 'hou r_', 'pri son_', 'as sur ed_', 'fa v our_', 'se iz ed_', 'cha in s_', 'car p ent ers_', 'ma s ons_', 's mi th s_', 'stor es_', 'ir on_', 'mor t ar_', 'n ea rest_', 'star s_', 'hi gh er_', 'wonder ful_', 'mar ching_', 'li ke ly_', 'vi c t or_', 'd ying_', 'fa mine_', 'e v ent_', 'ar ms_', 't wi ce_', 'th ri ce_', 'wonder ship_', 'sig n_', 'la un ched_', 'flo a ted_', 'pr ou dly_', 'b ird_', 'wa ves_', 'ro p es_', 'wi res_', 'ri g ging_', 'mu si ci an s_', 'fi ddle_', 'b ows_', 'mu si c_', 's wa m_', 's un k_', 'passed_', 'gi g an ti c_', 'de p th_', 'o ce an_', 'for ge_', 'ha m m ered_', 'magi c_', 'towards_', 'sp e ck_', 'sh oo t_', 's mi led_', 'li f ted_', 'a i m_', 'fir ed_', 'than ks_', 'b ra ve_', 'la ds_', 'ri ch ly_', 're war ded_', 'beg u n_', 'o be yed_', 'sur r oun ded_', 'fe ll ows_', 'wi se_', 'coun se ll or s_', 'c li mb _', 'cla mb ered_', 'ar ound_', 'list ened_', 'si des_', 's li d_', 'rep or t_', 'fu ll_', 'pri de_', 'har sh_', 'c ru e l_', 'decl ar es_', 'as ks_', 'decl are_', 'ju d ge_', 'w ea ther_', 'sa il_', 'stor my_', 're vi e w ed_', 'k ni gh ts_', 'be si des_', 'bo d y gu ard_', 'c ro ss b ow men_', 'pi cked_', 'her o es_', 're ser ve_', 'o c ca si ons_', 're qu ir ing_', 'par ti cu l ar_', 'c ou ra ge_', 'no b les_', 'off er_', 'ea si er_', 'ad vi se_', 'w in_', 'pea ce fully_', 'f row ned_', 'foo l_', 'pu shed_', 'fast_', 'con si der_', 'pl an_', 'ca pi ta l_', 'ex pla ined_', 'b en e f it_', 'w r ong_', 'ad v an ta ge_', 'pa le_', 'no dd ed_', 'la d en_', 'st u f f s_', 'bro ca des_', 'per si an_', 'car pe ts_', 'p ear ls_', 'f our_', 'comp ani ons_', 'ho sta g es_', 'fi lled_', 'lon ging_', 'star t_', 'bo ard_', 'so on er_', 'cut_', 'fa l c on_', 'a ir_', 'si gh ted_', 'co a st_', 'str on g ly_', 'gu ar ded_', 'af ar_', 'wa t ch man_', 'tow er_', 'ha l t_', 'an ch or_', 'pea ce ful_', 'for ei g n_', 'war es_', 'co st ly_', 'de si re_', 'se ll_', 'ex chan ge_', 'v al u able_', 'g oo ds_', 'r owed_', 'ro s ered_', 'com ing_', 'w om en_', 'sa le_', 'tru st_', 'con de sc end_', 'w el come_', 'c har ge_', 'con si d ers_', 'ad or n_', 'con t ent_', 'sp e e ch_', 're d room_', 're sp ec t fully_', 'di sp la yed_', 'v el ve ts_', 'ca ses_', 'pre ci ous_', 'st ones_', 'be wi ld ered_', 'mag ni fi c en ce_', 'w ear y_', 'f ing ers_', 'st ro king_', 's of t_', 'ho ld ing_', 'sp ar k ling_', 'fa i rest_', 'wait ing ma i ds_', 'ac ce pt_', 'sil ks_', 'tri m_', 'hea dd re s ses_', 'trea su res_', 'per m it_', 'co l our ed_', 'ta pe st ri es_', 'g or ge ous_', 'k now ing_', 'ta st e_', 'h on our_', 'vi s it_', 'ch oo se_', 'plea s ing_', 'po li te_', 'p ra y_', 'a llow_', 'ru b bed_', 'ear_', 'con sent_', 'y a ch t_', '1 0 0 _', 'c ro ss b ows_', '1 0 0 0 _', 'con du c t_', 'pl ank_', 've s se l_', 'sp read_', 'in ter e st ing_', 'ta les_', 'for got_', 'list en ing_', 'v ani shed_', 'ra c ing_', 'cre w_', 'al ou d_', 'ter r or_', 'st ru ck_', 'hea ds_', 'lo ss_', 'w ep t_', 'so b bed_', 'p un i shed_', 'husband_', 'ir ons_', 'la m en ting_', 'fa shi on_', 'sur face_', 're co ll ec ted_', 'herself_', 'ga z ing_', 'hop e_', 'de lay_', 'de ck_', 'w r ung_', 'han ds_', 'chan ged_', 'sw an_', 'b ow_', 'qui ck_', 'b la ck_', 'mou se_', 'dar ted_', 'ho le_', 's wi f tly_', 'c at_', 'thou gh t fully_', 'thou gh ts_', 'gu ll_', 'bi ll owing_', 'sa il s_', 'fla gs_', 'wa ve_', 'fi dd l ers_', 'wi re_', 'laid_', 'pi er_', 'step s_', 'sh in es_', 'hea ven_', 'sp ar k le_', 'ha st e_', 'ha st en_', 'bu g les_', 'be lls_', 'r ung_', 'sw ar med_', 'ga tes_', 'a par t m en ts_', 'ma da m_', 'fa me_', 'ex pe c t_', 'lo v el in ess_', 're i g n_', 'w oo ing_', 'be t ro th al_', 'p om p_', 'le tter_', 'in v ite_', 'e sc or ted_', 'ex ec u tion_', 'en ter ta ined_', 'a m ba s sa d or s_', 'ho sp i ta b ly_', 'b le ss ing_', 'a tt end_', 'fri en ds_', 'go ver n_', 'tow n s_', 'fo lk_', 'un der st and_', 'fi gu res_', 'go ver n or s_', 'money_', 'ta x es_', 'g ood ness_', 'th i e f_', 'par d on ed_', 'go b let_', 'w ine_', 'in v it ed_', 'fea st_', 'un gar is chen_', 'l an gu age_', 'bea st s_', 'h on e st ly_', 'her d ing_', 'flo ck_', 'hi ss ing_', 'direc tion_', 'cau se_', 'app roa ched_', 'd ry_', 'lea ves_', 'tree_', 'fla mes_', 's na ke_', 'co i led_', 'wonder ing_', 'bl owing_', 'bur ning_', 'sa ve_', 'c rep t_', 'ar m_', 'tw ined_', 'tre mb led_', 'fri ght_', 'inst ant_', 'st ung_', 'un luck y_', 'car ry_', 's na k es_', 'e vi l_', 'be f all_', 'ga te way_', 'en ti re ly_', 'in ter tw ined_', 'whi st led_', 'im me di a te ly_', 'ar ch_', 'un w ound_', 're fu se_', 're sc u ed_', 'tur ning_', 'sa ving_', 'gr anted_', 'die_', 'po s se ss_', 'de par t_', 'saying_', 'sp at_', 'sp it_', 'mou th s_', 'v al u e_', 'be w are_', 'le st_', 'un der stood_', 'b ir ds_', 'sheep_', 'gra z ing_', 'per ched_', 'b en ea th_', 'la mb _', 'l ying_', 'wa g g on_', 'trea sure_', 'ke eping_', 'h on ou ra ble_', 'go ds_', 'happ in ess_', 'a ck now le d ged_', 'ri ch est_', 'na ti ve_', 'flo cks_', 'ca ttle_', 'ch ri st m as_', 'p rep are_', 'f ar m_', 'shep her ds_', 'p rep ared_', 'both_', 'st ead_', 'sp end_', 'wo l ves_', 'how led_', 'bar ked_', 't on gu e_', 'ha vo c_', 'f le sh_', 'te e th_', 'da w ned_', 'ex ce p ting_', 'ex cla im ed_', 'su re ly_', 'b id_', 'moun ted_', 'st e ed_', 'm are_', 'a head_', 'see ing_', 'nei gh ed_', 's l ow_', 'th in_', 'mi stre ss_', 'f at_', 'w ei gh ts_', 'per ce i ving_', 'ur ged_', 'con t ro lled_', 'a il s_', 't or m en ted_', 'length_', 'qui et_', 'be s ou ght_', 'me an while_', 'ge tting_', 'c off in_', 'wh ined_', 'pi e ce_', 'co ck_', 'pe cked_', 'w re tched_', 'g lu tt on_', 'st up id_', 'wi ves_', 'ca ll_', 's wa llow_', 'le s son_', 'bea k_', 'bl ow_', 'secre t_', 'wi d ow_', 'bo ys_', 'no ti ced_', 'sca bb ard_', 'bi g ger_', 'sti c king_', 'gar d en_', 'pla in ly_', 'be com ing_', 'f it_', 's li pped_', 'be li e ve_', 'par ti cu lar ly_', 're so lu ti ons_', 'b rea k fast_', 'c a_', 'an y body_', 'bl ows_', 'sor e_', 'a ching_', 'k ne l t_', 'we eping_', 'wor king_', 'ba dly_', 'so bb ing_', 'c rying_', 'k ne el ing_', 'bea ten_', 'com m and ed_', 'sen ds_', 're ce i ving_', 'me s sa ge_', 'pre t ti est_', 'an ger_', 'o be di ent_', 'ha l f fri gh t ened_', 'per mi ssi on_', 'd ri ven_', 'bea ting_', 's mi ling_', 'ta lked_', 'pre sent_', 'to ys_', 'spo il_', 'o b ser ved_', 'wa t ching_', 'sh ook_', 'no body_', 'd early_', 'en ter_', 'sen ses_', 'cl an ked_', 'l ou dly_', 'trea ted_', 'f ru it_', 'se ven te en th_', 'be come_', 'no se_', 's ou ght_', 'fe el ing_', 'du ll_', 'lon e ly_', 'a mu s ing_', 'qu ar t ers_', 'i ll_', 'ha sti ly_', 'gar d en s_', 'hou ses_', 'youth_', 'hand som er_', 'h ur t_', 'com pla in_', 's ou ls_', 's wor e_', 'c row ded_', 'ti ed_', 'han g man_', 'a mi d st_', 'si len ce_', 'inst an tly_', 'ru mb led_', 'fla g_', 'wa ving_', 'un der n ea th_', 'mag y ar s_', 'm_', 'st ar_', 'b an da ge_', 'cor ds_', 's eat_', 'whi pped_', 'bu d a_', 'plea s an tly_', 'mi les_', 'comp ani on_', 'ea se_', 'tru sted_', 'pi c king_', 'ro ses_', 'fa ir y land_', 'spo il t_', 'ta le_', 'su m mer house_', 'f in est_', 'dre ss_', 'b ook_', 'd ro pped_', 'sp e e ch less_', 'co a x ing ly_', 'ki ss_', 'an ge l_', 'me an_', 'pre ss ing_', 's la pped_', 'b led_', 'sh ri e ked_', 'pa in_', 'sc rea m ing_', 'star ve_', 'dragon_', 'strea m ing_', 'bri ck la y ers_', 'st oo l_', 'hou r s_', 'pro ce e ded_', 'in for m_', 'com man ds_', 'fu l fi lled_', 'hear ing_', 'bo ttle_', 'pa ss_', 'ma son_', 'bor ed_', 's un set_', 'as se mb led_', 'mi s de e ds_', 'pro cla im ed_', 'wa lled_', 'secre t ar y_', 'la dd er_', 'ro s y_', 'af fa ir s_', 'la sted_', 'sultan_', 'b ear ing_', 'c an es_', 'bi ds_', 'gr ows_', 'roo t_', 'ex a m ined_', 'clo se ly_', 'di f f er en ce_', 'be tw e en_', 'in qu ir ed_', 'al as_', 'de spa ir_', 'o c c ur red_', 'u su al_', 'wa ke_', 'war m_', 'sin ks_', 'c an e_', 'flo a ts_', 'no t ches_', 'mi sta ke_', 'hand ed_', 'foll owing_', 'qu ar re l_', 'fo al s_', 'beg ging_', 'ani ma ls_', 'bor n_', 'no on_', 's ank_', 'ri gh tly_', 'pla gu e_', 'w ea k er_', 'g loo my_', 'ca st_', 'happ en_', 'con sul t_', 'i do l_', 'pre t end_', 'sc rea m_', 'tur ks_', 'fo al ed_', 'ex ac tly_', 'bi dd en_', 'rep ent_', 'wi cked_', 'st ra it_', 'fa il_', 'drea d ful_', 're sul t_', 'trou gh s_', 'o a ts_', 'wh eat_', 'bar le y_', 'fo al_', 'ea ts_', 'direc ti ons_', 'mar king_', 'tur key_', 'p lo ts_', 'po s se ssi on_', 'hun gar y_', 'to ta l_', 'fa i lu res_', 'a un t_', 'wi tch_', 'pu z z le_', 'th er e fore_', 'con ver sa tion_', 'w ri tt en_', 'c ross_', 'bor der_', 'sor row ful_', 'gra te ful_', 's ear ch_', 'you th s_', 'ma s k_', 'tw in_', 're se mb ling_', 'pa in ted_', 'pre ci se_', 'c op y_', 'pre sen ce_', 'gre e ting_', 'de t ec t_', 'wi t ches_', 'in vi si ble_', 'g li ded_', 'pa ir_', 's ci s sor s_', 'co a t sle e ve_', 'han ging_', 'si len tly_', 's l it_', 'mar ked_', 'sle e ves_', 'pre t en ded_', 'ba cks_', 'af fa ir_', 'in v ent_', 'ac cor d_', 'w el com ed_', 'jo y fully_', 'f re sh_', 'd an g er ous_', 'we ep_', 's un ri se_', 'for th_', 'ga te_', 'thre sh old_', 'fi f te en_', 'ar med_', 'bar red_', 's ch em es_', 'v a in_', 'ju m ped_', 's li ced_', 'ca p ture_', 'de pri ve_', 'sc ra tch_', 're sted_', 'un i for m_', 'mi le_', 'tri u m p h_', 'sh own_', 's on in la w_', 'su c ce ed_', 'car es_', 'go ver n m ent_', 't roo p_', 'ar ra y_', 'surpri sed_', 'dis moun ted_', 'mag y ar_', 's ons_', 'f on d_', 'hun ting_', 's car ce ly_', 'har e_', 'th i ck et_', 'roa d_', 'cha se_', 're fu ge_', 'b rea thing_', 'fla me_', 'f ear ful_', 'fi er y_', 'g row_', 'un ea s y_', 'li ke wi se_', 'hun t_', 'c lu e_', 'di sa pp ear ance_', 'bu shes_', 'hun t sman_', 'he els_', 'p ra yed_', 'of ten_', 'cau ti ous_', 'st ab les_', 'sa dd led_', 'wi s er_', 'ha res_', 'mountain_', 'gre e ted_', 'hi ther_', 'ea ten_', 'hea v y_', 'gu e ssed_', 'coun se l_', 'o ver ta k es_', 'sha ke_', 'go es_', 'co a x ed_', 'fla tter_', 'p rai se_', 't em p er_', 'str en gth_', 'st oo p_', 'p ur e_', 'hear th stone_', 'y on der_', 'li es_', 'hear th_', 'wh er eat_', 'foo li sh_', 'je st ing_', 't all_', 'hear ti ly_', 'c ro ss ly_', 'la ke_', 'pi ge on_', 'sp ar row_', 'fla tt er ing_', 'su it_', 'ta king_', 't en der_', 'di st ant_', 'ever y body_', 'stre e ts_', 'en ga ge_', 'beg in ning_', 'o ver heard_', 'wi ll ing ly_', 'o be di en tly_', 'b an ks_', 'li e_', 'm ea d ows_', 'lea d ing_', 'pa st ur e_', 'ru n_', 'su f f er_', 'spo t_', 'war ning_', 'mar ke t place_', 'gre y h oun ds_', 'ha w k_', 'pipes_', 't ro tt ed_', 'br an ch_', 'ro lling_', 'trou s ers_', 'wa ded_', 'c ow ard_', 'voice_', 'm inu te_', 'rea red_', 'hu ge_', 'gra pp led_', 'no on day_', 'ga sp ed_', 'di p_', 'h ur l_', 'h o_', 'for e head_', 'loo s ened_', 'wa shed_', 'sig n s_', 'sh ou ld er_', 'hor se men_', 'a side_', 'st e ep_', 'o ver hun g_', 'ro lled_', 'cla sp ed_', 'ho tt est_', 'co ll ec ted_', 'mar ched_', 'st are_', 'ri dd en_', 'eag er ly_', 'f ini shed_', 'wi shes_', 'de li ver_', 'mon ster_', 's la in_', 'b ra v est_', 'pe ep_', 'hi lls_', 'bri m m ing_', 'im pl or e_', 'mer ri ly_', 'sto pp ing_', 'c ry_', 'sca tt ered_', 'ca lling_', 'gra sp ed_', 't ou ched_', 'h oun ds_', 'loo se_', 'so ared_', 'sw oo ped_', 's len der_', 't wi gs_', 'st ri ke_', 'roo ts_', 'ce ll ar_', 'fi ll_', 'amon g_', 't wi light_', 'tre mb ling_', 'thr on ged_', 'un k n own_', 'p ow er_', 're ce i ve_', 'splen d our_', 'la m ps_', 'ta b les_', 'ha ll_', 'ch o se_', 'p rep ar a ti ons_', 'im pa ti ent_', 'coun t less_', 'mu l ti tu de_', 'strea med_', 'wh er e so ever_', 'en chan t m ent_', 'vo l k s mar e h en_', 'der_', 'ser b en_', 'wi ld rose_', 'la mb s_', 'st all_', 'd ined_', 'gra ss y_', 'que en s_', 'fully_', 'go d de ss_', 'ven us_', 'happ i er_', 'm in ds_', 'sa dd er_', 'thou gh t ful_', 'com m on_', 'ch est_', 'a ches_', 'stran ger_', 'ba g_', 'th row ing_', 'sh ou ld ers_', 'wand er ings_', 'th i ck_', 'tre es_', 'br an ches_', 'pro ver b_', 'u nex pe c ted_', 'mi d st_', 'su m mon ing_', 'pl un ged_', 'bo ld ly_', 'wa l king_', 'ca ve_', 'dar k ness_', 'dar k er_', 'pau sed_', 'a p pa lled_', 'dar ing_', 'ad v ance_', 'st ep_', 'e f for t_', 'pa c es_', 'g li m m er_', 'direc ted_', 'fa in t_', 'ra ys_', 'her m it_', 'b ear d_', 'vi si t or_', 'no ti ce_', 'pa ti en tly_', 'ho ly_', 'l ou der_', 'n ear er_', 'e ch o ed_', 'ca ver n_', 'dis ma l_', 'hun dre ds_', 'mi ser y_', 'hop ing_', 'c ea se_', 'wand er ing_', 'st oo ped_', 'fl ow er y_', 'bri gh t ness_', 'de sp er a te_', 'th ir st_', 'par ched_', 'ea ting_', 'mer e ly_', 'wo ke_', 'stran ge_', 'tra il s_', 'p in k_', 'sk in_', 'c r owed_', 'de light_', 'w ra pped_', 'pa il_', 'd ow n sta ir s_', 'tu mb ling_', 'eag er ness_', 'per fe c tly_', 'em p ty_', 'hor r or_', 'di sa pp o in t m ent_', 'some how_', 'mo an ed_', 'fa i ri es_', 'hear ts_', 'ho ver ing_', 'ones_', 'sw oo p ing_', 'cla w s_', 't op s_', 'nest_', 'la ying_', 'd ow n y_', 'eag le ts_', 'na tur a lly_', 'po pped_', 'ne st led_', 'w ings_', 'shi e ld_', 'po is on ous_', 'd w elt_', 'l ind wor m_', 'ac c ord ing ly_', 'ab sent_', 'di sa pp ear_', 'w ea k_', 'supp o sed_', 'fla pped_', 'im pa ti en tly_', 'tre e t op s_', 'ru sh ing_', 'cre eping_', 't on gu es_', 'stre t ching_', 'clo s er_', 'sh u dd er ing_', 'f ar the st_', 'be l ow_', 'ro ar s_', 's n ar ls_', 'mi x ed_', 'un di st ur bed_', 'tra c es_', 'hand ful_', 'sca ly_', 'su b st ance_', 'grea tly_', 'ha st ened_', 'mi ss_', 'd an ger_', 'de li ver ed_', 's un bea m_', 'st ru g g led_', 'c ur led_', 'me an ing_', 's of t est_', 'gre en est_', 'mo ss_', 'bri gh t est_', 'fl ow ers_', 'moun tain s_', 'de cor a te_', 'cle ver ly_', 'fa ir y_', 'ro cked_', 'f ru its_', 'b er ri es_', 'ta ll er_', 'happ ily_', 'ed ge_', 'comp any_', 'pla y things_', 'bu tt er f li es_', 'f our te en_', 'de er_', 'g ro ve_', 'sta g_', 't ro d_', 'st ra in ing_', 'ba ying_', 'h ound_', 'hor n_', 'fl ow_', 'fi tt ed_', 'ar row_', 'ra y_', 'for tun e_', 'cau sed_', 'chan ge_', 'con fe ssed_', 'i ma ge_', 'di stre ssed_', 'd ou b ted_', 'em pre ss_', 'her al ds_', 'th rou gh out_', 'ri ches_', 'h om es_', 'no tion_', 'to ss ing_', 'dis da in_', 'b oo ks_', 'hu m p_', 'ba ld_', 'ru de_', 'tre e to p_', 'fir m_', 'ke ttle_', 'tri po d_', 'w_', 'om en_', 'tu c king_', 'cha tt ered_', 'cla tt ered_', 'ca m p ful_', 'gi p si es_', 'ga th er ing_', 'sti cks_', 'k ind led_', 'st and_', 'ro ll_', 'cra sh_', 'be wi tched_', 'k now s_', 'pe eping_', 'pa ti en ce_', 'st u pi d ity_', 'mo ve_', 't rying_', 'st ea dy_', 'han g_', 't wi g_', 's m oo th_', 't r un k_', 'ou ght_', 't en der ly_', 'whi t est_', 'ce le b ra ted_', 'per fe c t_', 'a da p ted_', 'fi le_', 'rou m ani an_', 'tiidu_', 'pip er_', 'fe ed_', 'wi lling_', 'g la d_', 'wor ked_', 'la z y_', 's co ld ings_', 'bea t ings_', 'e f fe c t_', 'o ld er_', 'id l er_', 'w in t ers_', 'sto ve_', 'su m m ers_', 'sha dy_', 'tun es_', 'bu sh_', 'mi sta ken_', 'no tes_', 'ca ts_', 'mi ce_', 'to il_', 'ru de ly_', 'r un s_', 'wor k er_', 'gi ft_', 'ear n_', 'da ily_', 'bar ga in_', 'l ear n_', 'wh er ever_', 'la ck_', 'sur er_', 're sol ved_', 'sp ir it_', 'hop ed_', 'har d ship_', 'c ur e_', 'id le_', 'fo lly_', 'we e ks_', 'en jo yed_', 'f lu t ep la ying_', 'gi ving_', 'p en ce_', 'ho ar ded_', 'now here_', 'ma st er ly_', 'man ner_', 'd an c ing_', 'mar riage_', 'ch ri st en ing_', 'fa il ur e_', 'no ted_', 'wi de_', 'p rai sed_', 'pre ssed_', 'decl ar ing_', 'ac ce p ted_', 'g la dly_', 'clo th ed_', 'mag ni fi c ent_', 'cha in_', 'en c ru sted_', 'la di es_', 't wi sted_', 'sil ken_', 's car ves_', 'p lu med_', 'mo thers_', 'k ni tt ed_', 'g lo ves_', 'co l our s_', 'con t en ted_', 'cra ving_', 'go a ded_', 'ex er ti ons_', 'cl early_', 'stor i es_', 'k un g l a_', 'hi gh ly_', 're co ll ec t_', 'sa il ing_', 'n ar v a_', 'mer chan t men_', 'ca p tain_', 'co st_', 'pa s sa ge_', 'pr u d ent_', 'l ow er_', 're tur ning_', 'sa il or_', 'secre tly_', 's of tly_', 'ca s ks_', 'un seen_', 'in ven ted_', 'cra m ped_', 'fa st en ing_', 'sh out_', 'sa il or s_', 'un ti e_', 'sw u m_', 's ch e me_', 's wi m m er_', 'rou se_', 'ma tes_', 'bar ga ined_', 'pre vi ous_', 'gh o st_', 'loo sed_', 'm el ted_', 'than k ful_', 'pa y m ent_', 'b er th_', 'c un ning_', 'tri ck_', 's wi m_', 'de ser ve_', 'pro of_', 'mar ve ll ous_', 'p ow ers_', 'ow n ers_', 'mer ch ant_', 'sc u ll i on_', 'c ook_', 've s se ls_', 'b ra ss_', 't in_', 'sa u ce p an s_', 'ba ked_', 'o ven_', 'di shes_', 'co ver s_', 'pi gs_', 'co ve t ous_', 'w ea l th_', 'con st an tly_', 'el se where_', 'su m_', 'in c rea sed_', 'p it ch_', 'wa g es_', 'ch ea p_', 'co at_', 'gar m ent_', 'o c ca si on_', 's un day_', 'li ked_', 'plea sure_', 's un n y_', 'pa s ser s by_', 'fa mi li ar_', 'pa th s_', 'li me_', 'pa st_', 'la d le_', 't one_', 'sw e e ter_', 'c ea sed_', 'cha tter_', 'do ll ar s_', 'co in s_', 'm ur m ur s_', 'trea t_', 'plea s an ter_', 'st ir r ing_', 'sa u c es_', 'pa th_', 'wi s dom_', 'bu ll_', 's li p_', 'af ter no on_', 'fi x ed_', 'in cl ined_', 'fu l fi l_', 'app o in ted_', 'coun ted_', 'ga in s_', 'in vi ta ti ons_', 'ci ti z en s_', 'u sed_', 'l and l or d_', 'th us_', 'g list ened_', 'pr ou der_', 'sa ved_', 'le i sure_', 'rememb er_', 'fa mi ly_', 'hi re_', 'ca b in_', 'ch e st s_', 'f re sh ened_', 'ga le_', 'stor m_', 'bo a ts_', 'pu sh_', 'o ver turned_', 'luck ily_', 'o ar_', 'flo a ting_', 'mi st_', 'a wo ke_', 'ex pl or e_', 'abu n d ance_', 'tra ce_', 'la z in ess_', 'di so be di en ce_', 'for ge t fu l ness_', 'ligh tly_', 'o d d_', 'sh in ing_', 'gre e di ly_', 'wa sh_', 'co l our_', 'drea m ing_', 'de v our_', 'fe ll ow men_', 's wa ll owed_', 'hi d_', 'vi o l ent_', 'gr owing_', 'b ough_', 'ri pe_', 'br own_', 'n u ts_', 'sh or ter_', 'sh or t_', 'dis co very_', 'b old_', 'po ck et_', 'cau ti ou s ly_', 'ch in_', 'dea dly_', 'stre tch_', 'n ut_', 'a wait ed_', 'supp o s ing_', 'sh r in king_', 'ac c id ent_', 'ca se_', 'le tting_', 'ru ined_', 'comp le te ly_', 'si z e_', 'ga th ered_', 'supp ly_', 'wo ve_', 'ba sk et_', 'm our n_', 're place_', 'un in ha b it ed_', 'bea ch_', 'shi p w re ck_', 'gra ti tu de_', 'po ck e ts_', 'ne e ded_', 'fa m ous_', 'ma d_', 'ne ed less_', 'w ear ing_', 'dis gu i sed_', 'u pro ar_', 'mi s for tun e_', 'ru m our_', 'do c t or s_', 'magi ci an s_', 'su m mon ed_', 'dis ea se_', 'ex per i en ce_', 'b y and b y e_', 'ma la dy_', 'con ne c ted_', 'ca t ching_', 'ma tt ers_', 'dis ea ses_', 'sp e ed_', 'magi ci an_', 'off er ing_', 'un told_', 're stor e_', 'no ses_', 'for m er_', 'su m mon s_', 'chan ging_', 'app ear ance_', 'se ll er_', 'po st_', 'fe ver i sh ly_', 'coun ting_', 'y ard_', 'ra w_', 'ar ou se_', 'su sp i ci on_', 'p oun ded_', 'p ow der_', 'di v id ed_', 'do ses_', 'c ur ed_', 'gre e dy_', 'shi p w re cked_', 'e sta te_', 'com for ta b ly_', 'en ga ged_', 'hear ty_', 'me e ting_', 'in qui ri es_', 'e s th ni sc he_', 'pa per are ll o o_', 'ha ted_', 'for med_', 'for tun a te ly_', 'm our ning_', 'a mu se_', 'ac comp any_', 'rough_', 'w in ds_', 's oun ded_', 'da y b rea k_', 'p len ti ful_', 'sh el ter_', 'ogre_', 'hu man_', 'su ms_', 'mo ved_', 'st ab bed_', 'b ind ing_', 'fi x_', 'ho of_', 'pe ep ed_', 'u pp er_', 'giant_', 'un b ound_', 'fa st ened_', 'ad m ir e_', 'o l de st_', 'ab and on_', 'c ur l_', 'de ser t_', 'wor n_', 'com for ta ble_', 'st able_', 'fo dd er_', 'cla d_', 'app roa ching_', 'rep ly_', 'ga te ke ep er_', 'p or ter_', 'g oo se boy_', 'li k es_', 'ni ck na me_', 'pa per are ll o_', 'ra gs_', 'mu d_', 'dis gu st ing_', 'o b j ec t_', 'some times_', 'in ter est_', 'whi st ling_', 'ge e se_', 'owing_', 'fl our_', 'mi lls_', 'supp lied_', 'hea ted_', 'ba ke_', 'po ssi ble_', 'hea t_', 'ba king_', 'pa ss ing_', 'sig ned_', 'di st ur bed_', 'y a w ning_', 'da w n_', 'su re ty_', 'ju m p ing_', 'k it chen_', 'pi led_', 'o ven s_', 'stor e_', 'p ra y ers_', 'bri de g room_', 'po li sh ing_', 'ar m our_', 'sha r p en ing_', 's words_', 'we ll g ro om ed_', 'c rea tu res_', 'sh one_', 'sa t in_', 'm en a t ar ms_', 'a tt en d ing_', 'c lay_', 'chi l di sh_', 'sha r pe st_', 's wi f t est_', 'ri d ing_', 'for tun es_', 'k night_', 'pi er ced_', 'st ou t est_', 'b rea st pla te_', 'str on g est_', 'ho st_', 'fo es_', 'f led_', 'war ri or s_', 'with st and_', 'ti me ly_', 'sur co at_', 'row s_', 'do lls_', 'ha l ted_', 'sha r p er_', 'pre vi ou s ly_', 'bri gh ter_', 's wi f ter_', 'y e st er day_', 'de sp er a te ly_', 'be st ow_', 'to ken_', 'wor se_', 'lo s ing_', 'he si ta ted_', 'comp ly_', 'pri ded_', 'in v in ci ble_', 'pr ou d_', 're stor ed_', 'g ood b y e_', 'si ci li ani so h en_', 'g rou p_', 'b ir ch_', 'b la ck ga me_', 'ne st s_', 'st ri c tly_', 'for bade_', 'co ll ec t_', 'w oun ded_', 'f lu tt ered_', 'f lu tter_', 'ab sor bed_', 'br an ching_', 'pa ck_', 's na pp ing_', 'a im ing_', 'lar g est_', 'wo lf_', 'ar row s_', 'f light_', 'de li ver er_', 'gu est_', 'lar der_', 'sta m ped_', 'flo or_', 'te lling_', 'm ea l_', 'wa k ened_', 'af re sh_', 'wa ken_', 'im po ssi ble_', 'ch o ice_', 'a h_', 'z i ther_', 'con tri ved_', 'mou th ful_', 'man ger_', 'un der gone_', 't r an s for ma tion_', 'fa v ou ri tes_', 'war s_', 'bor e_', 'age_', 'ar ched_', 'pa w ed_', 'won t_', 'g room_', 'e yed_', 'ow ner_', 'ha te_', 'en v y_', 'a tt en tion_', 'bo a sted_', 'st ra yed_', 'th un der st ru ck_', 'wor ry_', 'o x en_', 'cer tain_', 'sh ows_', 'bri d le_', 'bri d led_', 'ra ven_', 'ga ll o p_', 'c lu t ches_', 'st ab le man_', 'j ea l ous_', 'in j ur e_', 'hi t_', 'mon th s_', 'p en al ty_', 'ch e er_', 'pl un ge_', 'sha pe_', 'di pped_', 're sc u er_', 'p lo t_', 'un do ing_', 'pre sen ted_', 'pu f f ed_', 'wa x ed_', 'er ec ted_', 'tri al_', 'de f en ce_', 'inst ru m ent_', 'str ings_', 'hel p er_', 'd ance_', 'ca p ered_', 'mer c y_', 'r ang_', 'gra ci ou s ly_', 'mu si ci an_', 'un wi ll ing ly_', 'f ir_', 'ta tt ers_', 'po in ted_', 'wa st ing_', 'hea ve_', 'sp in ning_', 'e le c ted_', 'f in ni sc he_', 'fla sk ful_', 'be d po st_', 'bu sin ess_', 'ra ck_', 'ru in_', 'm our ned_', 'fa u l ts_', 'ab and on ed_', 'for s ook_', 'car ing_', 'th ir sty_', 'g ur g ling_', 's our ce_', 'bu bb led_', 'p oo l_', 're f le c tion_', 'cu tting_', 'w ea p on_', 'wor k man ship_', 'w rought_', 'hand le_', 'bu ck le_', 'str on ger_', 'te st ing_', 'g l ow_', 've in s_', 'o a k_', 'roo ted_', 'we ed_', 'dra w ing_', 'k ni fe_', 'g ro ped_', 'tri pped_', 'li ft_', 'st ra in_', 'ro bb ers_', 'band_', 'bur ned_', 'bri gh tly_', 'pa ce_', 'sle ep y_', 'sh ou ting_', 's ing ing_', 'di sc u ss ing_', 'd it ch_', 'ent r ance_', 'pi le_', 'ju m p_', 'ho p_', 's wi ft_', 'st ro ke_', 'sig na l_', 'lea pt_', 'con fi d en ce_', 'sha w l_', 'har m less_', 're si st ance_', 'sti f f_', 'star k_', 'hea d less_', 'bo di es_', 'cha mb er_', 'r an sa cked_', 'ro om s_', 'ke ys_', 'un for tun a te ly_', 'ro bb er_', 'sho ck_', 'lar ger_', 'be lon ging_', 'fi st_', 'ti gh tly_', 'cra ck_', 'g li m p se_', 'vi si ts_', 'fla tt ered_', 'p un i sh_', 'bo ld ness_', 'un h oo ked_', 'na il_', 'bu ck led_', 's que e z e_', 'b ru ta lly_', 'bl ind_', 'u tter_', 're co very_', 'be wa i led_', 'lo t_', 'bi tter_', 'mon key_', 'fox_', 's qu ir re l_', 'a pe_', 'dis li ked_', 'bu ck ling_', 'moun ting_', 'gir ded_', 'vi ll a in_', 'g l an ced_', 'u su a lly_', 'inst in c ti vely_', 'g lea m ing_', 'bl in ded_', 'ad d_', 'k ind ness_', 'hea ped_', 'vo l k s mar chen_', 'see k er_', 'for e st s_', 'par ty_', 'be fa ll en_', 'pre sen tly_', 'sil ver ha ir ed_', 'mar t in_', 'com ra des_', 'a st on i sh ing_', 'a u tu m n_', 'h om e ward_', 'wh ine_', 'cre ep_', 'ta il_', 'mo on light_', 'sha g g y_', 'gar land_', 'gir d le_', 'o a k lea ves_', 'u pro o ted_', 'fir tree_', 'a sp en_', 'lea f_', 'qu a ked_', 'be ck on ed_', 'st ir_', 'ho ar se_', 'gra ting_', 'fa in th ear ted_', 'p lu cked_', 'sp ec t re_', 'gr in ned_', 'mo ck ing ly_', 'sim p le t on_', 'sc or n_', 're ma in_', 'ra ga mu f f in_', 'be think_', 'ro gu e_', 'p ou ch_', 'app ar i tion_', 'ur ge_', 'ru e_', 'v a st_', 'sa fe ty_', 'pro per ty_', 'th er e upon_', 'sa w mi ll_', 'b ow sho t_', 'ho llow_', 'gra ve_', 'so li d_', 's la b_', 'for ce_', 'op en ing_', 'cra w l_', 'b ru i ses_', 'sta ir way_', 'spa ci ous_', 'lo cks_', 'bo l ts_', 'di st ur b_', 'l or ds_', 'lea ds_', 'a dd ers_', 'ser p en ts_', 'lo d ge_', 'fa st clo sed_', 'we ll k n own_', 's prin g roo t_', 'for get_', 'na u ght_', 'c row b ar_', 'mor ta l_', 't oo ls_', 'pro c ur e_', 'w ood se ll er_', 'hun t ers_', 'bur st s_', 'cra ck ings_', 'g ro an ings_', 'fla sh_', 'g li tter_', 'pi ll ar s_', 'su f fi ci ent_', 'li fe time_', 'wo e_', 'be ti de_', 'ven ture_', 'pa in s_', 'gre ed in ess_', 'b rea king_', 'con c ea led_', 'pri cked_', 'bar k_', 'car ter_', 'whi p_', 'sh re w dly_', 'fa ble_', 'na y_', 'gra y b ear d_', 'lied_', 'rea s ons_', 'ri s k_', 's n are_', 'b la iz e_', 'a ged_', 'ti s_', 'la c king_', 'jo ke_', 'ea si est_', 'w ood pe ck er_', 'spr ing_', 'bu il ds_', 'b roo d_', 'b lo ck_', 'so d_', 'l ur k_', 'a m bu sh_', 're tur n s_', 'ne st l ings_', 'per ce i ves_', 'u tt er ing_', 'c ri es_', 'di stre ss_', 'dar t_', 's un se tting_', 's car let_', 'y ards_', 'clo th_', 't ou ches_', 'b lo cks_', 'vi o len tly_', 'd ro p_', 'stre w_', 'sp i k en ard_', 'b lo s som s_', 'c lu m s y_', 'me th o d_', 'ways_', 'un he e ded_', 'peter_', 'b lo ch_', 'pro sp er ous_', 'in n ke ep er_', 'ma st er c ook_', 'st ea di ly_', 'for mer ly_', 'ar t_', 'c oo king_', 'e qu al_', 'fi sh je lly_', 'qu in ce_', 'fri tt ers_', 'wa f er ca k es_', 'gi ld ed_', 'il se_', 'fo l ks_', 'i ll word_', 's ki ll_', 'hou se wife_', 'ta sted_', 'st u mb led_', 'drag ging_', 'wh er e upon_', 's oun dly_', 'com for t_', 'i ll ma tched_', 'b le ssed_', 'sa v age_', 'qu ar re l some_', 'b light_', 'ki ds_', 'w in ter_', 'chi ld less_', 'be mo an_', 'ligh t ning_', 'ch er r y b lo s som s_', 'hea l th y_', 'spo il ing_', 'bor r owed_', 's co ld ing_', 'mo t to_', 'wi ts_', 'i ll lu ck_', 'p ur su e_', 'sa cks_', 'g ru d ged_', 'p or tion_', 'bu ried_', 'sa ke_', 'ar m cha ir_', 'jo y ful_', 'po s se ssed_', 'st ra w_', 'com for ted_', 'lea st_', 't read_', 's ong_', 'hou se h old_', 'dre ss ing_', 't op er_', 'hou se ke eping_', 'dr un k ard_', 'ca l m ly_', 'ne w ly_', 'la m en ta ti ons_', 'w re tch_', 'po s se ssi ons_', 'pa tched_', 'p en n y_', 'lu ci a_', 's ly_', 'ac qu a in t ance_', 'sp y_', 'w oo ds_', 'pr an ks_', 'v a le_', 'sto ck_', 's qu ir re ls_', 'sp i ed_', 'm ea d ow l an ds_', 'w ood pi ge ons_', 'ha l f dead_', 'al der_', 'for tun a te_', 'o b tain_', 'ha m mer ling_', 'st ru g g les_', 're qu est_', 're sp ec ta ble_', 'bor row_', 'of fi ce_', 'l ent_', 'ne ce ss ar y_', 'se c ur e_', 'for e told_', 'ad ro it ly_', 'ter ri fi ed_', 'ac tu a lly_', 'ma st er key_', 'un lo ck_', 'po s se ss or_', 'un hear d of_', 'sa ck_', 'bo x_', 'se tting_', 'gu ard_', 'po in t_', 'de par ture_', 't est_', 'mu ch v a un ted_', 'da me_', 'c up bo ard_', 'con t ro l_', 'con t en ts_', 'ho ard_', 'o pp or tun ity_', 'ke y ho le_', 'a st on i sh m ent_', 'c rea king_', 'a ma z em ent_', 'fi lling_', 'st ir red_', 'b la ck s mi th_', 'gar re t_', 'id ling_', 'ta ver n_', 'star t led_', 'supp o se_', 'g ood for nothing_', 'un t ou ched_', 'ser i ous_', 't or m ent_', 're mor se_', 'g loo mi est_', 'for e bo d ings_', 'mi s chi e f_', 'f an ci es_', 'bea m_', 'po les_', 'con so led_', 'fu ture_', 'a ss_', 'bar ga in ing_', 'fe el ings_', 'per ce i ved_', 'sh el f_', 'b are_', 'fri gh t ful_', 'ra v ings_', 'al ar m_', 'f eared_', 'cu st om er_', 'du ke_', 'un fo ld ed_', 'm y st er y_', 'ne ed le work_', 'com mi ssi on_', 'op ini on_', 'o b j ec tion_', 'b lu sh ing_', 'ca st ing_', 'f on dly_', 'fri ed l in_', 'gri e ve_', 'u tt er ly_', 'un c le_', 'su it or_', 'b lu e_', 's mi le_', 'li ps_', 'g l ance_', 'ac qu a in ted_', 'ha sty_', 's m oo th ed_', 'co ver ing_', 'a pr on_', 'di f fi cu l ti es_', 'sp e e di ly_', 'se tt led_', 'lo ver s_', 'h ur r y bur ly_', 'a pa ce_', 'hea vi ly_', 'bo x es_', 'ba les_', 'bri da l_', 'w rea th_', 'we dd ing gar land_', 'ch ur ch_', 'ni bb ling_', 'sc old_', 'e ve_', 'pu sh ing_', 'wh e el bar row_', 'to ll_', 'bar re l_', 'na il s_', 'con ta ined_', 'd we lling_', 're jo i c ing_', 'emb ra ce_', 'm end_', 'go d_', 'b less_', 'jo b_', 'ear ned_', 'con tri bu tion_', 'f ur ni sh ing_', 'rou sed_', 'sh ri ll_', 'rep roa ches_', 'b y st and ers_', 'fa ir ly_', 'dea f ened_', 'promi s ing_', 'af ter w ards_', 'fi sh p on d_', 'v in es_', 'g en er o si ty_', 's on in_', 'su sp ec ted_', 'pro sp er ity_', 'su c ce ss fully_', 'bur row ing_', 'mo le_', 'sta g g ered_', 'se ven t y se ven_', 'g no me_', 'promi ses_', 'sp ar k led_', 'al ar m ing_', 'ir on bar red_', 'lo a d_', 'inst ru c ti ons_', 'for ced_', 'qu an ti ty_', 'la y er_', 'ho i sted_', 'di f fi cu l ty_', 'd ow n ca st_', 'ch e er fully_', 'ne ver the less_', 'su p_', 'po ver ty_', 'cau s ing_', 'a i led_', 'sor row_', 'qu ar ter_', 'en c ou ra ged_', 'c ro ss b ow man_', 'no ble_', 'count_', 'p or tra it_', 'ab so lu te ly_', 'se v ere_', 'c har med_', 'for ge tting_', 'dis gu i se_', 're co ver ed_', 'ta b le clo th_', 'rep or ted_', 'ne ed le woman_', 'o il_', 'per su a ded_', 'di sp lea s ing_', 'de ce it_', 'dis gu is ing_', 'p en ni less_', 'g na w ing_', 'ma st er less_', 'a tt en ti vely_', 'de ep ly_', 'g ood for na u ght_', 'for sa ken_', 'com pla in s_', 's co l ds_', 'ta k es_', 'some what_', 'a mu sed_', 'en able_', 'se par a ted_', 'com ra de_', 'in di g n an tly_', 'j est_', 'mo ck_', 'ho th ead_', 'e qui pped_', 'ga ll ant_', 'd ow ry_', 'p len i sh ings_', 'pro f its_', 'ab roa d_', 'be lo ved_', 'de sc ri be_', 'w ea l th y_', 'co tt a ger_', 'tu mb le down_', 'pi g_', 'mi s er_', 'star ved_', 'be long_', 'i ll go tt en_', 's que e z ed_', 'pa p er_', 'rem em br ance_', 'g ood hear ted_', 'w r on g fully_', 'po or est_', 'hel p ing_', 'ju tt ed_', 'shi ll ings_', 've ge ta b les_', 'mi lk_', 'a dding_', 'co st ing_', 'gre y_', 'un like_', 's n u g ly_', 'man te l_', 'pa w_', 'dea l_', 'ad vi sed_', 'a u di en ce_', 's na tched_', 'pla te_', 'b ite_', 'f ared_', 'ra ts_', 'be ds_', 'sha k es_', 'n u mb er_', 'sc u f fl ing_', 'f re e ing_', 'pri me_', 'm ini ster_', 'is l an di sc he_', 'mar chen_', 'im mor ta li ty_', 'cle ver er_', 'ch oo s ing_', 'tu t or s_', 'ru le_', 'cha ra c ter_', 'ligh th ear ted_', 'pro du ced_', 'al ter a tion_', 'ex pl an a tion_', 'pi c tu res_', 'p or tra its_', 'r ank_', 'em ba ss y_', 'ha un ts_', 'dis may_', 'for ward_', 're sig n_', 'tra ve lling_', 'fa th er land_', 't op most_', 'sha king_', 'a st on i shed_', 'b ou gh s_', 'fi er ce ly_', 'k ind red_', 'to day_', 'gra te fully_', 're jo i c es_', 'e ter n ity_', 't em p ting_', 'per su a de_', 'sor row fully_', 're so lu tion_', 'fir m ly_', 'ca b in et_', 'pi c ture_', 'me mor y_', 'bor n e_', 'whi r l w ind_', 'tun i c_', 'bu si ly_', 'spa de fu ls_', 'ba ld hea ded_', 'surpri ses_', 'le ve l_', 'di g ger_', 'sta te ly_', 'a dd ed_', 'wand er_', 'le ve lled_', 'ei ght_', 'on e self_', 'than king_', 'sh u tting_', 'stre et_', 'tw ent y se ven_', 'l an gu a g es_', 'ru l er_', 'coun t r y man_', 'o c cu pi ed_', 'bu i ld ing_', 'v ei l_', 'com pla in ts_', 'dea ling_', 'ju sti ce_', 'ord in ar y_', 'dis mi ss_', 'pe ti ti on ers_', 'journe ying_', 'ne ed les_', 's ing le_', 'ne ed le_', 'se w ing_', 'ro d_', 'bro a d_', 'up w ards_', 'mi st v ei led_', 'wi sh ing_', 'f ear ing_', 'pro ve_', 'won d rou s_', 'sh ea th_', 's prin ging_', 'than k fully_', 'd well_', 'im mor ta ls_', 'ru sh_', 'du st_', 're ma in ing_', 'un der st and ing_', 'pre ven ted_', 'un lo cked_', 'fla s ks_', 'tra p door_', 'fla s k_', 's prin k le_', 'po in ting_', 's prin gs_', 're i g ned_', 'em bro id er y_', 'sp ell_', 's prin k led_', 'rai s ing_', 'spa de_', 'y a w ned_', 'ou t sp read_', 'fea thers_', 'a wa k ened_', 'rea ching_', 'ga ll er i es_', 'sul p hu r_', 'dar ting_', 'whi te b ear ded_', 'pre y_', 'be lon gs_', 'ra te_', 'de ci de_', 'wa ger_', 'n ar row_', 'l ine_', 'sur r oun ds_', 'pro po sed_', 'mom en ts_', 'pri z e_', 'wa s p_', 'n ear ing_', 'vo l k s m ur chen_', 'st on ec u tter_', 's la b s_', 'gra ve st ones_', 'k in ds_', 'p ur po ses_', 'wor k man_', 'cu st om ers_', 'un be li e ving_', 'gra ve stone_', 'har der_', 'hea vi er_', 'c ur tain s_', 'ta s se ls_', 'f an c y_', 'w ood en_', 'f ur n it ur e_', 're sp ec t_', 'en vi ed_', 'su m m er_', 'b la z ed_', 'b rea the_', 'bl in ds_', 'u mb re ll a_', 'co ve ted_', 'p our ed_', 'sc or ched_', 'br ow ner_', 'mi gh ti er_', 'bea ms_', 'fa c es_', 'po or er_', 'dis con t ent_', 'cl ou d_', 'ca p ti ve_', 'b lo s som ed_', 'ra in_', 'c ro ps_', 'ri ce_', 'vi ll a g es_', 'un mo ved_', 'g l or i ed_', 'w ra th_', 'sw eat_', 'b row_', 'to i led_', 'st on ec u tting_', 'sc an ty_', 'some body_', 'j a p ani sc he_', 'gold b ear ded_', 'dra w s_', 'w el f are_', 'spa de ful_', 'step son_', 'gr oun ds_', 'wa ter b roo k_', 'mi l k b roo k_', 'flo cked_', 'for b id_', 'wa t ch men_', 'pu re ly_', 'mor n ings_', 'bri m_', 's mo ke_', 'ear li est_', 'strea ks_', 'ma tt ered_', 'ca ge_', 'sta tion_', 'st oo p ing_', 'sol di er_', 'ba c on_', 'd ru g ged_', 'wa t ch ers_', 're d ou b led_', 'f er o ci ous_', 'stran g ers_', 'vi si ting_', 'dr un ken_', 't or m ent or s_', 'ca p ti v ity_', 'ter ri ble_', 'step father_', 'ga mes_', 'sh oo ting_', 'mar k_', 'bar s_', 'ear ne st ly_', 't en der hear ted_', 'pi ti ed_', 'sor row s_', 'f old_', 'k in der_', 'v a ll e ys_', 'w ood pi ge on_', 'un str ung_', 'sh or es_', 'stor k_', 'rai sed_', 'di sc har ged_', 'co a ch men_', 'drea d fully_', 'du ty_', 'st e ward_', 'stor e hou ses_', 'se par a te_', 'gra in s_', 'wor th_', 'un for tun a te_', 'bo a st_', 'sca tter_', 'ta s k_', 's oo th ing ly_', 'de b t_', 'd en se_', 'sor ted_', 'ind u st ry_', 'en vi ous_', 'ha tch_', 'bo a st ing_', 'p in_', 'ke ep er_', 'h ur ried_', 'un li ke ly_', 'pe er ing_', 've x_', 'du cks_', 'pro mo ted_', 'na tu res_', 'fa l se h ood_', 'pro p h et_', 'sp e lls_', 'cla im ed_', 'sta m mer ing_', 'mi ra c le_', 'ac comp li shed_', 'hop e less_', 'for bi dd en_', 'ta pp ing_', 'pro p he si ed_', 'mu si ca l_', 'stor ks_', 's wa dd ling_', 'lu te_', 'gra du a lly_', 'ri s ing_', 'pro du ce_', 'wi z ard_', 'ac cu st om ed_', 'cer em on y_', 'per for med_', 'ta s ks_', 'fa th er in la w_', 'i g n or ant_', 'th rea t ened_', 'u t most_', 'cha sed_', 'whi ps_', 'b ord ers_', 'tri till_', 'li till_', 'pro cla ma tion_', 'su c ce ss ful_', 'o b li ged_', 'me ant_', 'b oo ts_', 'hi ll side_', 'pu lling_', 'wa ll et_', 'mou th fu ls_', 'beg g ar_', 'li m ped_', 'spa ce_', 'c ru mb s_', 'o gre ss_', 'sw e ep_', 'd ir t_', 'sul ki ly_', 'p un i sh m ent_', 'dea l t_', 'cra cked_', 'sk u ll_', 'beg gar s_', 'dea f_', 'ri d_', 'g en er ous_', 'pro vi de_', 'trea ting_', 'c ru mb led_', 'c ru mb _', 'ga y est_', 'p lu ma ge_', 'shi ver_', 'a wa it_', 'st ri d ing_', 'con c lu ded_', 'th i ck er_', 'pu ll_', 'fla shed_', 'sho ve l_', 'pi ll ows_', 'fea ther_', 'qu an ti ti es_', 'mi ssed_', 'w ei ght_', 'qui ver ed_', 'pi ll ow ca ses_', 's lay_', 'c up s_', 'fi f ty_', 'herd_', 'o x_', 'bi g g est_', 'bu ll o ck_', 'o ar s_', 'luck i est_', 'hel m_', 'st e ered_', 'fa in ted_', 'na mes_', 'sigurd_', 'l in ei k_', 'fa med_', 'a par t_', 'car ri a g es_', 'gr an de u r_', 'cour ts_', 'ho l ds_', 'com pla in ing_', 'w r on gs_', 'en tru st_', 'la dy_', 're mo te_', 'su i ta ble_', 'fo g_', 'd ri f ted_', 'c li f f_', 'ju tting_', 'sh el t ered_', 'ba y_', 'an ch or ed_', 'de ser ted_', 'har p_', 'fri en d l in ess_', 'ou t of the_', 'vi k ings_', 'sea ro bb ers_', 'sle w_', 'p in ch_', 'b la u v or_', 'la u f er_', 'com m only_', 'un wor th y_', 'po si tion_', 'ga ined_', 'pre v a i led_', 'con du c ted_', 'dre s ses_', 'con sul ting_', 'coun ci ls_', 'd ou b ts_', 'step mother_', 'm emb ers_', 'di sa pp ear ing_', 'v ac ant_', 'un com for ta ble_', 'pro gre ss_', 'ch ea ting_', 'du e_', 'un der take_', 'ord er ing_', 'ch ec ked_', 'ea st w ards_', 'en e mi es_', 's m oo th ly_', 'th under_', 'ro cks_', 'd ri pp ing_', 'o be ying_', 'ex pre ssi on_', 'u g li er_', 'u g li est_', 'gre e ce_', 'al though_', 'gre e ks_', 'bo y h ood_', 'na tion_', 'di f fi cu l t_', 'di sp er sed_', 'rep or ts_', 'hi th er to_', 'ba ck ground_', 'l ow ered_', 'ar ches_', 'ligh ts_', 'a tt en d ants_', 'si lk_', 'w ea ve_', 'w ea ving_', 'sha ken_', 'so b s_', 'b ani shed_', 'un for gi ving_', 'hi d ing place_', 'wo ven_', 'st u f f_', 'ri ch er_', 'mi x ing_', 'th read_', 'ad m ir ing ly_', 'ou t sh ine_', 'f ini sh_', 'un k ind_', 're li e f_', 'mo on_', 'pa tt er n_', 'st it ches_', 'fl ow er_', 'fo l ds_', 'de ser ved_', 'sha me ful_', 'fa u l t_', 'for give_', 'o gre s_', 'o gre s ses_', 'ca p tur ed_', 'be hea ded_', 'no b le man_', 'c ou p les_', 'mu h r chen_', 'po e sti on_', 'wi en_', 'mar ten_', 'p ou l try_', 'f ow ls_', 'tra ps_', 'ca p tur ing_', 'fo e_', 'sle d ge_', 'b oo ty_', 'go d father_', 'h en house_', 'tra p_', 'har de st_', 'su pped_', 'wor st_', 'hun gri est_', 'sma ll er_', 'rememb er ing_', 'mi cha e l_', 're mar ked_', 'sta le_', 'app e ti te_', 'im p or t ant_', 'd ine_', 'pre f er red_', 'fri en d ship_', 'r oun ds_', 's now sho es_', 'sc re e ched_', 'co c king_', 'i ll na tur ed_', 'a g ree_', 'ex tra ord in ar y_', 'sa c ri fi ce_', 'p ang_', 'ho pp ing_', 'an gu i sh_', 'con so le_', 'd ro op ing_', 'ru f f led_', 'ga y_', 'j a un ty_', 'qui ver ing_', 'p ur po se_', 'fri gh ten_', 'a x e_', 'sa c ri fi ced_', 'o ver come_', 'su it ed_', 'c ow er ing_', 'ti m id_', 'er ec t_', 't ea ching_', 'con t inu e_', 'sti ll er_', 'sti f f er_', 'ho pped_', 'pe ck_', 's na p_', 'st ru g g ling_', 'st y le_', 'pre ci pi ce_', 'stre w n_', 'for given_', 'de pri ving_', 'in t en d ing_', 'j a w s_', 's l un k_', 'supp er less_', 'un plea s ant_', 'chan ced_', 'm our ner_', 'how l_', 'sp e ci men_', 'how ling_', 'la m ent_', 'hu _', 'hu m_', 'h oh_', 're st ing_', 'ser vi c es_', 'ta len ts_', 'pu _', 'pu m_', 'po h_', 'pi ped_', 'al t ered_', 'l ou _', 'sp in ner_', 'bak er_', 'ca k es_', 'la m en ta tion_', 'wa il_', 'da m p_', 'stor e house_', 'f in er_', 'pa p_', 'wa il ing_', 'so les_', 'tra it or_', 's li pp ing_', 'ti p_', 'ta il s_', 'fo x es_', 'p ir o_', 'p ear_', 'id led_', 'con t en ting_', 'p ears_', 'a tt ra c ted_', 'ba s ke t ful_', 'ri pe st_', 'beg s_', 'sea son_', 'mi d w in ter_', 'w ants_', 'hu m ble_', 're sp ec ts_', 's now_', 'af fe c ts_', 'rep roa ch fully_', 'ta il or_', 'sho p_', 'gr an de st_', 'f its_', 'ser ve_', 'coun ts_', 'co a ts_', 'ti e_', 'par ce l_', 'str ing_', 'hor se dea l er_', 'sp ea ks_', 'man a g em ent_', 'af for d_', 'p lu c king_', 'pro po sa l_', 'plea ses_', 'm y st er i ous_', 'pa st u res_', 's n u f fl ing_', 're in ing_', 'fa tter_', 'f ar ms_', 'm ea d ow_', 'sc ra mb led_', 'b an ged_', 'dis moun t_', 'ex ce ll en c y_', 'app ro v al_', 'l it_', 'bu ry_', 'h on our s_', 'li king_', 'do or st ep_', 'wa i led_', 'n on sen se_', 'than k less_', 's of ten_', 's of t ened_', 'si ci li ani sc he_', 'her d sman_', 'c ow_', 'ga in_', 'sen se_', 'id len ess_', 'ou t sk ir ts_', 'ra v ine_', 'row_', 'cor d_', 'sw ing ing_', 'bu n d le_', 's wa m p_', 'ar r an ged_', 'po in ts_', 'th i ther_', 'gra z e_', 'be fa lls_', 're fu s ing_', 'ga ther_', 'an y way_', 'ra m_', 'pa tch_', 'ti ps_', 'vi si ble_', 'p an ting_', 'st er n ly_', 'so b_', 'sta m m ered_', 'trou b le some_', 'fa ti gu e_', 'r ing ing_', 'du s k_', 'b la me_', 'gold ti pped_', 'h oo f s_', 're ck ons_', 'sca m p er_', 'wi l de st_', 'for th with_', 'l owing_', 'ch er i shed_', 'he d g es_', 'd it ches_', 'ro ck y_', 'b ordered_', 'c ir c le_', 'un able_', 'g g gone_', 's coun dre l_', 'be ll owing_', 'hor ned_', 'spr ung_', 'rep roa ch_', 'h en ce for ward_', 'm own_', 'tra ined_', 'jo in er_', 'sh owing_', 'han gs_', 'st ab _', 'ma tch_', 'ei sen k op f_', 'st ra pp ing_', 'st out_', 'hi red_', 'h om e si ck_', 's li ce_', 'sh ell_', 'whi stle_', 'c row d ing_', 'ha l ves_', 'mu l ti tu des_', 'mar k et_', 's old_', 'or c hard_', 'her ds_', 'thin ks_', 'br ow n sk in ned_', 'mer ri est_', 'f an ci ed_', 're ined_', 'wor l ds_', 'war med_', 'na p k in_', 'ca ke_', 'wi der_', 's li pp er y_', 'na p k in s_', 'ei gh th_', 'ir on strong_', 'quick ear_', 'ba yed_', 'p at_', 'promi se b rea k er_', 'gra y ha ir ed_', 'com b ing_', 's owed_', 'pl ou gh ed_', 'st ri king_', 'fa in ting_', 'for m_', 're vi ved_', 'c ru shed_', 'cla mb er_', 's la p_', 'si lly_', 'cu f f_', 'drea d ing_', 'b oun d ing_', 'di amon ds_', 'gold en ha ir ed_', 'fa ded_', 'abu_', 'nowas_', 'vi z ir_', 'sult an a_', 'cla pped_', 'je ster_', 'a pi e ce_', 'bl an k et_', 'co ver_', 'ad mi tt ed_', 'bu ri al_', 'pe pp er_', 's mar ted_', 'sh rou d_', 'w ra p_', 'a ba shed_', 'sa ck clo th_', 'w ra pp ing_', 'su b id a_', 'pri v a te_', 'p ur se_', 'con tain ing_', 'f un er al_', 'ki ss ing_', 'pl an ning_', 'en jo ying_', 'our se l ves_', 'for e seen_', 'do or ke ep er_', 'la t ti ced_', 'sti f f ly_', 'l in en_', 'she et_', 'cor p se_', 'mo ti on less_', 're pla ced_', 'cor p ses_', 'im pu d ent_', 'bur st ing_', 'tri cks_', 'tun i sc he_', 'mo ti ra ti k a_', 'de li ci ous_', 'h on ey_', 'p an_', 'dis gu st_', 'be es_', 're j ec ted_', 'b ow l ful_', 'ants_', 'sw e e t ened_', 'su g ar_', 'p an ni k in_', 'po t_', 'li f ting_', 'fro gs_', 'wi ll ows_', 'ta st es_', 'wa ter li li es_', 'ju g_', 'la k es_', 'bo b bed_', 's have_', 'bea ds_', 'mo ti k a ti k a_', 'pl an ned_', 'ou t wi t_', 'sha ved_', 'b one_', 'ba bi es_', 'ne cks_', 'ca lls_', 'be wi ld er m ent_', 'na med_', 'b ow l_', 'g ru mb led_', 'be an s_', 'co ver let_', 'con sul ted_', 'bar on g a_', 'h_', 'ju no d_', 'niels_', 'gi ants_', 'mo or s_', 'ju t land_', 'so il_', 's and y_', 'el der_', 'ra s mu s_', 'hun ter_', 'gu n_', 'mu z z le lo ad ing_', 'fl in t lo ck_', 'p ra c ti ce_', 'ca th o li c s_', 'ro me_', 'p op e_', 'un wi lling_', 'si ded_', 'sig n po st_', 'roa ds_', 'mo ving_', 'ru st ling_', 'o c ca si on a lly_', 'co ld er_', 'bro th_', 'be e f_', 'spo ons_', 'for ks_', 'ha y for ks_', 'bu ck e t fu ls_', 'jo in ts_', 'm eat_', 'en or m ous_', 's car ed_', 'f in a lly_', 'b ang_', 'bu ll et_', 'for k_', 'gr ow led_', 'hi tting_', 'pri ck_', 'ac ted_', 'pea ce ma k er_', 'ti t b it_', 'do z en_', 'in ter po sed_', 'foo ls_', 'ge st u res_', 's na pped_', 'o b serv a ti ons_', 'ca p t or_', 'bar king_', 'beg in s_', 'h in der_', 'hand some ly_', 'ra m par t_', 'fea th er bed_', 'un h ur t_', 'du m p_', 'k en ne l_', 'cour t y ard_', 'ou ter_', 'bri ll i an tly_', 'ligh ted_', 'dr in k in gh or n_', 'en gra ved_', 'ri m_', 'in sc ri p tion_', 'dr in ks_', 'wi e ld_', 'sto pp er_', 'a par t m ent_', 'gold h em med_', 'go l de m bro id ered_', 's li pp ers_', 'u s ing_', 'w in ning_', 'she ep f ar m er_', 'la tter_', 'po st ur e_', 'st rai gh ten_', 'of t_', 're ce p tion_', 's l ow er_', 'mo v em en ts_', 'app ears_', 's ear ching_', 'ar ou sed_', 'cl ear er_', 'cla i m_', 'hi gh way_', 'me an time_', 'tra m ped_', 'r an ge_', 'tow er ing_', 'fro z en_', 'so le_', 'sho e_', 'sho es_', 'di sc ou ra ged_', 'f ini sh ing_', 'd en mar k_', 'hi story_', 'mo or_', 'n or th_', 's ou th_', 'ne w com ers_', 'care less_', 'al ar med_', 'de vi ce_', 's li pp er_', 'f are_', 'be d room_', 'su b m it_', 'en gra ver_', 'ar ri v al_', 'ear l_', 'hi stor i an s_', 'paul_', 'o a ks_', 'we e ds_', 'com b_', 'com b er_', 'w re stle_', 'gr ind ing_', 'c ru sh er_', 'sp or t_', 'k n ea d ing_', 'd ough_', 'k n ea der_', 'bo il_', 'roa st_', 'd war f_', 'sa u ce p an_', 'bo il ing_', 'com pla ined_', 'sim mer ing_', 'st e w_', 's na t ching_', 'co ll ar_', 'tra ck_', 'un der ground_', 'ent rea ti es_', 'b ou ld ers_', 'sma shed_', 'ro ar_', 'se iz ing_', 'drag ons_', 'fi er c er_', 'con f ined_', 'shi r t_', 'st ru g g le_', 'pre t ti er_', 'qui tt ed_', 're gi ons_', 'c up ful_', 'ca s k_', 'rea r ing_', 'p rep ar ing_', 'up ward_', 'd an g ling_', 'ing ra ti tu de_', 'fu l fi lling_', 'gri f f in_', 'o ver head_', 'gri f f in s_', 'p our_', 'fa i th less_', 'wi ck ed ness_', 'ca st les_', 't an u ki_', 'hun ted_', 'c oo ing_', 'do ves_', 'th i ck est_', 'gre y f ur red_', 'lon g ta i led_', 's ki lled_', 'tw ang_', 'sp ear_', 't em p ted_', 'pr u d en ce_', 'star v a tion_', 'bu y er_', 't an u k is_', 'sk in s_', 'sa ti s fa c tion_', 't an a ki_', 'bu y ers_', 'ch in k_', 'be tra yed_', 'a ven ge_', 'chi ll_', 't r an s for m_', 't r an s for m ing_', 'rea li ty_', 'con ce i ving_', 'a tt ac ked_', 't an o ki_', 'a ven ged_', 'pro ba b ly_', 'cra b_', 'n eat_', 'h ers_', 'pi l gri m_', 'k er ne l_', 'k a ki_', 'sha d ow_', 'tre ec li mb er_', 'a po lo gi se_', 'k a k is_', 'ro tt en_', 'sho c king_', 'c li mb er_', 'som er sa u l ts_', 'a ched_', 'ri ce mor t ar_', 'e g g_', 'se ver e ly_', 'be ha ved_', 'wa ter bu ck et_', 'h y po c ri ti ca l_', 'pe ered_', 'sc ra tched_', 's mar ting_', 'gu ll fa x i_', 'g un n fo der_', 'mon u m ent_', 'in gi bor g_', 'in for med_', 'la te ly_', 'su g ge sted_', 're ga ined_', 'sp i ri ts_', 'ear th qu a ke_', 'gi an te ss_', 'wa d ing_', 'an k le_', 'pl ou gh ing_', 'be er_', 'ni ce st_', 'o b st in a te_', 'p an e lling_', 'k ne e_', 's qu ab b led_', 'with ered_', 'f in ds_', 'st al ked_', 'o b st in ac y_', 'b all_', 'r ings_', 'rea ches_', 'c li f f s_', 'bo a th ook_', 'gre et_', 'con qu er_', 'g l an c ing_', 'h ook_', 'ha u led_', 'cha ll en ged_', 'o ver thre w_', 'ha u ling_', 'dr un k_', 'hi de ous_', 'w re st ling_', 'fi er ce_', 'hel g a_', 'g love_', 't r an s for med_', 'w oo l_', 'tu cked_', 's me lls_', 's m elt_', 're su med_', 'bu n ch_', 'op en s_', 'or na m en ted_', 'ri des_', 'w ears_', 'ar gu ed_', 'd ou b t fully_', 'ru by_', 'g un n f jo der_', 'p lu me_', 'd ri ed up_', 'ba ther_', 'ha il st ones_', 'e g gs_', 'dis moun ting_', 'st ri des_', 'a g on y_', 'ha il stor m_', 'ha il_', 'p our ing_', 'ar ri ving_', 'm en servants_', 't ying_', 'in t en ded_', 're lea sed_', 'sha m_', 'a mb i ti ous_', 'labakan_', 'a le x and ri a_', 'st it ch_', 're d ho t_', 'que er_', 'fe ll ow wor k men_', 'ar i sto cra ti c_', 'fri days_', 'mo s qu e_', 'g ood day_', 'no d_', 'con de sc en d ing_', 'ab sur di ti es_', 'wor k sho p_', 'ad m ir ing_', 'ma ter i al_', 'pa ced_', 'sa v ings_', 'ex c it ed_', 'cu ri o si ty_', 'maje sti c_', 'ri di cu l ous_', 'a mb ling_', 'm ur v a_', 'hor se man_', 'o ver took_', 'beg u i le_', 'ne w com er_', 'om ar_', 'ne p he w_', 'el f i_', 'be y_', 'con fi d en c es_', 'h in ted_', 'b ir th_', 'pa cha _', 'ca ir o_', 'chi ld h ood_', 'dea th bed_', 'a st ro lo g ers_', 'v ow_', 'tw ent y se con d_', 'ex pre ss ly_', 'ea st_', 'tw ent y two_', 'da g ger_', 'pre ser ved_', 'in ter e sted_', 'com par is ons_', 'con fe ss_', 'f in el oo king_', 'ha un ted_', 'ar o se_', 'd en i ed_', 'pa s sp or t_', 'm ur der_', 'pla c ing_', 'be l t_', 'sa dd ling_', 'rea li se_', 'lo s ses_', 'con s ci en ce_', 'supp or ted_', 'nei gh b our h ood_', 'w an ting_', 'pro ce ssi on_', 'ca m els_', 't en ts_', 'p it ched_', 'sh re w d_', 'im pa ti en ce_', 're mor se ful_', 'b ligh ted_', 'v an ity_', 'pr ou de st_', 'mor e over_', 'su per b_', 'gir t_', 'ca sh m ere_', 'je we lled_', 'tur b an_', 'b en d ing_', 'e m_', 'b ra ce_', 'so le m n_', 'm ing led_', 'un cl ou ded_', 'dis gra ce ful_', 'im po st or_', 'a tt em pt_', 'ro b_', 'st and er s by_', 'ca l m ness_', 'ha l f cra z y_', 'a p pr en ti ce_', 'in fu ri a ted_', 'fo a m ing_', 'pre ss_', 'd ro me dar y_', 'no ti ons_', 'supp or t_', 'ca par is on ed_', 'loo k out_', 'sa ched_', 'wa cha b it es_', 's oo th sa y ers_', 'in j ur ed_', 'tru sty_', 'de pri ved_', 'di g ni fi ed_', 'wi ld fire_', 'de cor a ted_', 'in ha b it ants_', 'than k fu l ness_', 'ra p ture_', 'pu b li c_', 'gr and er_', 'en ti re_', 'in laid_', 'a me th y st s_', 'c an op y_', 'c ri m son_', 'sh ei k_', 'me din a_', 'f an ned_', 'pea co ck fea ther_', 'f an_', 'tru m pe ts_', 'd ru ms_', 'sh ou ts_', 'ch e ers_', 'an n oun ced_', 'l ow b en d ing_', 'in ter ru p ted_', 'ke ep ers_', 're co g ni ses_', 'ma d man_', 't ones_', 'un mi sta k able_', 'un su sp i ci ous_', 'de p end_', 'ju d g m ent_', 're ti red_', 'con v in ce_', 'be li e ves_', 'cra z y_', 'l ear n s_', 're qui res_', 'k af t an_', 'com pe te_', 'hu m our_', 'th rea ds_', 'h on our ed_', 'ma st er pi e ce_', 'be t_', 'l ance_', 'si x ty_', 'se w_', 'pu pi l_', 'v ex a tion_', 'a do l z a i de_', 'ra ce_', 'be took_', 'ce d ar_', 'an ce stor s_', 'de sp i se_', 'de sc en d ant_', 'v ei led_', 'er r and_', 'i v or y_', 'li d_', 'v a in ly_', 'g l or y_', 'sen d ing_', 'con tain s_', 'pro of s_', 'no bl er_', 'mo tt o es_', 'un cer tain_', 'v ani sh_', 'a ll a h_', 's ce p t re_', 'v el v et_', 'cu shi on_', 'co bb l er_', 'pa c has_', 'em ir s_', 're moun t_', 'b ru i sed_', 'ba tt ered_', 'li mb s_', 'mi s for tun es_', 'je we ll er_', 'n ea t est_', 'se w ed_', 'dar ling_', 'ex prince_', 'a pt_', 'co lon y_', 'com m un ity_', 're la ted_', 'o ver ru n_', 'pla gu es_', 'de sc en d ants_', 'be ings_', 'hou se work_', 'even ts_', 'sc or ned_', 'con se qu en tly_', 're du ced_', 'li z ina_', 'f on der_', 'bro om hand le_', 'war m ly_', 'mi s gi v ings_', 'f re qu en tly_', 'h ind ered_', 'con st ant_', 'su c ce ssi on_', 'in sp ec t_', 'cha ir_', 'pe el ed_', 'pr ow led_', 'po ts_', 'p an s_', 'sh el ves_', 're s oun ded_', 'p ur r ing_', 'ma id_', 'k ind hear ted_', 'ki tt en s_', 'tu mb led_', 'qu ar re ls_', 'n ur sed_', 'la p_', 'ta b by_', 'k ind ne s ses_', 'fa v ou ra ble_', 'im pre ssi on_', 'm ea ts_', 'bar n_', 'b la ck e yed_', 'ga t to_', 'o b servant_', 'p ine_', 'sen si ble_', 'in ner_', 'v a u l ted_', 'ear th en w are_', 'j ar s_', 'li qu id_', 'gr in_', 'mou sta ches_', 'la shes_', 'j ar_', 'ti mi dly_', 'ba th ed_', 'hea ven s_', 'na tur al_', 'sta tu e_', 'p ur red_', 'con t r ar y_', 'b ra ys_', 'c row ning_', 'g lo ss y_', 'b ra y_', 'f en ce_', 'd on key_', 'u tt ered_', 'ad mi ra tion_', 'clo thing_', 'ma dly_', 'pu ssi es_', 'pe pp ina_', 'sk ir t_', 'de ci de dly_', 'rea s on able_', 'lar g em in ded_', 't om ca ts_', 'mi s chi e v ous_', 'a ligh ted_', 'ro ll ing p in_', 's qu a lled_', 'a w are_', 'sur ly_', 'di sa gre ea ble_', 'cor n ers_', 'sp id ers_', 'we b s_', 'ce il ings_', 'w ind ow p an es_', 'fe e ble_', 'ca e s ar_', 'sw o ll en_', 'ki cked_', 'h ec t or_', 'ab s ce ss_', 'a gri pp ina_', 'a t ti c_', 'mo de st_', 'su f fo ca ted_', 'ven ge ful_', 'a sh hea p_', 'beg one_', 'b ra ying_', 'st u mb ling_', 'wa y side_', 'y e lling_', 'ba s in_', 'so a p_', 'a shes_', 'ad or ned_', 'un mer ci fully_', 'b room_', 'par l our_', 'in ha b it ed_', 'ad or ed_', 'me w_', 'gri ma l k in s_', 'pu f fe d up_', 'tra it re ss_', 'hi l t_', 'de m and ed_', 'ter ri fi c_', 'hea ded_', 'sh r ine_', 'st_', 'j a mes_', 'pi l gri ma ge_', 'ei gh te en th_', 'cra d le_', 'be set_', 'i mag ined_', 'e sta tes_', 'th ri ving_', 'cau ses_', 'g la dd ened_', 'un to_', 'u ne qu al_', 'sp ur red_', 'ter ms_', 'fa mi li ar ity_', 'com er_', 'pro ce ed_', 'so ci able_', 'du ll er_', 'si gh ed_', 'li vely_', 'en ter tain ing_', 'roa d side_', 'th ine_', 'di es_', 'ha l f star ved_', 'a bo de_', 'ba l con y_', 'wonder fully_', 'ex ce lled_', 'be d time_', 'po is on ed_', 'l ing er_', 'al t ar_', 'fea st s_', 'a wa its_', 'an x i e ty_', 'star ts_', 'sp ur s_', 'de par ted_', 'o ver take_', 't ent_', 'mi ser able_', 't en ded_', 'hea l_', 's m ear_', 'w oun ds_', 's wor n_', 's m eared_', 'li z i a_', 'g on z en ba ch_', 'mar i a_', 'wi d ow er_', 'ba si l_', 'ac comp ani ed_', 'an y how_', 'nei gh b our_', 'th ru st ing_', 'qu ar re lled_', 'tru ant_', 'pl ants_', 'di so be yed_', 'o ver looked_', 'me d lar s_', 'sc ra m ble_', 'g ood na tur ed_', 'le mon s_', 'f ar ther_', 'p lu ck_', 'gar d en er_', 'ex cla im ing_', 'le m on_', 'b an an as_', 'c ro ss questi on_', 'en ra ged_', 'de spa ir ed_', 'be d side_', 'pa g es_', 'cha lk_', 'm ea sure_', 'do ll_', 'a tt a ched_', 'g ent le man_', 'c ou ch_', 'sen hor a_', 're ck on_', 'ac coun ts_', 'fl ow er ba sk et_', 'mi s deed_', 'as sent_', 'who so_', 'mo cks_', 'mer its_', 'p or tu gu e se_', 'j a p an_', 'whi t en ess_', 'ma ts_', 'pa p ered_', 'o pp o si te_', 'ru mb ling_', 'ru sty_', 'cle an ed_', 'co st s_', 'sp out_', 'ki tt en_', 'ce il ing_', 'tra de sman_', 'j im mu _', 'di st ur b ance_', 'g la d ness_', 'ti di ed_', 'wonder wor king_', 'per for m_', 'cer em on i es_', 'b oo th_', 'in v it ing_', 'wi t ness_', 'c row ds_', 'pla t for m_', 'gra ce fully_', 'pau se_', 'owed_', 're sp ec ted_']\n"
          ]
        }
      ]
    },
    {
      "cell_type": "code",
      "source": [
        "def segment_BPE(tokens, symbols):\n",
        "    outputs = []\n",
        "    for token in tokens:\n",
        "        start, end = 0, len(token)\n",
        "        cur_output = []\n",
        "        # Segment token with the longest possible subwords from symbols\n",
        "        while start < len(token) and start < end:\n",
        "            if token[start: end] in symbols:\n",
        "                cur_output.append(token[start: end])\n",
        "                start = end\n",
        "                end = len(token)\n",
        "            else:\n",
        "                end -= 1\n",
        "        if start < len(token):\n",
        "            cur_output.append('[UNK]')\n",
        "        outputs.append(' '.join(cur_output))\n",
        "    return outputs\n"
      ],
      "metadata": {
        "id": "ZCUFnBRhJ7im"
      },
      "execution_count": null,
      "outputs": []
    },
    {
      "cell_type": "code",
      "source": [
        "vocabulary = segment_BPE(token_list, symbols)"
      ],
      "metadata": {
        "id": "ZvWJNJqiAy4T"
      },
      "execution_count": null,
      "outputs": []
    },
    {
      "cell_type": "code",
      "source": [
        "vocabulary[:100]"
      ],
      "metadata": {
        "colab": {
          "base_uri": "https://localhost:8080/"
        },
        "id": "oaZt9dzgB_M7",
        "outputId": "52d4450b-5508-45e3-8697-f793b6db46e4"
      },
      "execution_count": null,
      "outputs": [
        {
          "output_type": "execute_result",
          "data": {
            "text/plain": [
              "['lo vely_',\n",
              " 'il on k a_',\n",
              " 'there_',\n",
              " 'was_',\n",
              " 'once_',\n",
              " 'a_',\n",
              " 'king_',\n",
              " 's_',\n",
              " 'son_',\n",
              " 'who_',\n",
              " 'told_',\n",
              " 'his_',\n",
              " 'father_',\n",
              " 'that_',\n",
              " 'he_',\n",
              " 'wi shed_',\n",
              " 'to_',\n",
              " 'marry_',\n",
              " 'no_',\n",
              " 'no_',\n",
              " 'said_',\n",
              " 'the_',\n",
              " 'king_',\n",
              " 'you_',\n",
              " 'must_',\n",
              " 'not_',\n",
              " 'be_',\n",
              " 'in_',\n",
              " 'such_',\n",
              " 'a_',\n",
              " 'hu r ry_',\n",
              " 'wait _',\n",
              " 'till_',\n",
              " 'you_',\n",
              " 'have_',\n",
              " 'done_',\n",
              " 'some_',\n",
              " 'great_',\n",
              " 'deed_',\n",
              " 'my_',\n",
              " 'father_',\n",
              " 'did_',\n",
              " 'not_',\n",
              " 'let_',\n",
              " 'me_',\n",
              " 'marry_',\n",
              " 'till_',\n",
              " 'i_',\n",
              " 'had_',\n",
              " 'won _',\n",
              " 'the_',\n",
              " 'golden_',\n",
              " 'sword_',\n",
              " 'you_',\n",
              " 'see_',\n",
              " 'me_',\n",
              " 'we ar_',\n",
              " 'the_',\n",
              " 'prince_',\n",
              " 'was_',\n",
              " 'much_',\n",
              " 'dis app o in ted_',\n",
              " 'but_',\n",
              " 'he_',\n",
              " 'never_',\n",
              " 'drea med_',\n",
              " 'of_',\n",
              " 'dis o be ying_',\n",
              " 'his_',\n",
              " 'father_',\n",
              " 'and_',\n",
              " 'he_',\n",
              " 'began_',\n",
              " 'to_',\n",
              " 'think_',\n",
              " 'with_',\n",
              " 'all_',\n",
              " 'his_',\n",
              " 'might_',\n",
              " 'what_',\n",
              " 'he_',\n",
              " 'could_',\n",
              " 'do_',\n",
              " 'it_',\n",
              " 'was_',\n",
              " 'no_',\n",
              " 'use_',\n",
              " 'sta ying_',\n",
              " 'at_',\n",
              " 'home_',\n",
              " 'so_',\n",
              " 'one_',\n",
              " 'day_',\n",
              " 'he_',\n",
              " 'wand ered_',\n",
              " 'out_',\n",
              " 'into_',\n",
              " 'the_',\n",
              " 'world_',\n",
              " 'to_']"
            ]
          },
          "metadata": {},
          "execution_count": 36
        }
      ]
    },
    {
      "cell_type": "markdown",
      "source": [
        "This vocabulary will be used for model after using BPE algorithm"
      ],
      "metadata": {
        "id": "75ovkCqUwnZR"
      }
    },
    {
      "cell_type": "code",
      "source": [
        "sent_vocab = []\n",
        "for sent_token in word_token_list:\n",
        "  sent_vocab.append(segment_BPE(sent_token,symbols))\n"
      ],
      "metadata": {
        "id": "z0NDmaezaUof"
      },
      "execution_count": null,
      "outputs": []
    },
    {
      "cell_type": "code",
      "source": [
        "sent_vocab[0]"
      ],
      "metadata": {
        "colab": {
          "base_uri": "https://localhost:8080/"
        },
        "id": "N21Jy82qa4EI",
        "outputId": "34c0af72-10a2-4069-9a74-04fecf80d5b8"
      },
      "execution_count": null,
      "outputs": [
        {
          "output_type": "execute_result",
          "data": {
            "text/plain": [
              "['lo vely_',\n",
              " 'il on k a_',\n",
              " 'there_',\n",
              " 'was_',\n",
              " 'once_',\n",
              " 'a_',\n",
              " 'king_',\n",
              " 's_',\n",
              " 'son_',\n",
              " 'who_',\n",
              " 'told_',\n",
              " 'his_',\n",
              " 'father_',\n",
              " 'that_',\n",
              " 'he_',\n",
              " 'wi shed_',\n",
              " 'to_',\n",
              " 'marry_']"
            ]
          },
          "metadata": {},
          "execution_count": 38
        }
      ]
    },
    {
      "cell_type": "markdown",
      "source": [
        "sent_vocab is for negative sampling part. To get pairs"
      ],
      "metadata": {
        "id": "RK97kcV0wzCh"
      }
    },
    {
      "cell_type": "code",
      "source": [
        "len(vocabulary)"
      ],
      "metadata": {
        "colab": {
          "base_uri": "https://localhost:8080/"
        },
        "id": "Pro3pXR2Ct02",
        "outputId": "335ce7b4-7d97-432b-f55c-a55241e5291b"
      },
      "execution_count": null,
      "outputs": [
        {
          "output_type": "execute_result",
          "data": {
            "text/plain": [
              "97850"
            ]
          },
          "metadata": {},
          "execution_count": 39
        }
      ]
    },
    {
      "cell_type": "code",
      "source": [
        "occurances_array = np.array(list(token_freqs.values()))\n"
      ],
      "metadata": {
        "id": "EZBWzWlzE1Ge"
      },
      "execution_count": null,
      "outputs": []
    },
    {
      "cell_type": "code",
      "source": [
        "# Minimum value\n",
        "print(\"Min:\", np.min(occurances_array))\n",
        "\n",
        "# Maximum value\n",
        "print(\"Max:\", np.max(occurances_array))\n",
        "\n",
        "# Mean value\n",
        "print(\"Mean:\", np.mean(occurances_array))\n",
        "\n",
        "# Median value\n",
        "print(\"Median:\", np.median(occurances_array))\n",
        "\n",
        "# Standard deviation\n",
        "print(\"Std:\", np.std(occurances_array))\n"
      ],
      "metadata": {
        "colab": {
          "base_uri": "https://localhost:8080/"
        },
        "id": "D4ftQH8eGbOt",
        "outputId": "5d485b00-efe6-403c-8fe8-d08a4ddd4cbc"
      },
      "execution_count": null,
      "outputs": [
        {
          "output_type": "stream",
          "name": "stdout",
          "text": [
            "Min: 1\n",
            "Max: 6837\n",
            "Mean: 18.645198170731707\n",
            "Median: 2.0\n",
            "Std: 145.25662436026798\n"
          ]
        }
      ]
    },
    {
      "cell_type": "code",
      "source": [
        "plt.hist(occurances_array, bins=50)\n",
        "plt.title(\"Distribution of Values\")\n",
        "plt.xlabel(\"Values\")\n",
        "plt.ylabel(\"Frequency\")\n",
        "plt.show()"
      ],
      "metadata": {
        "colab": {
          "base_uri": "https://localhost:8080/",
          "height": 472
        },
        "id": "cqtjvczAcNz3",
        "outputId": "d3b1a9ce-bf14-47fa-bd41-4a7d7c3fbb16"
      },
      "execution_count": null,
      "outputs": [
        {
          "output_type": "display_data",
          "data": {
            "text/plain": [
              "<Figure size 640x480 with 1 Axes>"
            ],
            "image/png": "[encoded data removed]"
          },
          "metadata": {}
        }
      ]
    },
    {
      "cell_type": "code",
      "source": [
        "bin_size = 200\n",
        "\n",
        "# Create bins\n",
        "bins = np.arange(0, 7100, bin_size)\n",
        "\n",
        "# Count number of values in each bin\n",
        "hist, _ = np.histogram(occurances_array, bins=bins)\n",
        "\n",
        "# Print the count for each bin\n",
        "for i in range(len(hist)):\n",
        "    print(f\"{bins[i]}-{bins[i]+bin_size}: {hist[i]} values\")\n"
      ],
      "metadata": {
        "colab": {
          "base_uri": "https://localhost:8080/"
        },
        "id": "UQ4EVibVchAw",
        "outputId": "524bc5d7-0f0a-421b-cd21-400932848b51"
      },
      "execution_count": null,
      "outputs": [
        {
          "output_type": "stream",
          "name": "stdout",
          "text": [
            "0-200: 5179 values\n",
            "200-400: 33 values\n",
            "400-600: 13 values\n",
            "600-800: 6 values\n",
            "800-1000: 5 values\n",
            "1000-1200: 3 values\n",
            "1200-1400: 1 values\n",
            "1400-1600: 2 values\n",
            "1600-1800: 1 values\n",
            "1800-2000: 1 values\n",
            "2000-2200: 0 values\n",
            "2200-2400: 0 values\n",
            "2400-2600: 0 values\n",
            "2600-2800: 1 values\n",
            "2800-3000: 1 values\n",
            "3000-3200: 0 values\n",
            "3200-3400: 0 values\n",
            "3400-3600: 0 values\n",
            "3600-3800: 0 values\n",
            "3800-4000: 0 values\n",
            "4000-4200: 0 values\n",
            "4200-4400: 1 values\n",
            "4400-4600: 0 values\n",
            "4600-4800: 0 values\n",
            "4800-5000: 0 values\n",
            "5000-5200: 0 values\n",
            "5200-5400: 0 values\n",
            "5400-5600: 0 values\n",
            "5600-5800: 0 values\n",
            "5800-6000: 0 values\n",
            "6000-6200: 0 values\n",
            "6200-6400: 0 values\n",
            "6400-6600: 0 values\n",
            "6600-6800: 0 values\n",
            "6800-7000: 1 values\n"
          ]
        }
      ]
    },
    {
      "cell_type": "markdown",
      "source": [
        "As can be seen, most words are used in the text 0-200 times. The word frequency distribution has a skewed distribution. The word \"the\" has been used around 7000 times and is by far the most used word. Sub sampling, an algorithm that will increase the probability of removing such words, is applied below. The subsampling function applied in the lab is used"
      ],
      "metadata": {
        "id": "dhYGKA9Ww_K0"
      }
    },
    {
      "cell_type": "code",
      "source": [
        "words = tuple(set(vocabulary))\n",
        "int2str = dict(enumerate(words))\n",
        "str2int = {ch: i for i, ch in int2str.items()}"
      ],
      "metadata": {
        "id": "Yx1SHl9Dhl4-"
      },
      "execution_count": null,
      "outputs": []
    },
    {
      "cell_type": "code",
      "source": [
        "print('Length of the vocabulary: ', len(words))\n",
        "words[0:10]"
      ],
      "metadata": {
        "colab": {
          "base_uri": "https://localhost:8080/"
        },
        "id": "nHwwG6Ddh5v_",
        "outputId": "48f9a28b-a65b-47a2-d7fd-3847b1e2ae29"
      },
      "execution_count": null,
      "outputs": [
        {
          "output_type": "stream",
          "name": "stdout",
          "text": [
            "Length of the vocabulary:  5248\n"
          ]
        },
        {
          "output_type": "execute_result",
          "data": {
            "text/plain": [
              "('give_',\n",
              " 'bo ys_',\n",
              " 'br ea th_',\n",
              " 'sta g ge red_',\n",
              " 'luck ily_',\n",
              " 'wor ld s_',\n",
              " 's la p_',\n",
              " 'sa ddle_',\n",
              " 'pre sen ce_',\n",
              " 'ar m cha ir_')"
            ]
          },
          "metadata": {},
          "execution_count": 45
        }
      ]
    },
    {
      "cell_type": "code",
      "source": [
        "wordFreq = defaultdict(int)\n",
        "for sent in sent_vocab:\n",
        "    for word in sent:\n",
        "        wordFreq[word] += 1"
      ],
      "metadata": {
        "id": "FfZuIFQ4h9nt"
      },
      "execution_count": null,
      "outputs": []
    },
    {
      "cell_type": "code",
      "source": [
        "totalWords = sum([freq for freq in wordFreq.values()])\n",
        "wi = {word:(freq/totalWords) for word, freq in wordFreq.items()}\n",
        "wordProb ={ word:(math.sqrt(wi[word]/0.001)+1)*0.001/wi[word]  for word in wi}"
      ],
      "metadata": {
        "id": "on0uDOU0ilu3"
      },
      "execution_count": null,
      "outputs": []
    },
    {
      "cell_type": "code",
      "source": [
        "posSet = [] \n",
        "dropped = 0\n",
        "for sent in sent_vocab:\n",
        "  dum_sent = sent.copy()\n",
        "  for i in range(len(dum_sent)-1):\n",
        "    if   np.random.rand()>wordProb[dum_sent[i]]:\n",
        "        dum_sent[i] = None\n",
        "        dropped +=1\n",
        "  for i in range(1, len(dum_sent)-2):\n",
        "      if(dum_sent[i]!= None):\n",
        "        if(dum_sent[i+1]!= None):\n",
        "          posSet.append((dum_sent[i], dum_sent[i+1]))\n",
        "        if(dum_sent[i-1]!= None):\n",
        "          posSet.append((dum_sent[i], dum_sent[i-1]))\n",
        "print(dropped)\n",
        "posSet[0:10]"
      ],
      "metadata": {
        "colab": {
          "base_uri": "https://localhost:8080/"
        },
        "id": "eZMlWjcfiuKW",
        "outputId": "dd7925b5-165e-4d38-f9d0-66e362cb3619"
      },
      "execution_count": null,
      "outputs": [
        {
          "output_type": "stream",
          "name": "stdout",
          "text": [
            "29067\n"
          ]
        },
        {
          "output_type": "execute_result",
          "data": {
            "text/plain": [
              "[('il on k a_', 'there_'),\n",
              " ('il on k a_', 'lo vely_'),\n",
              " ('there_', 'il on k a_'),\n",
              " ('s_', 'son_'),\n",
              " ('son_', 'who_'),\n",
              " ('son_', 's_'),\n",
              " ('who_', 'told_'),\n",
              " ('who_', 'son_'),\n",
              " ('told_', 'who_'),\n",
              " ('king_', 'you_')]"
            ]
          },
          "metadata": {},
          "execution_count": 48
        }
      ]
    },
    {
      "cell_type": "code",
      "source": [
        "n_pos_examples = len(posSet)\n",
        "len(posSet)"
      ],
      "metadata": {
        "colab": {
          "base_uri": "https://localhost:8080/"
        },
        "id": "iNLnzEL6i4xX",
        "outputId": "b747b859-e719-4c5e-b76b-81f6aba035ff"
      },
      "execution_count": null,
      "outputs": [
        {
          "output_type": "execute_result",
          "data": {
            "text/plain": [
              "76785"
            ]
          },
          "metadata": {},
          "execution_count": 49
        }
      ]
    },
    {
      "cell_type": "code",
      "source": [
        "totalWords = sum([freq**(3/4) for freq in wordFreq.values()])\n",
        "wordProb = {word:(freq**(3/4)/totalWords) for word, freq in wordFreq.items()}"
      ],
      "metadata": {
        "id": "rmFtA820i9pZ"
      },
      "execution_count": null,
      "outputs": []
    },
    {
      "cell_type": "code",
      "source": [
        "n_neg_examples = 0 # 40m run time\n",
        "negSet = []\n",
        "for i in tqdm.tqdm(range(n_pos_examples)):\n",
        "  context=np.random.choice(list(wordProb.keys()), p=list(wordProb.values())) \n",
        "  while ((posSet[i][0],context)  in posSet):\n",
        "    context=np.random.choice(list(wordProb.keys()), p=list(wordProb.values()))\n",
        "  negSet.append((posSet[i][0], context))"
      ],
      "metadata": {
        "colab": {
          "base_uri": "https://localhost:8080/"
        },
        "id": "hyLs1pnpjGau",
        "outputId": "be1cfe91-49ed-461c-b057-23cbd75d00ef"
      },
      "execution_count": null,
      "outputs": [
        {
          "output_type": "stream",
          "name": "stderr",
          "text": [
            "100%|██████████| 76785/76785 [04:27<00:00, 287.58it/s]\n"
          ]
        }
      ]
    },
    {
      "cell_type": "code",
      "source": [
        "len(negSet)\n"
      ],
      "metadata": {
        "colab": {
          "base_uri": "https://localhost:8080/"
        },
        "id": "MJSlf34unBbz",
        "outputId": "0736e042-014b-4c11-ef18-4a5d3d28f86f"
      },
      "execution_count": null,
      "outputs": [
        {
          "output_type": "execute_result",
          "data": {
            "text/plain": [
              "76785"
            ]
          },
          "metadata": {},
          "execution_count": 52
        }
      ]
    },
    {
      "cell_type": "code",
      "source": [
        "pos_data = pd.DataFrame(posSet,columns=[\"word\",\"context\"])\n",
        "pos_data[\"out\"] = 1\n",
        "pos_data.head()"
      ],
      "metadata": {
        "colab": {
          "base_uri": "https://localhost:8080/",
          "height": 206
        },
        "id": "_dNJcgiqn3_f",
        "outputId": "68638b86-4c80-452e-f702-b250aecf36e4"
      },
      "execution_count": null,
      "outputs": [
        {
          "output_type": "execute_result",
          "data": {
            "text/plain": [
              "         word     context  out\n",
              "0  il on k a_      there_    1\n",
              "1  il on k a_    lo vely_    1\n",
              "2      there_  il on k a_    1\n",
              "3          s_        son_    1\n",
              "4        son_        who_    1"
            ],
            "text/html": [
              "\n",
              "  <div id=\"df-b0143a93-c505-441e-ac8c-3e2e3aeb53dc\">\n",
              "    <div class=\"colab-df-container\">\n",
              "      <div>\n",
              "<style scoped>\n",
              "    .dataframe tbody tr th:only-of-type {\n",
              "        vertical-align: middle;\n",
              "    }\n",
              "\n",
              "    .dataframe tbody tr th {\n",
              "        vertical-align: top;\n",
              "    }\n",
              "\n",
              "    .dataframe thead th {\n",
              "        text-align: right;\n",
              "    }\n",
              "</style>\n",
              "<table border=\"1\" class=\"dataframe\">\n",
              "  <thead>\n",
              "    <tr style=\"text-align: right;\">\n",
              "      <th></th>\n",
              "      <th>word</th>\n",
              "      <th>context</th>\n",
              "      <th>out</th>\n",
              "    </tr>\n",
              "  </thead>\n",
              "  <tbody>\n",
              "    <tr>\n",
              "      <th>0</th>\n",
              "      <td>il on k a_</td>\n",
              "      <td>there_</td>\n",
              "      <td>1</td>\n",
              "    </tr>\n",
              "    <tr>\n",
              "      <th>1</th>\n",
              "      <td>il on k a_</td>\n",
              "      <td>lo vely_</td>\n",
              "      <td>1</td>\n",
              "    </tr>\n",
              "    <tr>\n",
              "      <th>2</th>\n",
              "      <td>there_</td>\n",
              "      <td>il on k a_</td>\n",
              "      <td>1</td>\n",
              "    </tr>\n",
              "    <tr>\n",
              "      <th>3</th>\n",
              "      <td>s_</td>\n",
              "      <td>son_</td>\n",
              "      <td>1</td>\n",
              "    </tr>\n",
              "    <tr>\n",
              "      <th>4</th>\n",
              "      <td>son_</td>\n",
              "      <td>who_</td>\n",
              "      <td>1</td>\n",
              "    </tr>\n",
              "  </tbody>\n",
              "</table>\n",
              "</div>\n",
              "      <button class=\"colab-df-convert\" onclick=\"convertToInteractive('df-b0143a93-c505-441e-ac8c-3e2e3aeb53dc')\"\n",
              "              title=\"Convert this dataframe to an interactive table.\"\n",
              "              style=\"display:none;\">\n",
              "        \n",
              "  <svg xmlns=\"http://www.w3.org/2000/svg\" height=\"24px\"viewBox=\"0 0 24 24\"\n",
              "       width=\"24px\">\n",
              "    <path d=\"M0 0h24v24H0V0z\" fill=\"none\"/>\n",
              "    <path d=\"M18.56 5.44l.94 2.06.94-2.06 2.06-.94-2.06-.94-.94-2.06-.94 2.06-2.06.94zm-11 1L8.5 8.5l.94-2.06 2.06-.94-2.06-.94L8.5 2.5l-.94 2.06-2.06.94zm10 10l.94 2.06.94-2.06 2.06-.94-2.06-.94-.94-2.06-.94 2.06-2.06.94z\"/><path d=\"M17.41 7.96l-1.37-1.37c-.4-.4-.92-.59-1.43-.59-.52 0-1.04.2-1.43.59L10.3 9.45l-7.72 7.72c-.78.78-.78 2.05 0 2.83L4 21.41c.39.39.9.59 1.41.59.51 0 1.02-.2 1.41-.59l7.78-7.78 2.81-2.81c.8-.78.8-2.07 0-2.86zM5.41 20L4 18.59l7.72-7.72 1.47 1.35L5.41 20z\"/>\n",
              "  </svg>\n",
              "      </button>\n",
              "      \n",
              "  <style>\n",
              "    .colab-df-container {\n",
              "      display:flex;\n",
              "      flex-wrap:wrap;\n",
              "      gap: 12px;\n",
              "    }\n",
              "\n",
              "    .colab-df-convert {\n",
              "      background-color: #E8F0FE;\n",
              "      border: none;\n",
              "      border-radius: 50%;\n",
              "      cursor: pointer;\n",
              "      display: none;\n",
              "      fill: #1967D2;\n",
              "      height: 32px;\n",
              "      padding: 0 0 0 0;\n",
              "      width: 32px;\n",
              "    }\n",
              "\n",
              "    .colab-df-convert:hover {\n",
              "      background-color: #E2EBFA;\n",
              "      box-shadow: 0px 1px 2px rgba(60, 64, 67, 0.3), 0px 1px 3px 1px rgba(60, 64, 67, 0.15);\n",
              "      fill: #174EA6;\n",
              "    }\n",
              "\n",
              "    [theme=dark] .colab-df-convert {\n",
              "      background-color: #3B4455;\n",
              "      fill: #D2E3FC;\n",
              "    }\n",
              "\n",
              "    [theme=dark] .colab-df-convert:hover {\n",
              "      background-color: #434B5C;\n",
              "      box-shadow: 0px 1px 3px 1px rgba(0, 0, 0, 0.15);\n",
              "      filter: drop-shadow(0px 1px 2px rgba(0, 0, 0, 0.3));\n",
              "      fill: #FFFFFF;\n",
              "    }\n",
              "  </style>\n",
              "\n",
              "      <script>\n",
              "        const buttonEl =\n",
              "          document.querySelector('#df-b0143a93-c505-441e-ac8c-3e2e3aeb53dc button.colab-df-convert');\n",
              "        buttonEl.style.display =\n",
              "          google.colab.kernel.accessAllowed ? 'block' : 'none';\n",
              "\n",
              "        async function convertToInteractive(key) {\n",
              "          const element = document.querySelector('#df-b0143a93-c505-441e-ac8c-3e2e3aeb53dc');\n",
              "          const dataTable =\n",
              "            await google.colab.kernel.invokeFunction('convertToInteractive',\n",
              "                                                     [key], {});\n",
              "          if (!dataTable) return;\n",
              "\n",
              "          const docLinkHtml = 'Like what you see? Visit the ' +\n",
              "            '<a target=\"_blank\" href=https://colab.research.google.com/notebooks/data_table.ipynb>data table notebook</a>'\n",
              "            + ' to learn more about interactive tables.';\n",
              "          element.innerHTML = '';\n",
              "          dataTable['output_type'] = 'display_data';\n",
              "          await google.colab.output.renderOutput(dataTable, element);\n",
              "          const docLink = document.createElement('div');\n",
              "          docLink.innerHTML = docLinkHtml;\n",
              "          element.appendChild(docLink);\n",
              "        }\n",
              "      </script>\n",
              "    </div>\n",
              "  </div>\n",
              "  "
            ]
          },
          "metadata": {},
          "execution_count": 53
        }
      ]
    },
    {
      "cell_type": "code",
      "source": [
        "neg_data = pd.DataFrame(negSet,columns=[\"word\",\"context\"])\n",
        "neg_data[\"out\"] = 0\n",
        "neg_data.head()"
      ],
      "metadata": {
        "colab": {
          "base_uri": "https://localhost:8080/",
          "height": 206
        },
        "id": "XVdrcfxpyzLY",
        "outputId": "9edbbbb2-1173-4df8-e372-6231d2966bb8"
      },
      "execution_count": null,
      "outputs": [
        {
          "output_type": "execute_result",
          "data": {
            "text/plain": [
              "         word    context  out\n",
              "0  il on k a_      down_    0\n",
              "1  il on k a_   himself_    0\n",
              "2      there_    before_    0\n",
              "3          s_  in ven t_    0\n",
              "4        son_     seem _    0"
            ],
            "text/html": [
              "\n",
              "  <div id=\"df-9ed59b54-799e-4bcb-a1c8-1baadd495044\">\n",
              "    <div class=\"colab-df-container\">\n",
              "      <div>\n",
              "<style scoped>\n",
              "    .dataframe tbody tr th:only-of-type {\n",
              "        vertical-align: middle;\n",
              "    }\n",
              "\n",
              "    .dataframe tbody tr th {\n",
              "        vertical-align: top;\n",
              "    }\n",
              "\n",
              "    .dataframe thead th {\n",
              "        text-align: right;\n",
              "    }\n",
              "</style>\n",
              "<table border=\"1\" class=\"dataframe\">\n",
              "  <thead>\n",
              "    <tr style=\"text-align: right;\">\n",
              "      <th></th>\n",
              "      <th>word</th>\n",
              "      <th>context</th>\n",
              "      <th>out</th>\n",
              "    </tr>\n",
              "  </thead>\n",
              "  <tbody>\n",
              "    <tr>\n",
              "      <th>0</th>\n",
              "      <td>il on k a_</td>\n",
              "      <td>down_</td>\n",
              "      <td>0</td>\n",
              "    </tr>\n",
              "    <tr>\n",
              "      <th>1</th>\n",
              "      <td>il on k a_</td>\n",
              "      <td>himself_</td>\n",
              "      <td>0</td>\n",
              "    </tr>\n",
              "    <tr>\n",
              "      <th>2</th>\n",
              "      <td>there_</td>\n",
              "      <td>before_</td>\n",
              "      <td>0</td>\n",
              "    </tr>\n",
              "    <tr>\n",
              "      <th>3</th>\n",
              "      <td>s_</td>\n",
              "      <td>in ven t_</td>\n",
              "      <td>0</td>\n",
              "    </tr>\n",
              "    <tr>\n",
              "      <th>4</th>\n",
              "      <td>son_</td>\n",
              "      <td>seem _</td>\n",
              "      <td>0</td>\n",
              "    </tr>\n",
              "  </tbody>\n",
              "</table>\n",
              "</div>\n",
              "      <button class=\"colab-df-convert\" onclick=\"convertToInteractive('df-9ed59b54-799e-4bcb-a1c8-1baadd495044')\"\n",
              "              title=\"Convert this dataframe to an interactive table.\"\n",
              "              style=\"display:none;\">\n",
              "        \n",
              "  <svg xmlns=\"http://www.w3.org/2000/svg\" height=\"24px\"viewBox=\"0 0 24 24\"\n",
              "       width=\"24px\">\n",
              "    <path d=\"M0 0h24v24H0V0z\" fill=\"none\"/>\n",
              "    <path d=\"M18.56 5.44l.94 2.06.94-2.06 2.06-.94-2.06-.94-.94-2.06-.94 2.06-2.06.94zm-11 1L8.5 8.5l.94-2.06 2.06-.94-2.06-.94L8.5 2.5l-.94 2.06-2.06.94zm10 10l.94 2.06.94-2.06 2.06-.94-2.06-.94-.94-2.06-.94 2.06-2.06.94z\"/><path d=\"M17.41 7.96l-1.37-1.37c-.4-.4-.92-.59-1.43-.59-.52 0-1.04.2-1.43.59L10.3 9.45l-7.72 7.72c-.78.78-.78 2.05 0 2.83L4 21.41c.39.39.9.59 1.41.59.51 0 1.02-.2 1.41-.59l7.78-7.78 2.81-2.81c.8-.78.8-2.07 0-2.86zM5.41 20L4 18.59l7.72-7.72 1.47 1.35L5.41 20z\"/>\n",
              "  </svg>\n",
              "      </button>\n",
              "      \n",
              "  <style>\n",
              "    .colab-df-container {\n",
              "      display:flex;\n",
              "      flex-wrap:wrap;\n",
              "      gap: 12px;\n",
              "    }\n",
              "\n",
              "    .colab-df-convert {\n",
              "      background-color: #E8F0FE;\n",
              "      border: none;\n",
              "      border-radius: 50%;\n",
              "      cursor: pointer;\n",
              "      display: none;\n",
              "      fill: #1967D2;\n",
              "      height: 32px;\n",
              "      padding: 0 0 0 0;\n",
              "      width: 32px;\n",
              "    }\n",
              "\n",
              "    .colab-df-convert:hover {\n",
              "      background-color: #E2EBFA;\n",
              "      box-shadow: 0px 1px 2px rgba(60, 64, 67, 0.3), 0px 1px 3px 1px rgba(60, 64, 67, 0.15);\n",
              "      fill: #174EA6;\n",
              "    }\n",
              "\n",
              "    [theme=dark] .colab-df-convert {\n",
              "      background-color: #3B4455;\n",
              "      fill: #D2E3FC;\n",
              "    }\n",
              "\n",
              "    [theme=dark] .colab-df-convert:hover {\n",
              "      background-color: #434B5C;\n",
              "      box-shadow: 0px 1px 3px 1px rgba(0, 0, 0, 0.15);\n",
              "      filter: drop-shadow(0px 1px 2px rgba(0, 0, 0, 0.3));\n",
              "      fill: #FFFFFF;\n",
              "    }\n",
              "  </style>\n",
              "\n",
              "      <script>\n",
              "        const buttonEl =\n",
              "          document.querySelector('#df-9ed59b54-799e-4bcb-a1c8-1baadd495044 button.colab-df-convert');\n",
              "        buttonEl.style.display =\n",
              "          google.colab.kernel.accessAllowed ? 'block' : 'none';\n",
              "\n",
              "        async function convertToInteractive(key) {\n",
              "          const element = document.querySelector('#df-9ed59b54-799e-4bcb-a1c8-1baadd495044');\n",
              "          const dataTable =\n",
              "            await google.colab.kernel.invokeFunction('convertToInteractive',\n",
              "                                                     [key], {});\n",
              "          if (!dataTable) return;\n",
              "\n",
              "          const docLinkHtml = 'Like what you see? Visit the ' +\n",
              "            '<a target=\"_blank\" href=https://colab.research.google.com/notebooks/data_table.ipynb>data table notebook</a>'\n",
              "            + ' to learn more about interactive tables.';\n",
              "          element.innerHTML = '';\n",
              "          dataTable['output_type'] = 'display_data';\n",
              "          await google.colab.output.renderOutput(dataTable, element);\n",
              "          const docLink = document.createElement('div');\n",
              "          docLink.innerHTML = docLinkHtml;\n",
              "          element.appendChild(docLink);\n",
              "        }\n",
              "      </script>\n",
              "    </div>\n",
              "  </div>\n",
              "  "
            ]
          },
          "metadata": {},
          "execution_count": 54
        }
      ]
    },
    {
      "cell_type": "code",
      "source": [
        "data = pd.concat([pos_data,neg_data],axis=0)\n",
        "data.describe()"
      ],
      "metadata": {
        "colab": {
          "base_uri": "https://localhost:8080/",
          "height": 300
        },
        "id": "troewpv0y2G0",
        "outputId": "857b8aed-9f58-4dfd-fe33-d37de80c38df"
      },
      "execution_count": null,
      "outputs": [
        {
          "output_type": "execute_result",
          "data": {
            "text/plain": [
              "                 out\n",
              "count  153570.000000\n",
              "mean        0.500000\n",
              "std         0.500002\n",
              "min         0.000000\n",
              "25%         0.000000\n",
              "50%         0.500000\n",
              "75%         1.000000\n",
              "max         1.000000"
            ],
            "text/html": [
              "\n",
              "  <div id=\"df-6bbb2443-c705-4477-a955-98acc9c5d5d0\">\n",
              "    <div class=\"colab-df-container\">\n",
              "      <div>\n",
              "<style scoped>\n",
              "    .dataframe tbody tr th:only-of-type {\n",
              "        vertical-align: middle;\n",
              "    }\n",
              "\n",
              "    .dataframe tbody tr th {\n",
              "        vertical-align: top;\n",
              "    }\n",
              "\n",
              "    .dataframe thead th {\n",
              "        text-align: right;\n",
              "    }\n",
              "</style>\n",
              "<table border=\"1\" class=\"dataframe\">\n",
              "  <thead>\n",
              "    <tr style=\"text-align: right;\">\n",
              "      <th></th>\n",
              "      <th>out</th>\n",
              "    </tr>\n",
              "  </thead>\n",
              "  <tbody>\n",
              "    <tr>\n",
              "      <th>count</th>\n",
              "      <td>153570.000000</td>\n",
              "    </tr>\n",
              "    <tr>\n",
              "      <th>mean</th>\n",
              "      <td>0.500000</td>\n",
              "    </tr>\n",
              "    <tr>\n",
              "      <th>std</th>\n",
              "      <td>0.500002</td>\n",
              "    </tr>\n",
              "    <tr>\n",
              "      <th>min</th>\n",
              "      <td>0.000000</td>\n",
              "    </tr>\n",
              "    <tr>\n",
              "      <th>25%</th>\n",
              "      <td>0.000000</td>\n",
              "    </tr>\n",
              "    <tr>\n",
              "      <th>50%</th>\n",
              "      <td>0.500000</td>\n",
              "    </tr>\n",
              "    <tr>\n",
              "      <th>75%</th>\n",
              "      <td>1.000000</td>\n",
              "    </tr>\n",
              "    <tr>\n",
              "      <th>max</th>\n",
              "      <td>1.000000</td>\n",
              "    </tr>\n",
              "  </tbody>\n",
              "</table>\n",
              "</div>\n",
              "      <button class=\"colab-df-convert\" onclick=\"convertToInteractive('df-6bbb2443-c705-4477-a955-98acc9c5d5d0')\"\n",
              "              title=\"Convert this dataframe to an interactive table.\"\n",
              "              style=\"display:none;\">\n",
              "        \n",
              "  <svg xmlns=\"http://www.w3.org/2000/svg\" height=\"24px\"viewBox=\"0 0 24 24\"\n",
              "       width=\"24px\">\n",
              "    <path d=\"M0 0h24v24H0V0z\" fill=\"none\"/>\n",
              "    <path d=\"M18.56 5.44l.94 2.06.94-2.06 2.06-.94-2.06-.94-.94-2.06-.94 2.06-2.06.94zm-11 1L8.5 8.5l.94-2.06 2.06-.94-2.06-.94L8.5 2.5l-.94 2.06-2.06.94zm10 10l.94 2.06.94-2.06 2.06-.94-2.06-.94-.94-2.06-.94 2.06-2.06.94z\"/><path d=\"M17.41 7.96l-1.37-1.37c-.4-.4-.92-.59-1.43-.59-.52 0-1.04.2-1.43.59L10.3 9.45l-7.72 7.72c-.78.78-.78 2.05 0 2.83L4 21.41c.39.39.9.59 1.41.59.51 0 1.02-.2 1.41-.59l7.78-7.78 2.81-2.81c.8-.78.8-2.07 0-2.86zM5.41 20L4 18.59l7.72-7.72 1.47 1.35L5.41 20z\"/>\n",
              "  </svg>\n",
              "      </button>\n",
              "      \n",
              "  <style>\n",
              "    .colab-df-container {\n",
              "      display:flex;\n",
              "      flex-wrap:wrap;\n",
              "      gap: 12px;\n",
              "    }\n",
              "\n",
              "    .colab-df-convert {\n",
              "      background-color: #E8F0FE;\n",
              "      border: none;\n",
              "      border-radius: 50%;\n",
              "      cursor: pointer;\n",
              "      display: none;\n",
              "      fill: #1967D2;\n",
              "      height: 32px;\n",
              "      padding: 0 0 0 0;\n",
              "      width: 32px;\n",
              "    }\n",
              "\n",
              "    .colab-df-convert:hover {\n",
              "      background-color: #E2EBFA;\n",
              "      box-shadow: 0px 1px 2px rgba(60, 64, 67, 0.3), 0px 1px 3px 1px rgba(60, 64, 67, 0.15);\n",
              "      fill: #174EA6;\n",
              "    }\n",
              "\n",
              "    [theme=dark] .colab-df-convert {\n",
              "      background-color: #3B4455;\n",
              "      fill: #D2E3FC;\n",
              "    }\n",
              "\n",
              "    [theme=dark] .colab-df-convert:hover {\n",
              "      background-color: #434B5C;\n",
              "      box-shadow: 0px 1px 3px 1px rgba(0, 0, 0, 0.15);\n",
              "      filter: drop-shadow(0px 1px 2px rgba(0, 0, 0, 0.3));\n",
              "      fill: #FFFFFF;\n",
              "    }\n",
              "  </style>\n",
              "\n",
              "      <script>\n",
              "        const buttonEl =\n",
              "          document.querySelector('#df-6bbb2443-c705-4477-a955-98acc9c5d5d0 button.colab-df-convert');\n",
              "        buttonEl.style.display =\n",
              "          google.colab.kernel.accessAllowed ? 'block' : 'none';\n",
              "\n",
              "        async function convertToInteractive(key) {\n",
              "          const element = document.querySelector('#df-6bbb2443-c705-4477-a955-98acc9c5d5d0');\n",
              "          const dataTable =\n",
              "            await google.colab.kernel.invokeFunction('convertToInteractive',\n",
              "                                                     [key], {});\n",
              "          if (!dataTable) return;\n",
              "\n",
              "          const docLinkHtml = 'Like what you see? Visit the ' +\n",
              "            '<a target=\"_blank\" href=https://colab.research.google.com/notebooks/data_table.ipynb>data table notebook</a>'\n",
              "            + ' to learn more about interactive tables.';\n",
              "          element.innerHTML = '';\n",
              "          dataTable['output_type'] = 'display_data';\n",
              "          await google.colab.output.renderOutput(dataTable, element);\n",
              "          const docLink = document.createElement('div');\n",
              "          docLink.innerHTML = docLinkHtml;\n",
              "          element.appendChild(docLink);\n",
              "        }\n",
              "      </script>\n",
              "    </div>\n",
              "  </div>\n",
              "  "
            ]
          },
          "metadata": {},
          "execution_count": 55
        }
      ]
    },
    {
      "cell_type": "code",
      "source": [
        "data2 = data.copy()\n",
        "data2[\"text\"] =  data[\"word\"]+' '+data[\"context\"]\n",
        "data2.head(1000)\n",
        "     "
      ],
      "metadata": {
        "colab": {
          "base_uri": "https://localhost:8080/",
          "height": 423
        },
        "id": "xaE0GHCHy6ar",
        "outputId": "6f8247d7-607a-4651-8b51-ff00dd2e9d00"
      },
      "execution_count": null,
      "outputs": [
        {
          "output_type": "execute_result",
          "data": {
            "text/plain": [
              "           word     context  out                 text\n",
              "0    il on k a_      there_    1    il on k a_ there_\n",
              "1    il on k a_    lo vely_    1  il on k a_ lo vely_\n",
              "2        there_  il on k a_    1    there_ il on k a_\n",
              "3            s_        son_    1              s_ son_\n",
              "4          son_        who_    1            son_ who_\n",
              "..          ...         ...  ...                  ...\n",
              "995    fea r s_         no_    1         fea r s_ no_\n",
              "996    supp er_       that_    1       supp er_ that_\n",
              "997    supp er_         at_    1         supp er_ at_\n",
              "998       that_      night_    1         that_ night_\n",
              "999       that_    supp er_    1       that_ supp er_\n",
              "\n",
              "[1000 rows x 4 columns]"
            ],
            "text/html": [
              "\n",
              "  <div id=\"df-04f662bd-0e81-43ad-9fe4-b193d7a5d73a\">\n",
              "    <div class=\"colab-df-container\">\n",
              "      <div>\n",
              "<style scoped>\n",
              "    .dataframe tbody tr th:only-of-type {\n",
              "        vertical-align: middle;\n",
              "    }\n",
              "\n",
              "    .dataframe tbody tr th {\n",
              "        vertical-align: top;\n",
              "    }\n",
              "\n",
              "    .dataframe thead th {\n",
              "        text-align: right;\n",
              "    }\n",
              "</style>\n",
              "<table border=\"1\" class=\"dataframe\">\n",
              "  <thead>\n",
              "    <tr style=\"text-align: right;\">\n",
              "      <th></th>\n",
              "      <th>word</th>\n",
              "      <th>context</th>\n",
              "      <th>out</th>\n",
              "      <th>text</th>\n",
              "    </tr>\n",
              "  </thead>\n",
              "  <tbody>\n",
              "    <tr>\n",
              "      <th>0</th>\n",
              "      <td>il on k a_</td>\n",
              "      <td>there_</td>\n",
              "      <td>1</td>\n",
              "      <td>il on k a_ there_</td>\n",
              "    </tr>\n",
              "    <tr>\n",
              "      <th>1</th>\n",
              "      <td>il on k a_</td>\n",
              "      <td>lo vely_</td>\n",
              "      <td>1</td>\n",
              "      <td>il on k a_ lo vely_</td>\n",
              "    </tr>\n",
              "    <tr>\n",
              "      <th>2</th>\n",
              "      <td>there_</td>\n",
              "      <td>il on k a_</td>\n",
              "      <td>1</td>\n",
              "      <td>there_ il on k a_</td>\n",
              "    </tr>\n",
              "    <tr>\n",
              "      <th>3</th>\n",
              "      <td>s_</td>\n",
              "      <td>son_</td>\n",
              "      <td>1</td>\n",
              "      <td>s_ son_</td>\n",
              "    </tr>\n",
              "    <tr>\n",
              "      <th>4</th>\n",
              "      <td>son_</td>\n",
              "      <td>who_</td>\n",
              "      <td>1</td>\n",
              "      <td>son_ who_</td>\n",
              "    </tr>\n",
              "    <tr>\n",
              "      <th>...</th>\n",
              "      <td>...</td>\n",
              "      <td>...</td>\n",
              "      <td>...</td>\n",
              "      <td>...</td>\n",
              "    </tr>\n",
              "    <tr>\n",
              "      <th>995</th>\n",
              "      <td>fea r s_</td>\n",
              "      <td>no_</td>\n",
              "      <td>1</td>\n",
              "      <td>fea r s_ no_</td>\n",
              "    </tr>\n",
              "    <tr>\n",
              "      <th>996</th>\n",
              "      <td>supp er_</td>\n",
              "      <td>that_</td>\n",
              "      <td>1</td>\n",
              "      <td>supp er_ that_</td>\n",
              "    </tr>\n",
              "    <tr>\n",
              "      <th>997</th>\n",
              "      <td>supp er_</td>\n",
              "      <td>at_</td>\n",
              "      <td>1</td>\n",
              "      <td>supp er_ at_</td>\n",
              "    </tr>\n",
              "    <tr>\n",
              "      <th>998</th>\n",
              "      <td>that_</td>\n",
              "      <td>night_</td>\n",
              "      <td>1</td>\n",
              "      <td>that_ night_</td>\n",
              "    </tr>\n",
              "    <tr>\n",
              "      <th>999</th>\n",
              "      <td>that_</td>\n",
              "      <td>supp er_</td>\n",
              "      <td>1</td>\n",
              "      <td>that_ supp er_</td>\n",
              "    </tr>\n",
              "  </tbody>\n",
              "</table>\n",
              "<p>1000 rows × 4 columns</p>\n",
              "</div>\n",
              "      <button class=\"colab-df-convert\" onclick=\"convertToInteractive('df-04f662bd-0e81-43ad-9fe4-b193d7a5d73a')\"\n",
              "              title=\"Convert this dataframe to an interactive table.\"\n",
              "              style=\"display:none;\">\n",
              "        \n",
              "  <svg xmlns=\"http://www.w3.org/2000/svg\" height=\"24px\"viewBox=\"0 0 24 24\"\n",
              "       width=\"24px\">\n",
              "    <path d=\"M0 0h24v24H0V0z\" fill=\"none\"/>\n",
              "    <path d=\"M18.56 5.44l.94 2.06.94-2.06 2.06-.94-2.06-.94-.94-2.06-.94 2.06-2.06.94zm-11 1L8.5 8.5l.94-2.06 2.06-.94-2.06-.94L8.5 2.5l-.94 2.06-2.06.94zm10 10l.94 2.06.94-2.06 2.06-.94-2.06-.94-.94-2.06-.94 2.06-2.06.94z\"/><path d=\"M17.41 7.96l-1.37-1.37c-.4-.4-.92-.59-1.43-.59-.52 0-1.04.2-1.43.59L10.3 9.45l-7.72 7.72c-.78.78-.78 2.05 0 2.83L4 21.41c.39.39.9.59 1.41.59.51 0 1.02-.2 1.41-.59l7.78-7.78 2.81-2.81c.8-.78.8-2.07 0-2.86zM5.41 20L4 18.59l7.72-7.72 1.47 1.35L5.41 20z\"/>\n",
              "  </svg>\n",
              "      </button>\n",
              "      \n",
              "  <style>\n",
              "    .colab-df-container {\n",
              "      display:flex;\n",
              "      flex-wrap:wrap;\n",
              "      gap: 12px;\n",
              "    }\n",
              "\n",
              "    .colab-df-convert {\n",
              "      background-color: #E8F0FE;\n",
              "      border: none;\n",
              "      border-radius: 50%;\n",
              "      cursor: pointer;\n",
              "      display: none;\n",
              "      fill: #1967D2;\n",
              "      height: 32px;\n",
              "      padding: 0 0 0 0;\n",
              "      width: 32px;\n",
              "    }\n",
              "\n",
              "    .colab-df-convert:hover {\n",
              "      background-color: #E2EBFA;\n",
              "      box-shadow: 0px 1px 2px rgba(60, 64, 67, 0.3), 0px 1px 3px 1px rgba(60, 64, 67, 0.15);\n",
              "      fill: #174EA6;\n",
              "    }\n",
              "\n",
              "    [theme=dark] .colab-df-convert {\n",
              "      background-color: #3B4455;\n",
              "      fill: #D2E3FC;\n",
              "    }\n",
              "\n",
              "    [theme=dark] .colab-df-convert:hover {\n",
              "      background-color: #434B5C;\n",
              "      box-shadow: 0px 1px 3px 1px rgba(0, 0, 0, 0.15);\n",
              "      filter: drop-shadow(0px 1px 2px rgba(0, 0, 0, 0.3));\n",
              "      fill: #FFFFFF;\n",
              "    }\n",
              "  </style>\n",
              "\n",
              "      <script>\n",
              "        const buttonEl =\n",
              "          document.querySelector('#df-04f662bd-0e81-43ad-9fe4-b193d7a5d73a button.colab-df-convert');\n",
              "        buttonEl.style.display =\n",
              "          google.colab.kernel.accessAllowed ? 'block' : 'none';\n",
              "\n",
              "        async function convertToInteractive(key) {\n",
              "          const element = document.querySelector('#df-04f662bd-0e81-43ad-9fe4-b193d7a5d73a');\n",
              "          const dataTable =\n",
              "            await google.colab.kernel.invokeFunction('convertToInteractive',\n",
              "                                                     [key], {});\n",
              "          if (!dataTable) return;\n",
              "\n",
              "          const docLinkHtml = 'Like what you see? Visit the ' +\n",
              "            '<a target=\"_blank\" href=https://colab.research.google.com/notebooks/data_table.ipynb>data table notebook</a>'\n",
              "            + ' to learn more about interactive tables.';\n",
              "          element.innerHTML = '';\n",
              "          dataTable['output_type'] = 'display_data';\n",
              "          await google.colab.output.renderOutput(dataTable, element);\n",
              "          const docLink = document.createElement('div');\n",
              "          docLink.innerHTML = docLinkHtml;\n",
              "          element.appendChild(docLink);\n",
              "        }\n",
              "      </script>\n",
              "    </div>\n",
              "  </div>\n",
              "  "
            ]
          },
          "metadata": {},
          "execution_count": 56
        }
      ]
    },
    {
      "cell_type": "code",
      "source": [
        "data3 =data2.drop(columns=[\"context\",\"word\"])\n",
        "data3 = data3[[\"text\",\"out\"]]\n",
        "data3.head()"
      ],
      "metadata": {
        "colab": {
          "base_uri": "https://localhost:8080/",
          "height": 206
        },
        "id": "AJquI04Uy_kR",
        "outputId": "4b3a131e-52d4-4ff8-c7db-177e15fa98a9"
      },
      "execution_count": null,
      "outputs": [
        {
          "output_type": "execute_result",
          "data": {
            "text/plain": [
              "                  text  out\n",
              "0    il on k a_ there_    1\n",
              "1  il on k a_ lo vely_    1\n",
              "2    there_ il on k a_    1\n",
              "3              s_ son_    1\n",
              "4            son_ who_    1"
            ],
            "text/html": [
              "\n",
              "  <div id=\"df-d73dbd48-47c4-44b0-a910-db450e20f8ec\">\n",
              "    <div class=\"colab-df-container\">\n",
              "      <div>\n",
              "<style scoped>\n",
              "    .dataframe tbody tr th:only-of-type {\n",
              "        vertical-align: middle;\n",
              "    }\n",
              "\n",
              "    .dataframe tbody tr th {\n",
              "        vertical-align: top;\n",
              "    }\n",
              "\n",
              "    .dataframe thead th {\n",
              "        text-align: right;\n",
              "    }\n",
              "</style>\n",
              "<table border=\"1\" class=\"dataframe\">\n",
              "  <thead>\n",
              "    <tr style=\"text-align: right;\">\n",
              "      <th></th>\n",
              "      <th>text</th>\n",
              "      <th>out</th>\n",
              "    </tr>\n",
              "  </thead>\n",
              "  <tbody>\n",
              "    <tr>\n",
              "      <th>0</th>\n",
              "      <td>il on k a_ there_</td>\n",
              "      <td>1</td>\n",
              "    </tr>\n",
              "    <tr>\n",
              "      <th>1</th>\n",
              "      <td>il on k a_ lo vely_</td>\n",
              "      <td>1</td>\n",
              "    </tr>\n",
              "    <tr>\n",
              "      <th>2</th>\n",
              "      <td>there_ il on k a_</td>\n",
              "      <td>1</td>\n",
              "    </tr>\n",
              "    <tr>\n",
              "      <th>3</th>\n",
              "      <td>s_ son_</td>\n",
              "      <td>1</td>\n",
              "    </tr>\n",
              "    <tr>\n",
              "      <th>4</th>\n",
              "      <td>son_ who_</td>\n",
              "      <td>1</td>\n",
              "    </tr>\n",
              "  </tbody>\n",
              "</table>\n",
              "</div>\n",
              "      <button class=\"colab-df-convert\" onclick=\"convertToInteractive('df-d73dbd48-47c4-44b0-a910-db450e20f8ec')\"\n",
              "              title=\"Convert this dataframe to an interactive table.\"\n",
              "              style=\"display:none;\">\n",
              "        \n",
              "  <svg xmlns=\"http://www.w3.org/2000/svg\" height=\"24px\"viewBox=\"0 0 24 24\"\n",
              "       width=\"24px\">\n",
              "    <path d=\"M0 0h24v24H0V0z\" fill=\"none\"/>\n",
              "    <path d=\"M18.56 5.44l.94 2.06.94-2.06 2.06-.94-2.06-.94-.94-2.06-.94 2.06-2.06.94zm-11 1L8.5 8.5l.94-2.06 2.06-.94-2.06-.94L8.5 2.5l-.94 2.06-2.06.94zm10 10l.94 2.06.94-2.06 2.06-.94-2.06-.94-.94-2.06-.94 2.06-2.06.94z\"/><path d=\"M17.41 7.96l-1.37-1.37c-.4-.4-.92-.59-1.43-.59-.52 0-1.04.2-1.43.59L10.3 9.45l-7.72 7.72c-.78.78-.78 2.05 0 2.83L4 21.41c.39.39.9.59 1.41.59.51 0 1.02-.2 1.41-.59l7.78-7.78 2.81-2.81c.8-.78.8-2.07 0-2.86zM5.41 20L4 18.59l7.72-7.72 1.47 1.35L5.41 20z\"/>\n",
              "  </svg>\n",
              "      </button>\n",
              "      \n",
              "  <style>\n",
              "    .colab-df-container {\n",
              "      display:flex;\n",
              "      flex-wrap:wrap;\n",
              "      gap: 12px;\n",
              "    }\n",
              "\n",
              "    .colab-df-convert {\n",
              "      background-color: #E8F0FE;\n",
              "      border: none;\n",
              "      border-radius: 50%;\n",
              "      cursor: pointer;\n",
              "      display: none;\n",
              "      fill: #1967D2;\n",
              "      height: 32px;\n",
              "      padding: 0 0 0 0;\n",
              "      width: 32px;\n",
              "    }\n",
              "\n",
              "    .colab-df-convert:hover {\n",
              "      background-color: #E2EBFA;\n",
              "      box-shadow: 0px 1px 2px rgba(60, 64, 67, 0.3), 0px 1px 3px 1px rgba(60, 64, 67, 0.15);\n",
              "      fill: #174EA6;\n",
              "    }\n",
              "\n",
              "    [theme=dark] .colab-df-convert {\n",
              "      background-color: #3B4455;\n",
              "      fill: #D2E3FC;\n",
              "    }\n",
              "\n",
              "    [theme=dark] .colab-df-convert:hover {\n",
              "      background-color: #434B5C;\n",
              "      box-shadow: 0px 1px 3px 1px rgba(0, 0, 0, 0.15);\n",
              "      filter: drop-shadow(0px 1px 2px rgba(0, 0, 0, 0.3));\n",
              "      fill: #FFFFFF;\n",
              "    }\n",
              "  </style>\n",
              "\n",
              "      <script>\n",
              "        const buttonEl =\n",
              "          document.querySelector('#df-d73dbd48-47c4-44b0-a910-db450e20f8ec button.colab-df-convert');\n",
              "        buttonEl.style.display =\n",
              "          google.colab.kernel.accessAllowed ? 'block' : 'none';\n",
              "\n",
              "        async function convertToInteractive(key) {\n",
              "          const element = document.querySelector('#df-d73dbd48-47c4-44b0-a910-db450e20f8ec');\n",
              "          const dataTable =\n",
              "            await google.colab.kernel.invokeFunction('convertToInteractive',\n",
              "                                                     [key], {});\n",
              "          if (!dataTable) return;\n",
              "\n",
              "          const docLinkHtml = 'Like what you see? Visit the ' +\n",
              "            '<a target=\"_blank\" href=https://colab.research.google.com/notebooks/data_table.ipynb>data table notebook</a>'\n",
              "            + ' to learn more about interactive tables.';\n",
              "          element.innerHTML = '';\n",
              "          dataTable['output_type'] = 'display_data';\n",
              "          await google.colab.output.renderOutput(dataTable, element);\n",
              "          const docLink = document.createElement('div');\n",
              "          docLink.innerHTML = docLinkHtml;\n",
              "          element.appendChild(docLink);\n",
              "        }\n",
              "      </script>\n",
              "    </div>\n",
              "  </div>\n",
              "  "
            ]
          },
          "metadata": {},
          "execution_count": 57
        }
      ]
    },
    {
      "cell_type": "code",
      "source": [
        "data.to_csv(\"data_all.csv\",index=False)\n",
        "files.download(\"data_all.csv\")"
      ],
      "metadata": {
        "id": "qRRcuwZ6zFK8",
        "colab": {
          "base_uri": "https://localhost:8080/",
          "height": 17
        },
        "outputId": "2e4a146b-797f-4050-82c8-651c899c8b43"
      },
      "execution_count": null,
      "outputs": [
        {
          "output_type": "display_data",
          "data": {
            "text/plain": [
              "<IPython.core.display.Javascript object>"
            ],
            "application/javascript": [
              "\n",
              "    async function download(id, filename, size) {\n",
              "      if (!google.colab.kernel.accessAllowed) {\n",
              "        return;\n",
              "      }\n",
              "      const div = document.createElement('div');\n",
              "      const label = document.createElement('label');\n",
              "      label.textContent = `Downloading \"${filename}\": `;\n",
              "      div.appendChild(label);\n",
              "      const progress = document.createElement('progress');\n",
              "      progress.max = size;\n",
              "      div.appendChild(progress);\n",
              "      document.body.appendChild(div);\n",
              "\n",
              "      const buffers = [];\n",
              "      let downloaded = 0;\n",
              "\n",
              "      const channel = await google.colab.kernel.comms.open(id);\n",
              "      // Send a message to notify the kernel that we're ready.\n",
              "      channel.send({})\n",
              "\n",
              "      for await (const message of channel.messages) {\n",
              "        // Send a message to notify the kernel that we're ready.\n",
              "        channel.send({})\n",
              "        if (message.buffers) {\n",
              "          for (const buffer of message.buffers) {\n",
              "            buffers.push(buffer);\n",
              "            downloaded += buffer.byteLength;\n",
              "            progress.value = downloaded;\n",
              "          }\n",
              "        }\n",
              "      }\n",
              "      const blob = new Blob(buffers, {type: 'application/binary'});\n",
              "      const a = document.createElement('a');\n",
              "      a.href = window.URL.createObjectURL(blob);\n",
              "      a.download = filename;\n",
              "      div.appendChild(a);\n",
              "      a.click();\n",
              "      div.remove();\n",
              "    }\n",
              "  "
            ]
          },
          "metadata": {}
        },
        {
          "output_type": "display_data",
          "data": {
            "text/plain": [
              "<IPython.core.display.Javascript object>"
            ],
            "application/javascript": [
              "download(\"download_e643a57a-7596-42f6-8bb0-4e8a8e55c9fb\", \"data_all.csv\", 2496880)"
            ]
          },
          "metadata": {}
        }
      ]
    },
    {
      "cell_type": "markdown",
      "source": [
        "A dataframe was created for future use. This dataframe has columns center word, context word and label. I used this dataframe as it will be easier to use"
      ],
      "metadata": {
        "id": "b9muUYY-ymiO"
      }
    },
    {
      "cell_type": "code",
      "source": [
        "dataset = pd.read_csv(\"data_all.csv\")"
      ],
      "metadata": {
        "id": "XujK3HLPwURA"
      },
      "execution_count": null,
      "outputs": []
    },
    {
      "cell_type": "code",
      "source": [
        "def one_hot_encoding(word_idx, vocab_size):\n",
        "    one_hot = torch.zeros(vocab_size)\n",
        "    one_hot[word_idx] = 1\n",
        "    return one_hot"
      ],
      "metadata": {
        "id": "5F115nk_wdTw"
      },
      "execution_count": null,
      "outputs": []
    },
    {
      "cell_type": "markdown",
      "source": [
        "In the model, one_hot_encoding of each word is used by using the str2int dictionary."
      ],
      "metadata": {
        "id": "0VLqRGjiy20B"
      }
    },
    {
      "cell_type": "code",
      "source": [
        "device = torch.device(\"cuda\" if torch.cuda.is_available() else \"cpu\")"
      ],
      "metadata": {
        "id": "sZ_kkisUXD0r"
      },
      "execution_count": null,
      "outputs": []
    },
    {
      "cell_type": "code",
      "source": [
        "vocab_size = len(words)"
      ],
      "metadata": {
        "id": "yylfvoz5xDFD"
      },
      "execution_count": null,
      "outputs": []
    },
    {
      "cell_type": "code",
      "source": [
        "train_ratio = 0.8\n",
        "val_ratio = 0.1\n",
        "test_ratio = 0.1\n",
        "\n",
        "train_data, test_data = train_test_split(dataset, test_size=test_ratio, random_state=42)\n",
        "train_data, val_data = train_test_split(train_data, test_size=val_ratio/(train_ratio+val_ratio), random_state=42)\n",
        "\n",
        "# print sizes of each set\n",
        "print(f\"Training data size: {len(train_data)}\")\n",
        "print(f\"Validation data size: {len(val_data)}\")\n",
        "print(f\"Test data size: {len(test_data)}\")"
      ],
      "metadata": {
        "colab": {
          "base_uri": "https://localhost:8080/"
        },
        "id": "sG43AsV7xpp4",
        "outputId": "b438fee9-81e3-46e0-b2f2-6200907e69e2"
      },
      "execution_count": null,
      "outputs": [
        {
          "output_type": "stream",
          "name": "stdout",
          "text": [
            "Training data size: 122855\n",
            "Validation data size: 15358\n",
            "Test data size: 15357\n"
          ]
        }
      ]
    },
    {
      "cell_type": "markdown",
      "source": [
        "The data set is divided into training, validation and test sets with 0.8, 0.1 and 0.1 percentiles."
      ],
      "metadata": {
        "id": "_hr9ZuDLzCfP"
      }
    },
    {
      "cell_type": "code",
      "source": [
        "class CustomDataset(Dataset):\n",
        "    def __init__(self, data):\n",
        "        self.data = data\n",
        "        \n",
        "    def __len__(self):\n",
        "        return len(self.data)\n",
        "    \n",
        "    def __getitem__(self, index):\n",
        "        center_word, context_word, label = self.data.iloc[index]\n",
        "        \n",
        "        # Convert center and context words to one-hot encodings\n",
        "        center_onehot = one_hot_encoding(str2int[center_word], vocab_size)\n",
        "        context_onehot = one_hot_encoding(str2int[context_word], vocab_size)\n",
        "        \n",
        "        # Concatenate the two one-hot encodings\n",
        "        input_vector = torch.cat([center_onehot, context_onehot]).to(device)\n",
        "        \n",
        "        # Convert label to tensor\n",
        "        label = torch.tensor(label).to(device)\n",
        "        \n",
        "        return input_vector, label"
      ],
      "metadata": {
        "id": "sD2hwHLxyx8U"
      },
      "execution_count": null,
      "outputs": []
    },
    {
      "cell_type": "markdown",
      "source": [
        "While making the model, the skip-gram with negative sampling (SGNS) with logistic regression logic shown in the Lecture notes was used. In the model, two separate one hot encoding vectors for center and context word pairs will be taken and combined. The input vector will consist of 2 separate one hot endoding vectors belonging to the words center and context. Its length is equal to 2 * vocabulary size. The above class was created to make the dataset available to the Dataloader function. The input vector and label are made as described above."
      ],
      "metadata": {
        "id": "cC_cOtzGzMuj"
      }
    },
    {
      "cell_type": "code",
      "source": [
        "train_dataset = CustomDataset(train_data)"
      ],
      "metadata": {
        "id": "qvkyV3rF1JZO"
      },
      "execution_count": null,
      "outputs": []
    },
    {
      "cell_type": "code",
      "source": [
        "val_dataset = CustomDataset(val_data)\n",
        "test_dataset = CustomDataset(test_data)"
      ],
      "metadata": {
        "id": "NUaAl_go2fmy"
      },
      "execution_count": null,
      "outputs": []
    },
    {
      "cell_type": "code",
      "source": [
        "batch_size = 64\n",
        "train_dataloader = DataLoader(train_dataset, batch_size=batch_size,\n",
        "                              shuffle=True)\n",
        "valid_dataloader = DataLoader(val_dataset, batch_size=batch_size,\n",
        "                              shuffle=True)\n",
        "test_dataloader = DataLoader(test_dataset, batch_size=batch_size,\n",
        "                             shuffle=True)"
      ],
      "metadata": {
        "id": "Qv9CR-0HOWsM"
      },
      "execution_count": null,
      "outputs": []
    },
    {
      "cell_type": "markdown",
      "source": [
        "Each dataset was created to be divided into 64 batches with the dataloader function."
      ],
      "metadata": {
        "id": "VOHcv55W0kQW"
      }
    },
    {
      "cell_type": "code",
      "source": [
        "def train(dataloader,model):\n",
        "    model.train()\n",
        "    total_acc, total_count = 0, 0\n",
        "    total_loss = 0\n",
        "    log_interval = 500\n",
        "    start_time = time.time()\n",
        "\n",
        "    for idx, (input_vector, label) in enumerate(dataloader):\n",
        "        optimizer.zero_grad()\n",
        "        predicted_label = model(input_vector)\n",
        "        loss = criterion(predicted_label, label)\n",
        "        loss.backward()\n",
        "        torch.nn.utils.clip_grad_norm_(model.parameters(), 0.1)\n",
        "        optimizer.step()\n",
        "        total_loss += loss.item()\n",
        "        total_acc += (predicted_label.argmax(1) == label).sum().item()\n",
        "        total_count += label.size(0)\n",
        "        if idx % log_interval == 0 and idx > 0:\n",
        "            elapsed = time.time() - start_time\n",
        "            print('| epoch {:3d} | {:5d}/{:5d} batches '\n",
        "                  '| accuracy {:8.3f} | loss {:8.3f}'.format(epoch, idx, len(dataloader),\n",
        "                                                             total_acc/total_count, total_loss/log_interval))\n",
        "            total_loss = 0\n",
        "            total_acc, total_count = 0, 0\n",
        "            start_time = time.time()\n",
        "\n",
        "def evaluate(dataloader,model):\n",
        "    model.eval()\n",
        "    total_acc, total_count = 0, 0\n",
        "\n",
        "    with torch.no_grad():\n",
        "        for idx, (input_vector, label)  in enumerate(dataloader):\n",
        "            predicted_label = model(input_vector)\n",
        "            loss = criterion(predicted_label, label)\n",
        "            total_acc += (predicted_label.argmax(1) == label).sum().item()\n",
        "            total_count += label.size(0)\n",
        "    return total_acc/total_count"
      ],
      "metadata": {
        "id": "KmNRh7gwP9gN"
      },
      "execution_count": null,
      "outputs": []
    },
    {
      "cell_type": "code",
      "source": [
        "class LogisticRegressionModel(nn.Module):\n",
        "    def __init__(self, vocab_size, embedding_dim):\n",
        "        super(LogisticRegressionModel, self).__init__()\n",
        "        self.input_layer = nn.Linear(2*vocab_size, embedding_dim)\n",
        "        self.output_layer = nn.Linear(embedding_dim,2)\n",
        "    \n",
        "    def init_weights(self):\n",
        "        initrange = 0.5\n",
        "        self.input_layer.weight.data.uniform_(-initrange, initrange)\n",
        "        self.input_layer.bias.data.zero_()\n",
        "        self.output_layer.weight.data.uniform_(-initrange, initrange)\n",
        "        self.output_layer.bias.data.zero_()\n",
        "\n",
        "    \n",
        "    def forward(self, x):\n",
        "        x = self.input_layer(x)\n",
        "        x = F.relu(x)\n",
        "        x = self.output_layer(x)\n",
        "        return x\n",
        "\n",
        "    def get_embedding(self, index):\n",
        "      input_weights = self.input_layer.weight.detach().to(device)\n",
        "      return input_weights[:, index]"
      ],
      "metadata": {
        "id": "F05nJkfTR-PR"
      },
      "execution_count": null,
      "outputs": []
    },
    {
      "cell_type": "code",
      "source": [
        "log_model = LogisticRegressionModel(vocab_size,32).to(device)"
      ],
      "metadata": {
        "id": "FRNiBwrETghQ"
      },
      "execution_count": null,
      "outputs": []
    },
    {
      "cell_type": "markdown",
      "source": [
        "An input layer, a hidden layer and an output layer have been created above. Relu function is used in hidden nodes. Two output nodes were created using Softmax to represent labels 0 and 1. Since cross entropy loss is used for 2 different classes, it is like the Logistic regression model. After the get_embedding function was model trained, the embeddings of the words were reached. Between the input layer and the hidden layer, the weight values in that node constitute the embedding of the word, according to the indexes of the words taken from the str2int dictionary. Each word has 2 different embeddings, center and context. For example, if the index of the word \"the\" is 150, the weight values of the 150th node of the input layer will give the center embedding of the word \"the\". A vocabulary size value of 150 + will also give the context embedding of the word \"the\". The embedding dimension will be equal to the hidden layer dimension. Defined as embedding dimension in model"
      ],
      "metadata": {
        "id": "mnI8hWLO0zxL"
      }
    },
    {
      "cell_type": "code",
      "source": [
        "criterion = torch.nn.CrossEntropyLoss()\n",
        "optimizer = torch.optim.SGD(log_model.parameters(), lr=0.1)\n",
        "scheduler = torch.optim.lr_scheduler.StepLR(optimizer, 1.0, gamma=0.1)\n",
        "total_accu = None\n",
        "EPOCHS = 15\n",
        "for epoch in range(1, EPOCHS + 1):\n",
        "    epoch_start_time = time.time()\n",
        "    train(train_dataloader,log_model)\n",
        "    accu_val = evaluate(valid_dataloader,log_model)\n",
        "    if total_accu is not None and total_accu > accu_val:\n",
        "      scheduler.step()\n",
        "    else:\n",
        "       total_accu = accu_val\n",
        "    print('-' * 59)\n",
        "    print('| end of epoch {:3d} | time: {:5.2f}s | '\n",
        "          'valid accuracy {:8.3f} '.format(epoch,\n",
        "                                           time.time() - epoch_start_time,\n",
        "                                           accu_val))\n",
        "    print('-' * 59)"
      ],
      "metadata": {
        "colab": {
          "base_uri": "https://localhost:8080/"
        },
        "id": "OJPWQg5qQT1v",
        "outputId": "5e9019f1-6da6-42c8-d84d-86af5740e349"
      },
      "execution_count": null,
      "outputs": [
        {
          "output_type": "stream",
          "name": "stdout",
          "text": [
            "| epoch   1 |   500/ 1920 batches | accuracy    0.587 | loss    0.688\n",
            "| epoch   1 |  1000/ 1920 batches | accuracy    0.599 | loss    0.683\n",
            "| epoch   1 |  1500/ 1920 batches | accuracy    0.604 | loss    0.681\n",
            "-----------------------------------------------------------\n",
            "| end of epoch   1 | time: 38.82s | valid accuracy    0.575 \n",
            "-----------------------------------------------------------\n",
            "| epoch   2 |   500/ 1920 batches | accuracy    0.604 | loss    0.676\n",
            "| epoch   2 |  1000/ 1920 batches | accuracy    0.611 | loss    0.672\n",
            "| epoch   2 |  1500/ 1920 batches | accuracy    0.606 | loss    0.672\n",
            "-----------------------------------------------------------\n",
            "| end of epoch   2 | time: 37.45s | valid accuracy    0.612 \n",
            "-----------------------------------------------------------\n",
            "| epoch   3 |   500/ 1920 batches | accuracy    0.614 | loss    0.668\n",
            "| epoch   3 |  1000/ 1920 batches | accuracy    0.617 | loss    0.664\n",
            "| epoch   3 |  1500/ 1920 batches | accuracy    0.615 | loss    0.664\n",
            "-----------------------------------------------------------\n",
            "| end of epoch   3 | time: 37.67s | valid accuracy    0.613 \n",
            "-----------------------------------------------------------\n",
            "| epoch   4 |   500/ 1920 batches | accuracy    0.616 | loss    0.662\n",
            "| epoch   4 |  1000/ 1920 batches | accuracy    0.617 | loss    0.660\n",
            "| epoch   4 |  1500/ 1920 batches | accuracy    0.617 | loss    0.660\n",
            "-----------------------------------------------------------\n",
            "| end of epoch   4 | time: 37.66s | valid accuracy    0.616 \n",
            "-----------------------------------------------------------\n",
            "| epoch   5 |   500/ 1920 batches | accuracy    0.617 | loss    0.659\n",
            "| epoch   5 |  1000/ 1920 batches | accuracy    0.618 | loss    0.658\n",
            "| epoch   5 |  1500/ 1920 batches | accuracy    0.627 | loss    0.654\n",
            "-----------------------------------------------------------\n",
            "| end of epoch   5 | time: 37.64s | valid accuracy    0.606 \n",
            "-----------------------------------------------------------\n",
            "| epoch   6 |   500/ 1920 batches | accuracy    0.619 | loss    0.657\n",
            "| epoch   6 |  1000/ 1920 batches | accuracy    0.623 | loss    0.653\n",
            "| epoch   6 |  1500/ 1920 batches | accuracy    0.622 | loss    0.654\n",
            "-----------------------------------------------------------\n",
            "| end of epoch   6 | time: 37.37s | valid accuracy    0.616 \n",
            "-----------------------------------------------------------\n",
            "| epoch   7 |   500/ 1920 batches | accuracy    0.623 | loss    0.655\n",
            "| epoch   7 |  1000/ 1920 batches | accuracy    0.625 | loss    0.652\n",
            "| epoch   7 |  1500/ 1920 batches | accuracy    0.620 | loss    0.655\n",
            "-----------------------------------------------------------\n",
            "| end of epoch   7 | time: 37.38s | valid accuracy    0.615 \n",
            "-----------------------------------------------------------\n",
            "| epoch   8 |   500/ 1920 batches | accuracy    0.627 | loss    0.654\n",
            "| epoch   8 |  1000/ 1920 batches | accuracy    0.624 | loss    0.652\n",
            "| epoch   8 |  1500/ 1920 batches | accuracy    0.625 | loss    0.653\n",
            "-----------------------------------------------------------\n",
            "| end of epoch   8 | time: 38.26s | valid accuracy    0.614 \n",
            "-----------------------------------------------------------\n",
            "| epoch   9 |   500/ 1920 batches | accuracy    0.622 | loss    0.655\n",
            "| epoch   9 |  1000/ 1920 batches | accuracy    0.620 | loss    0.654\n",
            "| epoch   9 |  1500/ 1920 batches | accuracy    0.621 | loss    0.654\n",
            "-----------------------------------------------------------\n",
            "| end of epoch   9 | time: 37.63s | valid accuracy    0.614 \n",
            "-----------------------------------------------------------\n",
            "| epoch  10 |   500/ 1920 batches | accuracy    0.627 | loss    0.653\n",
            "| epoch  10 |  1000/ 1920 batches | accuracy    0.623 | loss    0.653\n",
            "| epoch  10 |  1500/ 1920 batches | accuracy    0.618 | loss    0.655\n",
            "-----------------------------------------------------------\n",
            "| end of epoch  10 | time: 37.65s | valid accuracy    0.614 \n",
            "-----------------------------------------------------------\n",
            "| epoch  11 |   500/ 1920 batches | accuracy    0.621 | loss    0.655\n",
            "| epoch  11 |  1000/ 1920 batches | accuracy    0.622 | loss    0.654\n",
            "| epoch  11 |  1500/ 1920 batches | accuracy    0.622 | loss    0.653\n",
            "-----------------------------------------------------------\n",
            "| end of epoch  11 | time: 37.67s | valid accuracy    0.614 \n",
            "-----------------------------------------------------------\n",
            "| epoch  12 |   500/ 1920 batches | accuracy    0.623 | loss    0.654\n",
            "| epoch  12 |  1000/ 1920 batches | accuracy    0.626 | loss    0.652\n",
            "| epoch  12 |  1500/ 1920 batches | accuracy    0.621 | loss    0.654\n",
            "-----------------------------------------------------------\n",
            "| end of epoch  12 | time: 36.90s | valid accuracy    0.614 \n",
            "-----------------------------------------------------------\n",
            "| epoch  13 |   500/ 1920 batches | accuracy    0.623 | loss    0.655\n",
            "| epoch  13 |  1000/ 1920 batches | accuracy    0.619 | loss    0.656\n",
            "| epoch  13 |  1500/ 1920 batches | accuracy    0.625 | loss    0.652\n",
            "-----------------------------------------------------------\n",
            "| end of epoch  13 | time: 36.82s | valid accuracy    0.614 \n",
            "-----------------------------------------------------------\n",
            "| epoch  14 |   500/ 1920 batches | accuracy    0.626 | loss    0.653\n",
            "| epoch  14 |  1000/ 1920 batches | accuracy    0.623 | loss    0.653\n",
            "| epoch  14 |  1500/ 1920 batches | accuracy    0.623 | loss    0.654\n",
            "-----------------------------------------------------------\n",
            "| end of epoch  14 | time: 37.63s | valid accuracy    0.614 \n",
            "-----------------------------------------------------------\n",
            "| epoch  15 |   500/ 1920 batches | accuracy    0.626 | loss    0.653\n",
            "| epoch  15 |  1000/ 1920 batches | accuracy    0.620 | loss    0.654\n",
            "| epoch  15 |  1500/ 1920 batches | accuracy    0.623 | loss    0.654\n",
            "-----------------------------------------------------------\n",
            "| end of epoch  15 | time: 37.53s | valid accuracy    0.614 \n",
            "-----------------------------------------------------------\n"
          ]
        }
      ]
    },
    {
      "cell_type": "code",
      "source": [
        "print('Checking the results of test dataset.')\n",
        "accu_test = evaluate(test_dataloader,log_model)\n",
        "print('test accuracy {:8.3f}'.format(accu_test))"
      ],
      "metadata": {
        "colab": {
          "base_uri": "https://localhost:8080/"
        },
        "id": "fO4jOyucppWI",
        "outputId": "9c5b0869-931a-49bb-be3f-1b1a80739e0b"
      },
      "execution_count": null,
      "outputs": [
        {
          "output_type": "stream",
          "name": "stdout",
          "text": [
            "Checking the results of test dataset.\n",
            "test accuracy    0.614\n"
          ]
        }
      ]
    },
    {
      "cell_type": "markdown",
      "source": [
        "As seen above, validation acurracy did not increase after a certain epoch value and remained at 0.614. This value is not a very good value, since the data set is half, even if 0 or 1 is given to each label, 0.5 accuracy is reached. The rise from 0.5 to 0.614 is not a big rise. Better results can be obtained if the size of the model is further increased (number of layers, number of nodes in layers). Learning rate and batch size can be chosen different too. The large difference between input nodes and hidden nodes may have a negative effect. A better result can also be achieved if the optimizer is changed. However, the best results will be achieved using pretrained word vectors."
      ],
      "metadata": {
        "id": "9ZnHHhkl6TBV"
      }
    },
    {
      "cell_type": "code",
      "source": [
        "def word_index(wrd, type,vocab_size = vocab_size):\n",
        "  word_to_embed = wrd + \"_\"\n",
        "  word_to_embed_list = []\n",
        "  word_to_embed_list.append(word_to_embed)\n",
        "  segment_word_list = segment_BPE(word_to_embed_list, symbols)\n",
        "  segment_word = segment_word_list[0]\n",
        "  index = str2int[segment_word]\n",
        "  if type == \"center\":\n",
        "    index = index\n",
        "  elif type == \"context\":\n",
        "    index = index + vocab_size\n",
        "  return index"
      ],
      "metadata": {
        "id": "xA647oQBqQiW"
      },
      "execution_count": null,
      "outputs": []
    },
    {
      "cell_type": "code",
      "source": [
        "log_model.get_embedding(word_index(\"the\", type = \"center\",vocab_size = vocab_size))"
      ],
      "metadata": {
        "colab": {
          "base_uri": "https://localhost:8080/"
        },
        "id": "A2O4LSQkyzPI",
        "outputId": "2405bd03-b69f-417d-ef41-6af025fea9ae"
      },
      "execution_count": null,
      "outputs": [
        {
          "output_type": "execute_result",
          "data": {
            "text/plain": [
              "tensor([-0.0365, -0.0435,  0.0043,  0.0048, -0.0023, -0.0749, -0.0006,  0.0050,\n",
              "        -0.0001,  0.0121,  0.0020,  0.0030,  0.0079,  0.0065,  0.0012, -0.0076,\n",
              "        -0.0022,  0.0190, -0.0036, -0.0071, -0.0100,  0.0175,  0.0044,  0.0243,\n",
              "         0.0092, -0.0145, -0.0021,  0.0029,  0.0115,  0.0063,  0.0104, -0.0448],\n",
              "       device='cuda:0')"
            ]
          },
          "metadata": {},
          "execution_count": 80
        }
      ]
    },
    {
      "cell_type": "code",
      "source": [
        "def get_similarity(word1,word2,type1,type2):\n",
        "   first_index = word_index(word1, type = type1,vocab_size = vocab_size)\n",
        "   second_index = word_index(word2, type = type2,vocab_size = vocab_size)\n",
        "   embed1 = log_model.get_embedding(first_index)\n",
        "   embed2 = log_model.get_embedding(second_index)\n",
        "   tensor1_norm = F.normalize(embed1, dim=0)\n",
        "   tensor2_norm = F.normalize(embed2, dim=0)\n",
        "   cos_sim = F.cosine_similarity(tensor1_norm.unsqueeze(0), tensor2_norm.unsqueeze(0))\n",
        "   return cos_sim"
      ],
      "metadata": {
        "id": "HbTujZRY3-0d"
      },
      "execution_count": null,
      "outputs": []
    },
    {
      "cell_type": "code",
      "source": [
        "word1 = \"lovely\"\n",
        "for i in [\"fight\",\"kissed\",\"good\",\"bad\",\"death\",\"heart\",\"hate\",\"beautiful\"]:\n",
        "  word_similarity = get_similarity(word1 = word1,word2 = i,type1 = \"center\",type2 = \"center\")\n",
        "  print(f\"Cosine similarity between {word1} and {i}: {word_similarity}\")"
      ],
      "metadata": {
        "colab": {
          "base_uri": "https://localhost:8080/"
        },
        "id": "8BxTXOQq7OYh",
        "outputId": "6713c078-f611-4e8e-8951-a7c5549e1306"
      },
      "execution_count": null,
      "outputs": [
        {
          "output_type": "stream",
          "name": "stdout",
          "text": [
            "Cosine similarity between lovely and fight: tensor([0.0956], device='cuda:0')\n",
            "Cosine similarity between lovely and kissed: tensor([0.1680], device='cuda:0')\n",
            "Cosine similarity between lovely and good: tensor([0.0427], device='cuda:0')\n",
            "Cosine similarity between lovely and bad: tensor([-0.1028], device='cuda:0')\n",
            "Cosine similarity between lovely and death: tensor([0.0224], device='cuda:0')\n",
            "Cosine similarity between lovely and heart: tensor([-0.2438], device='cuda:0')\n",
            "Cosine similarity between lovely and hate: tensor([-0.0500], device='cuda:0')\n",
            "Cosine similarity between lovely and beautiful: tensor([0.0859], device='cuda:0')\n"
          ]
        }
      ]
    },
    {
      "cell_type": "markdown",
      "source": [
        "By looking at the embedding value of the word lovely above, its closeness with different words was checked using cosine similarity. The closeness to the word death was higher than the word heart, which is very unexpected. However, as stated above, the accuracy of the model is not very high. Much better embedding values can be achieved with a better model"
      ],
      "metadata": {
        "id": "EmM4Qfgi7Pnj"
      }
    }
  ],
  "metadata": {
    "colab": {
      "provenance": [],
      "gpuType": "T4"
    },
    "kernelspec": {
      "display_name": "Python 3",
      "name": "python3"
    },
    "language_info": {
      "name": "python"
    },
    "accelerator": "GPU",
    "gpuClass": "standard"
  },
  "nbformat": 4,
  "nbformat_minor": 0
}